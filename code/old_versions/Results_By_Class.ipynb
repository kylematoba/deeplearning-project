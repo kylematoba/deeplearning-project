{
  "nbformat": 4,
  "nbformat_minor": 0,
  "metadata": {
    "colab": {
      "name": "AutoAugment_withPPO_withClasses.ipynb",
      "version": "0.3.2",
      "provenance": [],
      "collapsed_sections": []
    },
    "kernelspec": {
      "name": "python3",
      "display_name": "Python 3"
    },
    "accelerator": "GPU"
  },
  "cells": [
    {
      "metadata": {
        "id": "vnKf4f7CEkJK",
        "colab_type": "text"
      },
      "cell_type": "markdown",
      "source": [
        "## Current step:\n",
        "Select data augmentation policies using a controller model trained with Proximal Policy Optimization reinforcement learning.  \n",
        "\n",
        "Be sure that the model is improving with training, and policies which resulted in lower accuracy are less likely to be chosen."
      ]
    },
    {
      "metadata": {
        "id": "n2qztmJjIHSk",
        "colab_type": "text"
      },
      "cell_type": "markdown",
      "source": [
        "# AutoAugment with Proximal Policy Optimization\n",
        "\n"
      ]
    },
    {
      "metadata": {
        "id": "QoQlpJVkodPd",
        "colab_type": "code",
        "colab": {}
      },
      "cell_type": "code",
      "source": [
        "from keras import models, layers, backend, initializers\n",
        "import time\n",
        "\n",
        "import PIL\n",
        "import PIL, PIL.ImageOps, PIL.ImageEnhance, PIL.ImageDraw\n",
        "\n",
        "import matplotlib.pyplot as plt\n",
        "import numpy as np"
      ],
      "execution_count": 0,
      "outputs": []
    },
    {
      "metadata": {
        "id": "p_fWbZ8K6xJd",
        "colab_type": "code",
        "colab": {}
      },
      "cell_type": "code",
      "source": [
        "from sklearn import metrics"
      ],
      "execution_count": 0,
      "outputs": []
    },
    {
      "metadata": {
        "id": "W9Tpnt3Oy8I5",
        "colab_type": "code",
        "colab": {}
      },
      "cell_type": "code",
      "source": [
        "from keras import datasets\n",
        "from keras.utils import to_categorical\n",
        "np.random.seed(42)\n",
        "(XtrainFull, ytrainFull), (Xtest, ytest) = datasets.cifar10.load_data()\n",
        "ix = np.arange(len(XtrainFull))\n",
        "np.random.shuffle(ix)\n",
        "Xtrain = XtrainFull[ix[:2000]]\n",
        "ytrain = ytrainFull[ix[:2000]]\n",
        "ytrain = to_categorical(ytrain)\n",
        "\n",
        "XtrainBig = XtrainFull[ix[:-4000]]\n",
        "ytrainBig = ytrainFull[ix[:-4000]]\n",
        "ytrainBig = to_categorical(ytrainBig)\n",
        "\n",
        "\n",
        "Xval = XtrainFull[ix[-4000:]]\n",
        "yval = ytrainFull[ix[-4000:]]\n",
        "yval = to_categorical(yval)\n",
        "\n",
        "\n",
        "ytest = to_categorical(ytest)\n"
      ],
      "execution_count": 0,
      "outputs": []
    },
    {
      "metadata": {
        "id": "Lwd1wI0kxFR7",
        "colab_type": "code",
        "colab": {}
      },
      "cell_type": "code",
      "source": [
        "imageClasses = [\"airplane\",\n",
        "\"automobile\",\n",
        "\"bird\",\n",
        "\"cat\",\n",
        "\"deer\",\n",
        "\"dog\",\n",
        "\"frog\",\n",
        "\"horse\",\n",
        "\"ship\",\n",
        "\"truck\"]"
      ],
      "execution_count": 0,
      "outputs": []
    },
    {
      "metadata": {
        "id": "A4G5_GXIfIgw",
        "colab_type": "code",
        "outputId": "d5268f7c-499f-4859-80c3-a81ca9c53661",
        "colab": {
          "base_uri": "https://localhost:8080/",
          "height": 176
        }
      },
      "cell_type": "code",
      "source": [
        "plt.figure(figsize=[2,2])\n",
        "plt.imshow(Xtrain[0])"
      ],
      "execution_count": 6,
      "outputs": [
        {
          "output_type": "execute_result",
          "data": {
            "text/plain": [
              "<matplotlib.image.AxesImage at 0x7f5a2e4e2be0>"
            ]
          },
          "metadata": {
            "tags": []
          },
          "execution_count": 6
        },
        {
          "output_type": "display_data",
          "data": {
            "image/png": "[encoded data removed]",
            "text/plain": [
              "<matplotlib.figure.Figure at 0x7f5a2e50f3c8>"
            ]
          },
          "metadata": {
            "tags": []
          }
        }
      ]
    },
    {
      "metadata": {
        "id": "ac1R4xOHWIcT",
        "colab_type": "text"
      },
      "cell_type": "markdown",
      "source": [
        "## Define Image Transformations"
      ]
    },
    {
      "metadata": {
        "id": "3WEPjKY1WsyQ",
        "colab_type": "text"
      },
      "cell_type": "markdown",
      "source": [
        ""
      ]
    },
    {
      "metadata": {
        "id": "VYznOqo4ZQQ3",
        "colab_type": "code",
        "colab": {}
      },
      "cell_type": "code",
      "source": [
        "# Code below adapted from augmentation_transforms.py\n",
        "# Modified to support transforms at the image class level\n",
        "# Original copywright below:\n",
        "# Copyright 2018 The TensorFlow Authors All Rights Reserved.\n",
        "#\n",
        "# Licensed under the Apache License, Version 2.0 (the \"License\");\n",
        "# you may not use this file except in compliance with the License.\n",
        "# You may obtain a copy of the License at\n",
        "#\n",
        "#     http://www.apache.org/licenses/LICENSE-2.0\n",
        "#\n",
        "# Unless required by applicable law or agreed to in writing, software\n",
        "# distributed under the License is distributed on an \"AS IS\" BASIS,\n",
        "# WITHOUT WARRANTIES OR CONDITIONS OF ANY KIND, either express or implied.\n",
        "# See the License for the specific language governing permissions and\n",
        "# limitations under the License.\n",
        "# ==============================================================================\n",
        "IMAGE_SIZE = 32\n",
        "MEANS = [0.49139968, 0.48215841, 0.44653091]\n",
        "STDS = [0.24703223, 0.24348513, 0.26158784]\n",
        "PARAMETER_MAX = 10  # What is the max 'level' a transform could be predicted\n",
        "#def pil_wrap(img):\n",
        "#  \"\"\"Convert the `img` numpy tensor to a PIL Image.\"\"\"\n",
        "#  return PIL.Image.fromarray(\n",
        "#      np.uint8((img * STDS + MEANS) * 255.0)).convert('RGBA')\n",
        "#def pil_unwrap(pil_img):\n",
        "#  \"\"\"Converts the PIL img to a numpy array.\"\"\"\n",
        "#  pic_array = (np.array(pil_img.getdata()).reshape((32, 32, 4)) / 255.0)\n",
        "#  i1, i2 = np.where(pic_array[:, :, 3] == 0)\n",
        "#  pic_array = (pic_array[:, :, :3] - MEANS) / STDS\n",
        "#  pic_array[i1, i2] = [0, 0, 0]\n",
        "#  return pic_array\n",
        "\n",
        "\n",
        "def pil_wrap(X):\n",
        "  X = X.reshape(32, 32, 3)\n",
        "  X = np.uint8(X)\n",
        "  return PIL.Image.fromarray(X)\n",
        "def pil_unwrap(img):\n",
        "  X = np.array(img.getdata()).reshape(32, 32, 3).astype(float)\n",
        "  return X\n",
        "\n",
        "# modified from https://github.com/rpmcruz/autoaugment/blob/master/transformations.py\n",
        "def create_cutout_mask(img_height, img_width, num_channels, size):\n",
        "  \"\"\"Creates a zero mask used for cutout of shape `img_height` x `img_width`.\n",
        "  Args:\n",
        "    img_height: Height of image cutout mask will be applied to.\n",
        "    img_width: Width of image cutout mask will be applied to.\n",
        "    num_channels: Number of channels in the image.\n",
        "    size: Size of the zeros mask.\n",
        "  Returns:\n",
        "    A mask of shape `img_height` x `img_width` with all ones except for a\n",
        "    square of zeros of shape `size` x `size`. This mask is meant to be\n",
        "    elementwise multiplied with the original image. Additionally returns\n",
        "    the `upper_coord` and `lower_coord` which specify where the cutout mask\n",
        "    will be applied.\n",
        "  \"\"\"\n",
        "  assert img_height == img_width\n",
        "  # Sample center where cutout mask will be applied\n",
        "  height_loc = np.random.randint(low=0, high=img_height)\n",
        "  width_loc = np.random.randint(low=0, high=img_width)\n",
        "  # Determine upper right and lower left corners of patch\n",
        "  upper_coord = (max(0, height_loc - size // 2), max(0, width_loc - size // 2))\n",
        "  lower_coord = (min(img_height, height_loc + size // 2),\n",
        "                 min(img_width, width_loc + size // 2))\n",
        "  mask_height = lower_coord[0] - upper_coord[0]\n",
        "  mask_width = lower_coord[1] - upper_coord[1]\n",
        "  assert mask_height > 0\n",
        "  assert mask_width > 0\n",
        "  mask = np.ones((img_height, img_width, num_channels))\n",
        "  zeros = np.zeros((mask_height, mask_width, num_channels))\n",
        "  mask[upper_coord[0]:lower_coord[0], upper_coord[1]:lower_coord[1], :] = (\n",
        "      zeros)\n",
        "  return mask, upper_coord, lower_coord\n",
        "def cutout_numpy(img, size=16):\n",
        "  \"\"\"Apply cutout with mask of shape `size` x `size` to `img`.\n",
        "  The cutout operation is from the paper https://arxiv.org/abs/1708.04552.\n",
        "  This operation applies a `size`x`size` mask of zeros to a random location\n",
        "  within `img`.\n",
        "  Args:\n",
        "    img: Numpy image that cutout will be applied to.\n",
        "    size: Height/width of the cutout mask that will be\n",
        "  Returns:\n",
        "    A numpy tensor that is the result of applying the cutout mask to `img`.\n",
        "  \"\"\"\n",
        "  img_height, img_width, num_channels = (img.shape[0], img.shape[1],\n",
        "                                         img.shape[2])\n",
        "  assert len(img.shape) == 3\n",
        "  mask, _, _ = create_cutout_mask(img_height, img_width, num_channels, size)\n",
        "  return img * mask\n",
        "def float_parameter(level, maxval):\n",
        "  \"\"\"Helper function to scale `val` between 0 and maxval .\n",
        "  Args:\n",
        "    level: Level of the operation that will be between [0, `PARAMETER_MAX`].\n",
        "    maxval: Maximum value that the operation can have. This will be scaled\n",
        "      to level/PARAMETER_MAX.\n",
        "  Returns:\n",
        "    A float that results from scaling `maxval` according to `level`.\n",
        "  \"\"\"\n",
        "  return float(level) * maxval / PARAMETER_MAX\n",
        "def int_parameter(level, maxval):\n",
        "  \"\"\"Helper function to scale `val` between 0 and maxval .\n",
        "  Args:\n",
        "    level: Level of the operation that will be between [0, `PARAMETER_MAX`].\n",
        "    maxval: Maximum value that the operation can have. This will be scaled\n",
        "      to level/PARAMETER_MAX.\n",
        "  Returns:\n",
        "    An int that results from scaling `maxval` according to `level`.\n",
        "  \"\"\"\n",
        "  return int(level * maxval / PARAMETER_MAX)\n",
        "def _cutout_pil_impl(pil_img, level):\n",
        "  \"\"\"Apply cutout to pil_img at the specified level.\"\"\"\n",
        "  size = int_parameter(level, 20)\n",
        "  if size <= 0:\n",
        "    return pil_img\n",
        "  img_height, img_width, num_channels = (32, 32, 3)\n",
        "  _, upper_coord, lower_coord = (\n",
        "      create_cutout_mask(img_height, img_width, num_channels, size))\n",
        "  pixels = pil_img.load()  # create the pixel map\n",
        "  for i in range(upper_coord[0], lower_coord[0]):  # for every col:\n",
        "    for j in range(upper_coord[1], lower_coord[1]):  # For every row\n",
        "      pixels[i, j] = (125, 122, 113, 0)  # set the colour accordingly\n",
        "  return pil_img\n",
        "def _enhancer_impl(enhancer):\n",
        "  \"\"\"Sets level to be between 0.1 and 1.8 for ImageEnhance transforms of PIL.\"\"\"\n",
        "  def impl(pil_img, level):\n",
        "    v = float_parameter(level, 1.8) + .1  # going to 0 just destroys it\n",
        "    return enhancer(pil_img).enhance(v)\n",
        "  return impl\n",
        "# =============================================================================\n",
        "def ShearX(img, v):  # [-0.3, 0.3]\n",
        "    v = float_parameter(v, 0.3)\n",
        "    if np.random.random() > 0.5:\n",
        "      v = -v\n",
        "    return img.transform(img.size, PIL.Image.AFFINE, (1, v, 0, 0, 1, 0))\n",
        "  \n",
        "def ShearY(img, v):  # [-0.3, 0.3]\n",
        "    v = float_parameter(v, 0.3)\n",
        "    if np.random.random() > 0.5:\n",
        "      v = -v\n",
        "    return img.transform(img.size, PIL.Image.AFFINE, (1, 0, 0, v, 1, 0))  \n",
        "  \n",
        "def TranslateX(img, v):  # [-150, 150] => percentage: [-0.45, 0.45]\n",
        "    v = int_parameter(v, 10)\n",
        "    if np.random.random() > 0.5:\n",
        "      v = -v\n",
        "    return img.transform((32, 32), PIL.Image.AFFINE, (1, 0, v, 0, 1, 0))\n",
        "def TranslateY(img, v):  # [-150, 150] => percentage: [-0.45, 0.45]\n",
        "    v = int_parameter(v, 10)\n",
        "    if np.random.random() > 0.5:\n",
        "      v = -v\n",
        "    return img.transform((32, 32), PIL.Image.AFFINE, (1, 0, 0, 0, 1, v))\n",
        "def Rotate(img, v):  # [-30, 30]\n",
        "    v = int_parameter(v, 30)\n",
        "    if np.random.random() > 0.5:\n",
        "      v = -v\n",
        "    return img.rotate(v)\n",
        "def AutoContrast(img, _):\n",
        "    #return PIL.ImageOps.autocontrast(img.convert('RGB')).convert('RGBA')\n",
        "    return PIL.ImageOps.autocontrast(img)\n",
        "def Invert(img, _):\n",
        "    #return PIL.ImageOps.invert(img.convert('RGB')).convert('RGBA')\n",
        "    return PIL.ImageOps.invert(img)\n",
        "def Equalize(img, _):\n",
        "    #return PIL.ImageOps.equalize(img.convert('RGB')).convert('RGBA')\n",
        "    return PIL.ImageOps.equalize(img)\n",
        "def Flip_LR(img, _):  # not from the paper\n",
        "    return img.transpose(PIL.Image.FLIP_LEFT_RIGHT)\n",
        "def Flip_UD(img, _):\n",
        "    return img.transpose(PIL.Image.FLIP_TOP_BOTTOM)\n",
        "  \n",
        "def Solarize(img, v):  # [0, 256]\n",
        "    v = int_parameter(v, 256)\n",
        "    #return PIL.ImageOps.solarize(img.convert('RGB'), 256 - v).convert('RGBA')\n",
        "    return PIL.ImageOps.solarize(img, 256 - v)\n",
        "def Posterize(img, v):  # [4, 8]\n",
        "    v = int_parameter(v, 4)\n",
        "    #return PIL.ImageOps.posterize(img.convert('RGB'), 4 - v).convert('RGBA')\n",
        "    return PIL.ImageOps.posterize(img, 4 - v)\n",
        "def Contrast(img, v):  # [0.1,1.9]\n",
        "    return _enhancer_impl(PIL.ImageEnhance.Contrast)(img, v)\n",
        "def Blur(img, v):\n",
        "    return img.filter(PIL.ImageFilter.BLUR)\n",
        "  \n",
        "def Color(img, v):  # [0.1,1.9]\n",
        "    return _enhancer_impl(PIL.ImageEnhance.Color)(img, v)\n",
        "def Smooth(img, v):\n",
        "    return img.filter(PIL.ImageFilter.SMOOTH)\n",
        "  \n",
        "def Brightness(img, v):  # [0.1,1.9]\n",
        "    return _enhancer_impl(PIL.ImageEnhance.Brightness)(img, v)\n",
        "def Sharpness(img, v):  # [0.1,1.9]\n",
        "    return _enhancer_impl(PIL.ImageEnhance.Sharpness)(img, v)\n",
        "def Cutout(img, v):  # [0, 60] => percentage: [0, 0.2]\n",
        "    return _cutout_pil_impl(img, v)\n",
        "def Crop(img, v, interpolation=PIL.Image.BILINEAR):\n",
        "    cropped = img.crop((v, v, IMAGE_SIZE - v, IMAGE_SIZE - v))\n",
        "    resized = cropped.resize((IMAGE_SIZE, IMAGE_SIZE), interpolation)\n",
        "    return resized\n",
        "def Identity(img, v):\n",
        "  return img\n",
        "  \n",
        "# opmap = {\n",
        "#     'Flip_LR' : Flip_LR,\n",
        "#     'Flip_UD' : Flip_UD,\n",
        "#     'AutoContrast' : AutoContrast,\n",
        "#     'Equalize' : Equalize,\n",
        "#     'Invert' : Invert,\n",
        "#     'Rotate' : Rotate,\n",
        "#     'Posterize' : Posterize,\n",
        "#     'Crop' : Crop,\n",
        "#     'Solarize' : Solarize,\n",
        "#     'Color' : Color,\n",
        "#     'Contrast' : Contrast,\n",
        "#     'Brightness' : Brightness,\n",
        "#     'Sharpness' : Sharpness,\n",
        "#     'ShearX' : ShearX,\n",
        "#     'ShearY' : ShearY,\n",
        "#     'TranslateX' : TranslateX,\n",
        "#     'TranslateY' : TranslateY,\n",
        "#     'Cutout' : Cutout,\n",
        "#     'Blur' : Blur,\n",
        "#     'Smooth' : Smooth,\n",
        "#     'Identity': Identity\n",
        "    \n",
        "# }\n",
        "# transformList = list(opmap.values())"
      ],
      "execution_count": 0,
      "outputs": []
    },
    {
      "metadata": {
        "id": "I7d810Q7hD8k",
        "colab_type": "code",
        "colab": {}
      },
      "cell_type": "code",
      "source": [
        "opmap = {\n",
        "    'Flip_LR' : Flip_LR,\n",
        "    'Rotate' : Rotate,\n",
        "    'Solarize' : Solarize,\n",
        "    'ShearY' : ShearY,\n",
        "    'TranslateX' : TranslateX,\n",
        "    'TranslateY' : TranslateY,\n",
        "    'Identity': Identity\n",
        "    \n",
        "}\n",
        "transformList = list(opmap.values())\n",
        "\n"
      ],
      "execution_count": 0,
      "outputs": []
    },
    {
      "metadata": {
        "id": "1CK-7Ynv62OR",
        "colab_type": "code",
        "outputId": "076b33c5-e033-4da1-ed58-c3f0059d1714",
        "colab": {
          "base_uri": "https://localhost:8080/",
          "height": 35
        }
      },
      "cell_type": "code",
      "source": [
        "len(transformList)"
      ],
      "execution_count": 9,
      "outputs": [
        {
          "output_type": "execute_result",
          "data": {
            "text/plain": [
              "7"
            ]
          },
          "metadata": {
            "tags": []
          },
          "execution_count": 9
        }
      ]
    },
    {
      "metadata": {
        "id": "CWNOhYjeWNwd",
        "colab_type": "text"
      },
      "cell_type": "markdown",
      "source": [
        "## Define Operation, Subpolicy classes, autoaugment generator"
      ]
    },
    {
      "metadata": {
        "id": "U1MObQJ_rBUw",
        "colab_type": "code",
        "colab": {}
      },
      "cell_type": "code",
      "source": [
        "\n",
        "def autoaugment(X, Y, transforms, probabilities=None, batch_size=32, nClasses=None):\n",
        "  if probabilities is None:\n",
        "    assert nClasses is not None\n",
        "    probabilities = np.ones([nClasses, len(transforms)])\n",
        "  normalizedProbs = probabilities / probabilities.sum(axis=1)[:, np.newaxis]\n",
        "  while True:\n",
        "      ix = np.arange(len(X))\n",
        "      np.random.shuffle(ix)\n",
        "      for i in range(len(X) // batch_size):\n",
        "          _ix = ix[i*batch_size:(i+1)*batch_size]\n",
        "          _X = X[_ix]\n",
        "          _Y = Y[_ix]\n",
        "          \n",
        "          \n",
        "          transformedX = []\n",
        "          for j in range(len(_X)):\n",
        "            whichClass = np.argmax(_Y[j])\n",
        "            probs = normalizedProbs[whichClass]\n",
        "            magnitude = np.random.choice(10)\n",
        "            whichTransform = np.random.choice(transforms, p=probs)\n",
        "\n",
        "            pilX = PIL.Image.fromarray(_X[j])\n",
        "            pilX = whichTransform(pilX, magnitude)\n",
        "            transformedX.append(np.array(pilX))\n",
        "          yield np.array(transformedX), _Y\n"
      ],
      "execution_count": 0,
      "outputs": []
    },
    {
      "metadata": {
        "id": "lzDqOMvrWXcS",
        "colab_type": "text"
      },
      "cell_type": "markdown",
      "source": [
        "## Display the transformations\n",
        "### (Just to see what they look like)"
      ]
    },
    {
      "metadata": {
        "id": "uNcBckm6y4_G",
        "colab_type": "code",
        "outputId": "551ad733-a814-45a4-de25-054eed146c54",
        "colab": {
          "base_uri": "https://localhost:8080/",
          "height": 250
        }
      },
      "cell_type": "code",
      "source": [
        "plt.figure(figsize=[10,8])\n",
        "\n",
        "for i, op in enumerate(opmap):\n",
        "  newX = opmap[op](PIL.Image.fromarray(Xtrain[0]), 5)\n",
        "  plt.subplot(5,5, i+1)\n",
        "  plt.title(op)\n",
        "  plt.imshow(newX)\n",
        "plt.tight_layout()"
      ],
      "execution_count": 11,
      "outputs": [
        {
          "output_type": "display_data",
          "data": {
            "image/png": "[encoded data removed]",
            "text/plain": [
              "<matplotlib.figure.Figure at 0x7f5a2bc62908>"
            ]
          },
          "metadata": {
            "tags": []
          }
        }
      ]
    },
    {
      "metadata": {
        "id": "9H1a6-1TOdgP",
        "colab_type": "code",
        "colab": {}
      },
      "cell_type": "code",
      "source": [
        "from keras.models import Sequential\n",
        "from keras.layers import Dense, Dropout, Flatten\n",
        "from keras.losses import categorical_crossentropy\n",
        "from keras.layers import Conv2D, MaxPooling2D\n",
        "from keras.optimizers import rmsprop\n",
        "\n",
        "class Child():\n",
        "  def __init__(self, epochs=128, batchSize=500, inputShape=[32,32,3],\n",
        "              num_classes=10, lr=1e-4):\n",
        "    # architecture from: https://github.com/keras-team/keras/blob/master/examples/cifar10_cnn.py\n",
        "\n",
        "    self.epochs = epochs\n",
        "    self.batchSize = batchSize\n",
        "    self.inputShape = inputShape\n",
        "    self.lr = lr\n",
        "  \n",
        "    model = Sequential()\n",
        "    model.add(Conv2D(32, (3, 3), padding='same',\n",
        "                     input_shape=inputShape, activation='relu'))\n",
        "    model.add(Conv2D(32, (3, 3), activation='relu'))\n",
        "    model.add(MaxPooling2D(pool_size=(2, 2)))\n",
        "    model.add(Dropout(0.25))\n",
        "\n",
        "    model.add(Conv2D(64, (3, 3), padding='same', activation='relu'))\n",
        "    model.add(Conv2D(64, (3, 3), activation='relu'))\n",
        "    model.add(MaxPooling2D(pool_size=(2, 2)))\n",
        "    model.add(Dropout(0.25))\n",
        "\n",
        "    model.add(Flatten())\n",
        "    model.add(Dense(512, activation='relu'))\n",
        "    model.add(Dropout(0.5))\n",
        "    model.add(Dense(num_classes, activation='softmax'))\n",
        "\n",
        "      \n",
        "    # initiate RMSprop optimizer\n",
        "    opt = rmsprop(lr=self.lr, decay=1e-6)\n",
        "\n",
        "    # Let's train the model using RMSprop\n",
        "    model.compile(loss='categorical_crossentropy',\n",
        "                 optimizer=opt,\n",
        "                 metrics=['accuracy'])\n",
        "    self.model = model\n",
        "\n",
        "  def fit(self, generator, stepsPerEpoch, verbose=0):\n",
        "    self.model.fit_generator(generator,\n",
        "                             steps_per_epoch = stepsPerEpoch,\n",
        "                             epochs=self.epochs,\n",
        "                             use_multiprocessing=False,\n",
        "                             verbose=verbose)\n",
        "\n",
        "  def evaluateByClass(self, X, Y):\n",
        "    \"\"\"\n",
        "    Predicts Y and returns the F1 score for each image class\n",
        "    \"\"\"\n",
        "    prediction = self.model.predict(X)\n",
        "    y_pred = np.argmax(prediction, axis=1)\n",
        "    y_true = np.argmax(Y, axis=1)\n",
        "    \n",
        "    precision, recall, fbeta, support = metrics.precision_recall_fscore_support(\n",
        "                                        y_true, y_pred)\n",
        "    \n",
        "    return recall\n",
        "    \n",
        "  \n",
        "  def evaluate(self, X, Y, verbose=0):\n",
        "    \"\"\"\n",
        "    Returns the overall accuracy of the model on all\n",
        "    passed validation data\n",
        "    \"\"\"\n",
        "    return self.model.evaluate(X, Y, verbose=verbose)[1]\n",
        "    \n",
        "\n"
      ],
      "execution_count": 0,
      "outputs": []
    },
    {
      "metadata": {
        "id": "4RRPV362sYBx",
        "colab_type": "code",
        "colab": {}
      },
      "cell_type": "code",
      "source": [
        "from keras import models, layers, initializers\n",
        "import tensorflow as tf\n",
        "\n",
        "    \n",
        "class Controller():\n",
        "  \n",
        "    def __init__(self, nClasses=10, transformsPicked=None, transforms={},\n",
        "                 lstmUnits=100, denseUnits=100, epochs=8,\n",
        "                 minibatchSize=8, lr=1e-2, epsilon = .4,\n",
        "                ):\n",
        "\n",
        "      \"\"\"\n",
        "      Controller object which generates transformation policies      \n",
        "      \n",
        "      Consists of a neural net which takes a constant \"dummy\" input state\n",
        "      Feeds through a LSTM, then a set of parallel dense layers with\n",
        "      softmax activation.  \n",
        "      \n",
        "      Each image class has a softmax layer nTransforms long, from which \n",
        "      we sample transformsPicked times. The more often a transform is sampled,\n",
        "      the more frequently the image class will be put through that transform\n",
        "      during data augmentation\n",
        "\n",
        "      Args:\n",
        "      \n",
        "      nClasses: int for how many different classes to produce probabilities for\n",
        "\n",
        "      transformsPicked: int or None, indicating how many discrete samples to \n",
        "                        draw from each softmax probabiliites. If None, will \n",
        "                        default to the number of transforms\n",
        "      transforms: \n",
        "      \n",
        "      lstmUnits: The output dimension of the LSTM encoder\n",
        "      denseUnits: The number of nodes in a dense layer after the LSTM. Can\n",
        "                  be int or None\n",
        "      \n",
        "      minibatchSize: How many times to sample policies and train a child model\n",
        "                     before fitting\n",
        "                     \n",
        "      lr: Learning rate for the controller net\n",
        "      \n",
        "      transforms: a list image transform Operation objects\n",
        "\n",
        "      nProbabilities: How many evenly-spaced discrete probability values will \n",
        "                      be considered: 11 means that each operation will have a \n",
        "                      0%, 10%, 20% ... 80%, 90%, or 100% of being applied.\n",
        "                      \n",
        "                   \n",
        "      \"\"\"\n",
        "      \n",
        "      self.nClasses = nClasses\n",
        "      self.lstmUnits = lstmUnits\n",
        "      self.denseUnits = denseUnits\n",
        "      self.minibatchSize = minibatchSize\n",
        "      self.lr = lr\n",
        "      self.epochs=epochs\n",
        "      self.transforms = transforms\n",
        "      self.nTransforms = len(transforms)\n",
        "\n",
        "      self.transformsPicked = transformsPicked\n",
        "      if transformsPicked is None:\n",
        "        self.transformsPicked = self.nTransforms\n",
        "      \n",
        "      \n",
        "      self.softmaxCache = None\n",
        "      self.epsilon = tf.constant(epsilon, dtype=tf.float32)\n",
        "      self.buildModel()\n",
        "      \n",
        "    def buildModel(self):\n",
        "\n",
        "      \"\"\"\n",
        "      Builds the neural net to generate policy probabilities.\n",
        "      \n",
        "      Starts with a dummy state input, goes through an LSTM layer\n",
        "      and a dense layer, which outputs a number of dense, softmax layers\n",
        "      \n",
        "      Uses Adam optimizer, and Clipped PPO\n",
        "      \"\"\"\n",
        "\n",
        "\n",
        "      self.softmaxOutputs = []\n",
        "      \n",
        "      \n",
        "      # *************\n",
        "        \n",
        "      self.input_ph = tf.keras.Input(shape=(1,1),\n",
        "                                     dtype=tf.float32,\n",
        "                                     name='inputLayer')\n",
        "\n",
        "      self.lstmLayer = tf.keras.layers.CuDNNLSTM(\n",
        "                            units=self.lstmUnits,\n",
        "                            return_sequences=True,\n",
        "                            name='controller')\n",
        "\n",
        "      activity = self.lstmLayer(self.input_ph)\n",
        "      if self.denseUnits is not None:\n",
        "        activity = tf.keras.layers.Dense(self.denseUnits,\n",
        "                                         activation='relu',\n",
        "                                        name='hidden_dense')(activity)\n",
        "\n",
        "      for i in range(self.nClasses):\n",
        "          nextSoftmax = tf.keras.layers.Dense(self.nTransforms,\n",
        "                                          activation='softmax',\n",
        "                                          name='class_'+str(i))\n",
        "          self.softmaxOutputs.append(nextSoftmax(activity))\n",
        "          \n",
        "          \n",
        "      allSoftmaxes = tf.stack(self.softmaxOutputs, axis=3)\n",
        "      allSoftmaxes = tf.squeeze(allSoftmaxes)\n",
        "      # This is now a tensor of shape [nBatch, nTransforms, nClasses]\n",
        "      \n",
        "      self.sampled_ph = tf.keras.backend.placeholder(\n",
        "                           shape=(self.nTransforms, self.nClasses),\n",
        "                           dtype=tf.float32,\n",
        "                           name='sampled_ph')\n",
        "      # Indicates what proportion of transforms was chosen\n",
        "      \n",
        "\n",
        "      self.score_ph = tf.keras.backend.placeholder(shape=(1, self.nClasses),\n",
        "                                                   dtype=tf.float32,\n",
        "                                                  name='scores_ph')\n",
        "      # [nBatch, 1, nClasses]\n",
        "      \n",
        "\n",
        "      newLogProbs = tf.reduce_sum(tf.log(allSoftmaxes) * self.sampled_ph)\n",
        "      # Indicates the log probability of selecting the policy indicated\n",
        "      # by self.selected_ph, according to the current softmaxes\n",
        "      # shape [nBatch]\n",
        "      \n",
        "      \n",
        "      self.prevLogProb_ph = tf.keras.backend.placeholder(shape=(1),\n",
        "                                                         dtype=tf.float32,\n",
        "                                                        name='prevLogPs_ph')\n",
        "      \n",
        "      differenceRatio = tf.exp(newLogProbs - self.prevLogProb_ph)\n",
        "      \n",
        "      clippedDifferenceRatio = tf.clip_by_value(differenceRatio,\n",
        "                                                1-self.epsilon,\n",
        "                                                1+self.epsilon)\n",
        "      \n",
        "      unClippedRatioScore = differenceRatio * self.score_ph\n",
        "      clippedRatioScore = clippedDifferenceRatio * self.score_ph\n",
        "            \n",
        "      finalScore = tf.minimum(unClippedRatioScore, clippedRatioScore)\n",
        "      \n",
        "      loss = -tf.reduce_mean(finalScore)\n",
        "      self.optimizer = tf.train.AdamOptimizer(learning_rate=self.lr).minimize(loss)      \n",
        "\n",
        "    def fit(self, selections, scores, logPs):\n",
        "      \"\"\"\n",
        "      Fits the model based on a batch of data tuples,\n",
        "      (selections, score, logPs)\n",
        "\n",
        "      Args:\n",
        "        selections: a list of nIterations arrays [nClasses, nTransforms] \n",
        "        indicating the ratio of which transforms were applied to each image class\n",
        "\n",
        "        scores: an np.ndarray of shape [nIterations, nClasses] indicating the\n",
        "        f1 score of each image class in that iteration\n",
        "\n",
        "        logPs: a list of nIterations floats indicating the log likelihood of\n",
        "        the controller producing each selection according to the softmax values\n",
        "        at the time it was produced\n",
        "      \n",
        "      \"\"\"\n",
        "      \n",
        "      scoreMeans = scores.mean(axis=0)\n",
        "      scoreStds = scores.std(axis=0)\n",
        "      normalizedScores = scores - scoreMeans\n",
        "      normalizedScores = normalizedScores / scoreStds\n",
        "      \n",
        "      session = backend.get_session()\n",
        "      assert len(selections) >= self.minibatchSize\n",
        "      assert len(scores) >= self.minibatchSize\n",
        "      assert len(logPs) >= self.minibatchSize\n",
        "      \n",
        "      for i in range(self.epochs):\n",
        "        for selection, score, logP in zip(selections[-self.minibatchSize:],\n",
        "                                         normalizedScores[-self.minibatchSize:],\n",
        "                                         logPs[-self.minibatchSize:]):\n",
        "          fd = {}\n",
        "          fd[self.prevLogProb_ph] = logP\n",
        "          fd[self.sampled_ph] = selection.T\n",
        "          fd[self.score_ph] = score\n",
        "          fd[self.input_ph] = np.zeros([1,1,1])\n",
        "          session.run(self.optimizer, feed_dict=fd)\n",
        "      self.softmaxCache = None\n",
        "      \n",
        "      return self\n",
        "    \n",
        "    def getSoftmaxes(self):\n",
        "      session = backend.get_session()\n",
        "      softmaxes = session.run(self.softmaxOutputs,\n",
        "                              feed_dict={self.input_ph:np.zeros([1,1,1])})\n",
        "      softmaxes = [np.squeeze(s) for s in softmaxes]\n",
        "      self.softmaxCache = softmaxes\n",
        "      \n",
        "      return softmaxes\n",
        "   \n",
        "    def getPolicy(self, softmaxes=None):\n",
        "      \"\"\"\n",
        "      Using the softmax outputs from the model's current weights (or passed\n",
        "      softmax), \n",
        "      Draws self.transformsPicked samples from each image's softmax \n",
        "      probabilities treating them as a multinomial distribution.\n",
        "      Returns this matrix of samples and the log probability of generating\n",
        "      this exact policy.\n",
        "      \"\"\"\n",
        "      if softmaxes is None:\n",
        "        if self.softmaxCache is None:\n",
        "          softmaxes = self.getSoftmaxes()\n",
        "        else:\n",
        "          softmaxes = self.softmaxCache\n",
        "      \n",
        "      selections = []\n",
        "      logProbs = []\n",
        "      for pvalues in softmaxes:\n",
        "        selections.append(np.random.multinomial(self.transformsPicked,\n",
        "                                               pvals=pvalues))\n",
        "        logP = np.log(pvalues)\n",
        "        logProbs.append((selections[-1] * logP).sum())\n",
        "\n",
        "      return np.array(selections), np.array(logProbs).sum()\n",
        "\n"
      ],
      "execution_count": 0,
      "outputs": []
    },
    {
      "metadata": {
        "colab_type": "code",
        "outputId": "481ceccd-f62e-44ac-b0fe-629d09057d66",
        "id": "k0yQDKlHNcN4",
        "colab": {
          "base_uri": "https://localhost:8080/",
          "height": 52
        }
      },
      "cell_type": "code",
      "source": [
        "print ('Preparing Controller')\n",
        "tic = time.time()\n",
        "controller = Controller(transforms=transformList, transformsPicked=10,\n",
        "                        minibatchSize=4, epochs=16, epsilon=.3, lr=3e-2)\n",
        "toc = time.time()\n",
        "print (\"Controller ready, took %ds\" % (toc-tic))\n",
        "\n"
      ],
      "execution_count": 29,
      "outputs": [
        {
          "output_type": "stream",
          "text": [
            "Preparing Controller\n",
            "Controller ready, took 2s\n"
          ],
          "name": "stdout"
        }
      ]
    },
    {
      "metadata": {
        "id": "6Zw4k4x3n6qa",
        "colab_type": "code",
        "colab": {}
      },
      "cell_type": "code",
      "source": [
        "\n",
        "recallScores = []\n",
        "selectedSamples = []\n",
        "logProbs = []\n",
        "savedSoftmaxes = []\n"
      ],
      "execution_count": 0,
      "outputs": []
    },
    {
      "metadata": {
        "id": "ndGPyxTVzMj2",
        "colab_type": "code",
        "outputId": "49d8b61e-f98b-4644-c328-98c87b94d707",
        "colab": {
          "base_uri": "https://localhost:8080/",
          "height": 1668
        }
      },
      "cell_type": "code",
      "source": [
        "\n",
        "for i in range(16):\n",
        "  print (\"Iteration %d\" % i)\n",
        "  softmaxes = controller.getSoftmaxes()\n",
        "  savedSoftmaxes.append(softmaxes)\n",
        "  \n",
        "  for policySample in range(controller.minibatchSize):\n",
        "    transformSample, logP = controller.getPolicy(softmaxes)\n",
        "    \n",
        "    logProbs.append([logP])\n",
        "    selectedSamples.append(transformSample)\n",
        "    \n",
        "    child = Child(epochs=64, batchSize=1000)\n",
        "\n",
        "    tic = time.time()\n",
        "\n",
        "    aug = autoaugment(Xtrain, ytrain, transformList,\n",
        "                  probabilities=transformSample, batch_size=child.batchSize)\n",
        "\n",
        "    child.fit(aug, len(Xtrain) // child.batchSize)\n",
        "    toc = time.time()\n",
        "\n",
        "    scores = child.evaluateByClass(Xval, yval)\n",
        "    print('-> Child average recall: %.3f (elaspsed time: %ds)' % (scores.mean(),\n",
        "                                                                   (toc-tic)))\n",
        "    recallScores.append(scores)\n",
        "  \n",
        "  controller.fit(selectedSamples, np.array(recallScores)[:,np.newaxis,:], np.array(logProbs))\n"
      ],
      "execution_count": 31,
      "outputs": [
        {
          "output_type": "stream",
          "text": [
            "Iteration 0\n",
            "-> Child average recall: 0.338 (elaspsed time: 32s)\n",
            "-> Child average recall: 0.319 (elaspsed time: 32s)\n",
            "-> Child average recall: 0.285 (elaspsed time: 32s)\n",
            "-> Child average recall: 0.326 (elaspsed time: 32s)\n",
            "Iteration 1\n",
            "-> Child average recall: 0.259 (elaspsed time: 32s)\n",
            "-> Child average recall: 0.305 (elaspsed time: 32s)\n",
            "-> Child average recall: 0.299 (elaspsed time: 32s)\n",
            "-> Child average recall: 0.325 (elaspsed time: 32s)\n",
            "Iteration 2\n",
            "-> Child average recall: 0.343 (elaspsed time: 31s)\n",
            "-> Child average recall: 0.309 (elaspsed time: 32s)\n",
            "-> Child average recall: 0.260 (elaspsed time: 31s)\n",
            "-> Child average recall: 0.305 (elaspsed time: 32s)\n",
            "Iteration 3\n",
            "-> Child average recall: 0.228 (elaspsed time: 31s)\n",
            "-> Child average recall: 0.267 (elaspsed time: 32s)\n",
            "-> Child average recall: 0.315 (elaspsed time: 32s)\n",
            "-> Child average recall: 0.286 (elaspsed time: 33s)\n",
            "Iteration 4\n",
            "-> Child average recall: 0.321 (elaspsed time: 33s)\n",
            "-> Child average recall: 0.345 (elaspsed time: 33s)\n",
            "-> Child average recall: 0.276 (elaspsed time: 33s)\n",
            "-> Child average recall: 0.284 (elaspsed time: 33s)\n",
            "Iteration 5\n",
            "-> Child average recall: 0.340 (elaspsed time: 33s)\n",
            "-> Child average recall: 0.305 (elaspsed time: 33s)\n",
            "-> Child average recall: 0.299 (elaspsed time: 33s)\n",
            "-> Child average recall: 0.254 (elaspsed time: 33s)\n",
            "Iteration 6\n",
            "-> Child average recall: 0.355 (elaspsed time: 35s)\n",
            "-> Child average recall: 0.311 (elaspsed time: 34s)\n",
            "-> Child average recall: 0.339 (elaspsed time: 33s)\n",
            "-> Child average recall: 0.305 (elaspsed time: 34s)\n",
            "Iteration 7\n",
            "-> Child average recall: 0.274 (elaspsed time: 34s)\n",
            "-> Child average recall: 0.207 (elaspsed time: 35s)\n",
            "-> Child average recall: 0.316 (elaspsed time: 34s)\n",
            "-> Child average recall: 0.316 (elaspsed time: 35s)\n",
            "Iteration 8\n"
          ],
          "name": "stdout"
        },
        {
          "output_type": "error",
          "ename": "KeyboardInterrupt",
          "evalue": "ignored",
          "traceback": [
            "\u001b[0;31m---------------------------------------------------------------------------\u001b[0m",
            "\u001b[0;31mKeyboardInterrupt\u001b[0m                         Traceback (most recent call last)",
            "\u001b[0;32m<ipython-input-31-0426d8ba3264>\u001b[0m in \u001b[0;36m<module>\u001b[0;34m()\u001b[0m\n\u001b[1;32m     21\u001b[0m     \u001b[0mtoc\u001b[0m \u001b[0;34m=\u001b[0m \u001b[0mtime\u001b[0m\u001b[0;34m.\u001b[0m\u001b[0mtime\u001b[0m\u001b[0;34m(\u001b[0m\u001b[0;34m)\u001b[0m\u001b[0;34m\u001b[0m\u001b[0;34m\u001b[0m\u001b[0m\n\u001b[1;32m     22\u001b[0m \u001b[0;34m\u001b[0m\u001b[0m\n\u001b[0;32m---> 23\u001b[0;31m     \u001b[0mscores\u001b[0m \u001b[0;34m=\u001b[0m \u001b[0mchild\u001b[0m\u001b[0;34m.\u001b[0m\u001b[0mevaluateByClass\u001b[0m\u001b[0;34m(\u001b[0m\u001b[0mXval\u001b[0m\u001b[0;34m,\u001b[0m \u001b[0myval\u001b[0m\u001b[0;34m)\u001b[0m\u001b[0;34m\u001b[0m\u001b[0;34m\u001b[0m\u001b[0m\n\u001b[0m\u001b[1;32m     24\u001b[0m     print('-> Child average recall: %.3f (elaspsed time: %ds)' % (scores.mean(),\n\u001b[1;32m     25\u001b[0m                                                                    (toc-tic)))\n",
            "\u001b[0;32m<ipython-input-26-26f9ae60cb74>\u001b[0m in \u001b[0;36mevaluateByClass\u001b[0;34m(self, X, Y)\u001b[0m\n\u001b[1;32m     53\u001b[0m     \u001b[0mPredicts\u001b[0m \u001b[0mY\u001b[0m \u001b[0;32mand\u001b[0m \u001b[0mreturns\u001b[0m \u001b[0mthe\u001b[0m \u001b[0mF1\u001b[0m \u001b[0mscore\u001b[0m \u001b[0;32mfor\u001b[0m \u001b[0meach\u001b[0m \u001b[0mimage\u001b[0m \u001b[0;32mclass\u001b[0m\u001b[0;34m\u001b[0m\u001b[0;34m\u001b[0m\u001b[0m\n\u001b[1;32m     54\u001b[0m     \"\"\"\n\u001b[0;32m---> 55\u001b[0;31m     \u001b[0mprediction\u001b[0m \u001b[0;34m=\u001b[0m \u001b[0mself\u001b[0m\u001b[0;34m.\u001b[0m\u001b[0mmodel\u001b[0m\u001b[0;34m.\u001b[0m\u001b[0mpredict\u001b[0m\u001b[0;34m(\u001b[0m\u001b[0mX\u001b[0m\u001b[0;34m)\u001b[0m\u001b[0;34m\u001b[0m\u001b[0;34m\u001b[0m\u001b[0m\n\u001b[0m\u001b[1;32m     56\u001b[0m     \u001b[0my_pred\u001b[0m \u001b[0;34m=\u001b[0m \u001b[0mnp\u001b[0m\u001b[0;34m.\u001b[0m\u001b[0margmax\u001b[0m\u001b[0;34m(\u001b[0m\u001b[0mprediction\u001b[0m\u001b[0;34m,\u001b[0m \u001b[0maxis\u001b[0m\u001b[0;34m=\u001b[0m\u001b[0;36m1\u001b[0m\u001b[0;34m)\u001b[0m\u001b[0;34m\u001b[0m\u001b[0;34m\u001b[0m\u001b[0m\n\u001b[1;32m     57\u001b[0m     \u001b[0my_true\u001b[0m \u001b[0;34m=\u001b[0m \u001b[0mnp\u001b[0m\u001b[0;34m.\u001b[0m\u001b[0margmax\u001b[0m\u001b[0;34m(\u001b[0m\u001b[0mY\u001b[0m\u001b[0;34m,\u001b[0m \u001b[0maxis\u001b[0m\u001b[0;34m=\u001b[0m\u001b[0;36m1\u001b[0m\u001b[0;34m)\u001b[0m\u001b[0;34m\u001b[0m\u001b[0;34m\u001b[0m\u001b[0m\n",
            "\u001b[0;32m/usr/local/lib/python3.6/dist-packages/keras/engine/training.py\u001b[0m in \u001b[0;36mpredict\u001b[0;34m(self, x, batch_size, verbose, steps)\u001b[0m\n\u001b[1;32m   1167\u001b[0m                                             \u001b[0mbatch_size\u001b[0m\u001b[0;34m=\u001b[0m\u001b[0mbatch_size\u001b[0m\u001b[0;34m,\u001b[0m\u001b[0;34m\u001b[0m\u001b[0;34m\u001b[0m\u001b[0m\n\u001b[1;32m   1168\u001b[0m                                             \u001b[0mverbose\u001b[0m\u001b[0;34m=\u001b[0m\u001b[0mverbose\u001b[0m\u001b[0;34m,\u001b[0m\u001b[0;34m\u001b[0m\u001b[0;34m\u001b[0m\u001b[0m\n\u001b[0;32m-> 1169\u001b[0;31m                                             steps=steps)\n\u001b[0m\u001b[1;32m   1170\u001b[0m \u001b[0;34m\u001b[0m\u001b[0m\n\u001b[1;32m   1171\u001b[0m     def train_on_batch(self, x, y,\n",
            "\u001b[0;32m/usr/local/lib/python3.6/dist-packages/keras/engine/training_arrays.py\u001b[0m in \u001b[0;36mpredict_loop\u001b[0;34m(model, f, ins, batch_size, verbose, steps)\u001b[0m\n\u001b[1;32m    292\u001b[0m                 \u001b[0mins_batch\u001b[0m\u001b[0;34m[\u001b[0m\u001b[0mi\u001b[0m\u001b[0;34m]\u001b[0m \u001b[0;34m=\u001b[0m \u001b[0mins_batch\u001b[0m\u001b[0;34m[\u001b[0m\u001b[0mi\u001b[0m\u001b[0;34m]\u001b[0m\u001b[0;34m.\u001b[0m\u001b[0mtoarray\u001b[0m\u001b[0;34m(\u001b[0m\u001b[0;34m)\u001b[0m\u001b[0;34m\u001b[0m\u001b[0;34m\u001b[0m\u001b[0m\n\u001b[1;32m    293\u001b[0m \u001b[0;34m\u001b[0m\u001b[0m\n\u001b[0;32m--> 294\u001b[0;31m             \u001b[0mbatch_outs\u001b[0m \u001b[0;34m=\u001b[0m \u001b[0mf\u001b[0m\u001b[0;34m(\u001b[0m\u001b[0mins_batch\u001b[0m\u001b[0;34m)\u001b[0m\u001b[0;34m\u001b[0m\u001b[0;34m\u001b[0m\u001b[0m\n\u001b[0m\u001b[1;32m    295\u001b[0m             \u001b[0mbatch_outs\u001b[0m \u001b[0;34m=\u001b[0m \u001b[0mto_list\u001b[0m\u001b[0;34m(\u001b[0m\u001b[0mbatch_outs\u001b[0m\u001b[0;34m)\u001b[0m\u001b[0;34m\u001b[0m\u001b[0;34m\u001b[0m\u001b[0m\n\u001b[1;32m    296\u001b[0m             \u001b[0;32mif\u001b[0m \u001b[0mbatch_index\u001b[0m \u001b[0;34m==\u001b[0m \u001b[0;36m0\u001b[0m\u001b[0;34m:\u001b[0m\u001b[0;34m\u001b[0m\u001b[0;34m\u001b[0m\u001b[0m\n",
            "\u001b[0;32m/usr/local/lib/python3.6/dist-packages/keras/backend/tensorflow_backend.py\u001b[0m in \u001b[0;36m__call__\u001b[0;34m(self, inputs)\u001b[0m\n\u001b[1;32m   2713\u001b[0m                 \u001b[0;32mreturn\u001b[0m \u001b[0mself\u001b[0m\u001b[0;34m.\u001b[0m\u001b[0m_legacy_call\u001b[0m\u001b[0;34m(\u001b[0m\u001b[0minputs\u001b[0m\u001b[0;34m)\u001b[0m\u001b[0;34m\u001b[0m\u001b[0;34m\u001b[0m\u001b[0m\n\u001b[1;32m   2714\u001b[0m \u001b[0;34m\u001b[0m\u001b[0m\n\u001b[0;32m-> 2715\u001b[0;31m             \u001b[0;32mreturn\u001b[0m \u001b[0mself\u001b[0m\u001b[0;34m.\u001b[0m\u001b[0m_call\u001b[0m\u001b[0;34m(\u001b[0m\u001b[0minputs\u001b[0m\u001b[0;34m)\u001b[0m\u001b[0;34m\u001b[0m\u001b[0;34m\u001b[0m\u001b[0m\n\u001b[0m\u001b[1;32m   2716\u001b[0m         \u001b[0;32melse\u001b[0m\u001b[0;34m:\u001b[0m\u001b[0;34m\u001b[0m\u001b[0;34m\u001b[0m\u001b[0m\n\u001b[1;32m   2717\u001b[0m             \u001b[0;32mif\u001b[0m \u001b[0mpy_any\u001b[0m\u001b[0;34m(\u001b[0m\u001b[0mis_tensor\u001b[0m\u001b[0;34m(\u001b[0m\u001b[0mx\u001b[0m\u001b[0;34m)\u001b[0m \u001b[0;32mfor\u001b[0m \u001b[0mx\u001b[0m \u001b[0;32min\u001b[0m \u001b[0minputs\u001b[0m\u001b[0;34m)\u001b[0m\u001b[0;34m:\u001b[0m\u001b[0;34m\u001b[0m\u001b[0;34m\u001b[0m\u001b[0m\n",
            "\u001b[0;32m/usr/local/lib/python3.6/dist-packages/keras/backend/tensorflow_backend.py\u001b[0m in \u001b[0;36m_call\u001b[0;34m(self, inputs)\u001b[0m\n\u001b[1;32m   2673\u001b[0m             \u001b[0mfetched\u001b[0m \u001b[0;34m=\u001b[0m \u001b[0mself\u001b[0m\u001b[0;34m.\u001b[0m\u001b[0m_callable_fn\u001b[0m\u001b[0;34m(\u001b[0m\u001b[0;34m*\u001b[0m\u001b[0marray_vals\u001b[0m\u001b[0;34m,\u001b[0m \u001b[0mrun_metadata\u001b[0m\u001b[0;34m=\u001b[0m\u001b[0mself\u001b[0m\u001b[0;34m.\u001b[0m\u001b[0mrun_metadata\u001b[0m\u001b[0;34m)\u001b[0m\u001b[0;34m\u001b[0m\u001b[0;34m\u001b[0m\u001b[0m\n\u001b[1;32m   2674\u001b[0m         \u001b[0;32melse\u001b[0m\u001b[0;34m:\u001b[0m\u001b[0;34m\u001b[0m\u001b[0;34m\u001b[0m\u001b[0m\n\u001b[0;32m-> 2675\u001b[0;31m             \u001b[0mfetched\u001b[0m \u001b[0;34m=\u001b[0m \u001b[0mself\u001b[0m\u001b[0;34m.\u001b[0m\u001b[0m_callable_fn\u001b[0m\u001b[0;34m(\u001b[0m\u001b[0;34m*\u001b[0m\u001b[0marray_vals\u001b[0m\u001b[0;34m)\u001b[0m\u001b[0;34m\u001b[0m\u001b[0;34m\u001b[0m\u001b[0m\n\u001b[0m\u001b[1;32m   2676\u001b[0m         \u001b[0;32mreturn\u001b[0m \u001b[0mfetched\u001b[0m\u001b[0;34m[\u001b[0m\u001b[0;34m:\u001b[0m\u001b[0mlen\u001b[0m\u001b[0;34m(\u001b[0m\u001b[0mself\u001b[0m\u001b[0;34m.\u001b[0m\u001b[0moutputs\u001b[0m\u001b[0;34m)\u001b[0m\u001b[0;34m]\u001b[0m\u001b[0;34m\u001b[0m\u001b[0;34m\u001b[0m\u001b[0m\n\u001b[1;32m   2677\u001b[0m \u001b[0;34m\u001b[0m\u001b[0m\n",
            "\u001b[0;32m/usr/local/lib/python3.6/dist-packages/tensorflow/python/client/session.py\u001b[0m in \u001b[0;36m__call__\u001b[0;34m(self, *args, **kwargs)\u001b[0m\n\u001b[1;32m   1437\u001b[0m           ret = tf_session.TF_SessionRunCallable(\n\u001b[1;32m   1438\u001b[0m               \u001b[0mself\u001b[0m\u001b[0;34m.\u001b[0m\u001b[0m_session\u001b[0m\u001b[0;34m.\u001b[0m\u001b[0m_session\u001b[0m\u001b[0;34m,\u001b[0m \u001b[0mself\u001b[0m\u001b[0;34m.\u001b[0m\u001b[0m_handle\u001b[0m\u001b[0;34m,\u001b[0m \u001b[0margs\u001b[0m\u001b[0;34m,\u001b[0m \u001b[0mstatus\u001b[0m\u001b[0;34m,\u001b[0m\u001b[0;34m\u001b[0m\u001b[0;34m\u001b[0m\u001b[0m\n\u001b[0;32m-> 1439\u001b[0;31m               run_metadata_ptr)\n\u001b[0m\u001b[1;32m   1440\u001b[0m         \u001b[0;32mif\u001b[0m \u001b[0mrun_metadata\u001b[0m\u001b[0;34m:\u001b[0m\u001b[0;34m\u001b[0m\u001b[0;34m\u001b[0m\u001b[0m\n\u001b[1;32m   1441\u001b[0m           \u001b[0mproto_data\u001b[0m \u001b[0;34m=\u001b[0m \u001b[0mtf_session\u001b[0m\u001b[0;34m.\u001b[0m\u001b[0mTF_GetBuffer\u001b[0m\u001b[0;34m(\u001b[0m\u001b[0mrun_metadata_ptr\u001b[0m\u001b[0;34m)\u001b[0m\u001b[0;34m\u001b[0m\u001b[0;34m\u001b[0m\u001b[0m\n",
            "\u001b[0;31mKeyboardInterrupt\u001b[0m: "
          ]
        }
      ]
    },
    {
      "metadata": {
        "id": "IhkG-kpqVNdi",
        "colab_type": "code",
        "colab": {}
      },
      "cell_type": "code",
      "source": [
        "import seaborn as sns"
      ],
      "execution_count": 0,
      "outputs": []
    },
    {
      "metadata": {
        "id": "1lxa18QGJaex",
        "colab_type": "code",
        "colab": {}
      },
      "cell_type": "code",
      "source": [
        "scoreArray = np.array(recallScores)\n",
        "scoreArray.shape"
      ],
      "execution_count": 0,
      "outputs": []
    },
    {
      "metadata": {
        "id": "YzfOpisfvxKa",
        "colab_type": "code",
        "colab": {}
      },
      "cell_type": "code",
      "source": [
        "bestPolicy = selectedSamples[np.argmax(scoreArray.mean(axis=1))]\n"
      ],
      "execution_count": 0,
      "outputs": []
    },
    {
      "metadata": {
        "id": "RT9Ex4w8QSgw",
        "colab_type": "code",
        "colab": {}
      },
      "cell_type": "code",
      "source": [
        ""
      ],
      "execution_count": 0,
      "outputs": []
    },
    {
      "metadata": {
        "id": "NZLiGUiTQTGF",
        "colab_type": "text"
      },
      "cell_type": "markdown",
      "source": [
        "## **Combine the best:**\n",
        "For each class, go through all the policies tried and find which one produced the\n",
        "highest recall for that class.  Use the class-specific percentages from that policy,\n",
        "and combine them together into a frankenPolicy"
      ]
    },
    {
      "metadata": {
        "id": "Vyw1m1bFJfPX",
        "colab_type": "code",
        "colab": {}
      },
      "cell_type": "code",
      "source": [
        "frankenPolicy = np.ones_like(bestPolicy)\n",
        "for classNumber in range(10):\n",
        "  bestRecall = np.argmax(scoreArray[:,classNumber])\n",
        "  thatPolicy = selectedSamples[bestRecall]\n",
        "  frankenPolicy[classNumber] = thatPolicy[classNumber]"
      ],
      "execution_count": 0,
      "outputs": []
    },
    {
      "metadata": {
        "id": "qoVbMlbWreNU",
        "colab_type": "code",
        "outputId": "63a4f2da-0431-4161-8960-34341c8f66bb",
        "colab": {
          "base_uri": "https://localhost:8080/",
          "height": 546
        }
      },
      "cell_type": "code",
      "source": [
        "plt.figure(figsize=[12,8])\n",
        "sns.heatmap((np.array(bestPolicy)/10.), cmap='RdYlGn', center=1./len(transformList), annot=True)\n",
        "xt = plt.xticks(np.arange(len(transformList))+.5, [str(t).split(' ')[1] for t in transformList], rotation=45)\n",
        "yt = plt.yticks(np.arange(10)+.3, imageClasses, rotation=0)\n",
        "plt.title('Single Best Policy: Percent Chance of Using Transform By Image Class')"
      ],
      "execution_count": 40,
      "outputs": [
        {
          "output_type": "execute_result",
          "data": {
            "text/plain": [
              "Text(0.5,1,'Percent Chance of Using Transform By Image Class')"
            ]
          },
          "metadata": {
            "tags": []
          },
          "execution_count": 40
        },
        {
          "output_type": "display_data",
          "data": {
            "image/png": "[encoded data removed]",
            "text/plain": [
              "<matplotlib.figure.Figure at 0x7f59feabc0f0>"
            ]
          },
          "metadata": {
            "tags": []
          }
        }
      ]
    },
    {
      "metadata": {
        "id": "c1UVh3xDsXxv",
        "colab_type": "code",
        "colab": {
          "base_uri": "https://localhost:8080/",
          "height": 546
        },
        "outputId": "fc8f2f48-7444-4fc4-b668-1546eb666c83"
      },
      "cell_type": "code",
      "source": [
        "plt.figure(figsize=[12,8])\n",
        "sns.heatmap((np.array(frankenPolicy)/10.), cmap='RdYlGn', center=1./len(transformList), annot=True)\n",
        "xt = plt.xticks(np.arange(len(transformList))+.5, [str(t).split(' ')[1] for t in transformList], rotation=45)\n",
        "yt = plt.yticks(np.arange(10)+.3, imageClasses, rotation=0)\n",
        "plt.title('Combined Best Policy: Percent Chance of Using Transform By Image Class')"
      ],
      "execution_count": 42,
      "outputs": [
        {
          "output_type": "execute_result",
          "data": {
            "text/plain": [
              "Text(0.5,1,'Combined Best Policy: Percent Chance of Using Transform By Image Class')"
            ]
          },
          "metadata": {
            "tags": []
          },
          "execution_count": 42
        },
        {
          "output_type": "display_data",
          "data": {
            "image/png": "[encoded data removed]",
            "text/plain": [
              "<matplotlib.figure.Figure at 0x7f59fea06dd8>"
            ]
          },
          "metadata": {
            "tags": []
          }
        }
      ]
    },
    {
      "metadata": {
        "id": "CVwQR5tz8VlM",
        "colab_type": "code",
        "colab": {}
      },
      "cell_type": "code",
      "source": [
        ""
      ],
      "execution_count": 0,
      "outputs": []
    },
    {
      "metadata": {
        "id": "e5pC3OpO8VeR",
        "colab_type": "code",
        "colab": {
          "base_uri": "https://localhost:8080/",
          "height": 2625
        },
        "outputId": "055cade1-ac1e-4981-eb93-df76f8195bff"
      },
      "cell_type": "code",
      "source": [
        "testModel = Child(batchSize=64, epochs=75)\n",
        "aug = autoaugment(XtrainBig, ytrainBig, transformList,\n",
        "              probabilities=frankenPolicy, batch_size=testModel.batchSize)\n",
        "\n",
        "testModel.model.fit_generator(aug,\n",
        "                     steps_per_epoch = len(XtrainBig) // testModel.batchSize,\n",
        "                     epochs=testModel.epochs,\n",
        "                     validation_data=[Xval, yval],\n",
        "                     use_multiprocessing=False, \n",
        "                     verbose=1)"
      ],
      "execution_count": 62,
      "outputs": [
        {
          "output_type": "stream",
          "text": [
            "Epoch 1/75\n",
            "718/718 [==============================] - 26s 36ms/step - loss: 3.4234 - acc: 0.2423 - val_loss: 1.6546 - val_acc: 0.4133\n",
            "Epoch 2/75\n",
            "718/718 [==============================] - 19s 27ms/step - loss: 1.7071 - acc: 0.3814 - val_loss: 1.5091 - val_acc: 0.4610\n",
            "Epoch 3/75\n",
            "718/718 [==============================] - 19s 27ms/step - loss: 1.5686 - acc: 0.4407 - val_loss: 1.3983 - val_acc: 0.5130\n",
            "Epoch 4/75\n",
            "718/718 [==============================] - 19s 26ms/step - loss: 1.4823 - acc: 0.4719 - val_loss: 1.3241 - val_acc: 0.5252\n",
            "Epoch 5/75\n",
            "718/718 [==============================] - 19s 26ms/step - loss: 1.4074 - acc: 0.5022 - val_loss: 1.3035 - val_acc: 0.5440\n",
            "Epoch 6/75\n",
            "718/718 [==============================] - 19s 27ms/step - loss: 1.3557 - acc: 0.5191 - val_loss: 1.2140 - val_acc: 0.5735\n",
            "Epoch 7/75\n",
            "718/718 [==============================] - 19s 27ms/step - loss: 1.3052 - acc: 0.5420 - val_loss: 1.1686 - val_acc: 0.5923\n",
            "Epoch 8/75\n",
            "718/718 [==============================] - 19s 27ms/step - loss: 1.2631 - acc: 0.5587 - val_loss: 1.1343 - val_acc: 0.6115\n",
            "Epoch 9/75\n",
            "718/718 [==============================] - 19s 26ms/step - loss: 1.2269 - acc: 0.5692 - val_loss: 1.0999 - val_acc: 0.6188\n",
            "Epoch 10/75\n",
            "718/718 [==============================] - 19s 26ms/step - loss: 1.1876 - acc: 0.5838 - val_loss: 1.0514 - val_acc: 0.6350\n",
            "Epoch 11/75\n",
            "718/718 [==============================] - 19s 27ms/step - loss: 1.1661 - acc: 0.5952 - val_loss: 1.0763 - val_acc: 0.6280\n",
            "Epoch 12/75\n",
            "718/718 [==============================] - 19s 26ms/step - loss: 1.1412 - acc: 0.6039 - val_loss: 1.0187 - val_acc: 0.6442\n",
            "Epoch 13/75\n",
            "718/718 [==============================] - 19s 26ms/step - loss: 1.1211 - acc: 0.6106 - val_loss: 0.9868 - val_acc: 0.6575\n",
            "Epoch 14/75\n",
            "718/718 [==============================] - 19s 26ms/step - loss: 1.1094 - acc: 0.6166 - val_loss: 0.9759 - val_acc: 0.6613\n",
            "Epoch 15/75\n",
            "718/718 [==============================] - 19s 26ms/step - loss: 1.0883 - acc: 0.6212 - val_loss: 1.0167 - val_acc: 0.6512\n",
            "Epoch 16/75\n",
            "718/718 [==============================] - 19s 26ms/step - loss: 1.0721 - acc: 0.6270 - val_loss: 0.9547 - val_acc: 0.6667\n",
            "Epoch 17/75\n",
            "718/718 [==============================] - 19s 26ms/step - loss: 1.0600 - acc: 0.6333 - val_loss: 0.9396 - val_acc: 0.6803\n",
            "Epoch 18/75\n",
            "718/718 [==============================] - 19s 27ms/step - loss: 1.0513 - acc: 0.6373 - val_loss: 0.9750 - val_acc: 0.6637\n",
            "Epoch 19/75\n",
            "718/718 [==============================] - 19s 27ms/step - loss: 1.0328 - acc: 0.6421 - val_loss: 1.0161 - val_acc: 0.6548\n",
            "Epoch 20/75\n",
            "718/718 [==============================] - 19s 26ms/step - loss: 1.0283 - acc: 0.6465 - val_loss: 0.9486 - val_acc: 0.6703\n",
            "Epoch 21/75\n",
            "718/718 [==============================] - 19s 26ms/step - loss: 1.0168 - acc: 0.6497 - val_loss: 0.9414 - val_acc: 0.6870\n",
            "Epoch 22/75\n",
            "718/718 [==============================] - 19s 26ms/step - loss: 1.0129 - acc: 0.6553 - val_loss: 0.8997 - val_acc: 0.6943\n",
            "Epoch 23/75\n",
            "718/718 [==============================] - 19s 26ms/step - loss: 1.0062 - acc: 0.6556 - val_loss: 0.8845 - val_acc: 0.6890\n",
            "Epoch 24/75\n",
            "718/718 [==============================] - 19s 26ms/step - loss: 0.9986 - acc: 0.6574 - val_loss: 0.8729 - val_acc: 0.6917\n",
            "Epoch 25/75\n",
            "718/718 [==============================] - 19s 26ms/step - loss: 0.9909 - acc: 0.6589 - val_loss: 0.8894 - val_acc: 0.6875\n",
            "Epoch 26/75\n",
            "718/718 [==============================] - 19s 26ms/step - loss: 0.9791 - acc: 0.6626 - val_loss: 0.8631 - val_acc: 0.6995\n",
            "Epoch 27/75\n",
            "718/718 [==============================] - 19s 26ms/step - loss: 0.9824 - acc: 0.6646 - val_loss: 0.8443 - val_acc: 0.7070\n",
            "Epoch 28/75\n",
            "718/718 [==============================] - 19s 26ms/step - loss: 0.9742 - acc: 0.6709 - val_loss: 0.8983 - val_acc: 0.6940\n",
            "Epoch 29/75\n",
            "718/718 [==============================] - 19s 26ms/step - loss: 0.9733 - acc: 0.6695 - val_loss: 0.8397 - val_acc: 0.7107\n",
            "Epoch 30/75\n",
            "718/718 [==============================] - 19s 26ms/step - loss: 0.9670 - acc: 0.6728 - val_loss: 0.8381 - val_acc: 0.7113\n",
            "Epoch 31/75\n",
            "718/718 [==============================] - 19s 26ms/step - loss: 0.9577 - acc: 0.6741 - val_loss: 0.9143 - val_acc: 0.6965\n",
            "Epoch 32/75\n",
            "718/718 [==============================] - 19s 27ms/step - loss: 0.9558 - acc: 0.6744 - val_loss: 0.8189 - val_acc: 0.7228\n",
            "Epoch 33/75\n",
            "718/718 [==============================] - 19s 26ms/step - loss: 0.9498 - acc: 0.6788 - val_loss: 0.8367 - val_acc: 0.7087\n",
            "Epoch 34/75\n",
            "718/718 [==============================] - 19s 26ms/step - loss: 0.9515 - acc: 0.6777 - val_loss: 0.8241 - val_acc: 0.7250\n",
            "Epoch 35/75\n",
            "718/718 [==============================] - 19s 26ms/step - loss: 0.9478 - acc: 0.6786 - val_loss: 0.9256 - val_acc: 0.7007\n",
            "Epoch 36/75\n",
            "718/718 [==============================] - 19s 26ms/step - loss: 0.9464 - acc: 0.6813 - val_loss: 0.7945 - val_acc: 0.7280\n",
            "Epoch 37/75\n",
            "718/718 [==============================] - 19s 26ms/step - loss: 0.9449 - acc: 0.6805 - val_loss: 0.7870 - val_acc: 0.7312\n",
            "Epoch 38/75\n",
            "718/718 [==============================] - 19s 26ms/step - loss: 0.9362 - acc: 0.6830 - val_loss: 0.7915 - val_acc: 0.7368\n",
            "Epoch 39/75\n",
            "718/718 [==============================] - 19s 26ms/step - loss: 0.9267 - acc: 0.6882 - val_loss: 0.8029 - val_acc: 0.7238\n",
            "Epoch 40/75\n",
            "718/718 [==============================] - 19s 26ms/step - loss: 0.9369 - acc: 0.6857 - val_loss: 0.8333 - val_acc: 0.7212\n",
            "Epoch 41/75\n",
            "718/718 [==============================] - 19s 27ms/step - loss: 0.9256 - acc: 0.6878 - val_loss: 0.8912 - val_acc: 0.7155\n",
            "Epoch 42/75\n",
            "718/718 [==============================] - 19s 26ms/step - loss: 0.9228 - acc: 0.6886 - val_loss: 0.7853 - val_acc: 0.7332\n",
            "Epoch 43/75\n",
            "718/718 [==============================] - 19s 27ms/step - loss: 0.9218 - acc: 0.6908 - val_loss: 0.7888 - val_acc: 0.7410\n",
            "Epoch 44/75\n",
            "718/718 [==============================] - 19s 26ms/step - loss: 0.9192 - acc: 0.6915 - val_loss: 0.7918 - val_acc: 0.7372\n",
            "Epoch 45/75\n",
            "718/718 [==============================] - 19s 26ms/step - loss: 0.9134 - acc: 0.6922 - val_loss: 0.7888 - val_acc: 0.7315\n",
            "Epoch 46/75\n",
            "718/718 [==============================] - 19s 26ms/step - loss: 0.9162 - acc: 0.6922 - val_loss: 0.9094 - val_acc: 0.7192\n",
            "Epoch 47/75\n",
            "718/718 [==============================] - 19s 26ms/step - loss: 0.9171 - acc: 0.6922 - val_loss: 0.7952 - val_acc: 0.7362\n",
            "Epoch 48/75\n",
            "718/718 [==============================] - 19s 27ms/step - loss: 0.9104 - acc: 0.6912 - val_loss: 0.8037 - val_acc: 0.7245\n",
            "Epoch 49/75\n",
            "718/718 [==============================] - 19s 27ms/step - loss: 0.9033 - acc: 0.6960 - val_loss: 0.8191 - val_acc: 0.7350\n",
            "Epoch 50/75\n",
            "718/718 [==============================] - 19s 27ms/step - loss: 0.9022 - acc: 0.6965 - val_loss: 0.8029 - val_acc: 0.7358\n",
            "Epoch 51/75\n",
            "718/718 [==============================] - 19s 27ms/step - loss: 0.9075 - acc: 0.6921 - val_loss: 0.7695 - val_acc: 0.7455\n",
            "Epoch 52/75\n",
            "718/718 [==============================] - 19s 26ms/step - loss: 0.9006 - acc: 0.6977 - val_loss: 0.7740 - val_acc: 0.7408\n",
            "Epoch 53/75\n",
            "718/718 [==============================] - 19s 27ms/step - loss: 0.9002 - acc: 0.6983 - val_loss: 0.7532 - val_acc: 0.7518\n",
            "Epoch 54/75\n",
            "718/718 [==============================] - 19s 27ms/step - loss: 0.8964 - acc: 0.6997 - val_loss: 0.7559 - val_acc: 0.7470\n",
            "Epoch 55/75\n",
            "718/718 [==============================] - 19s 27ms/step - loss: 0.8912 - acc: 0.7014 - val_loss: 0.8650 - val_acc: 0.7232\n",
            "Epoch 56/75\n",
            "718/718 [==============================] - 19s 26ms/step - loss: 0.8985 - acc: 0.6986 - val_loss: 0.7432 - val_acc: 0.7535\n",
            "Epoch 57/75\n",
            "718/718 [==============================] - 19s 26ms/step - loss: 0.8997 - acc: 0.6972 - val_loss: 0.7981 - val_acc: 0.7300\n",
            "Epoch 58/75\n",
            "718/718 [==============================] - 19s 26ms/step - loss: 0.9003 - acc: 0.6994 - val_loss: 0.7778 - val_acc: 0.7458\n",
            "Epoch 59/75\n",
            "718/718 [==============================] - 19s 26ms/step - loss: 0.8900 - acc: 0.7006 - val_loss: 0.7499 - val_acc: 0.7538\n",
            "Epoch 60/75\n",
            "718/718 [==============================] - 19s 26ms/step - loss: 0.9018 - acc: 0.6977 - val_loss: 0.7481 - val_acc: 0.7555\n",
            "Epoch 61/75\n",
            "718/718 [==============================] - 19s 26ms/step - loss: 0.8999 - acc: 0.7001 - val_loss: 0.7673 - val_acc: 0.7490\n",
            "Epoch 62/75\n",
            "718/718 [==============================] - 19s 26ms/step - loss: 0.8897 - acc: 0.7031 - val_loss: 0.7785 - val_acc: 0.7450\n",
            "Epoch 63/75\n",
            "718/718 [==============================] - 19s 26ms/step - loss: 0.8819 - acc: 0.7042 - val_loss: 0.7860 - val_acc: 0.7380\n",
            "Epoch 64/75\n",
            "718/718 [==============================] - 19s 26ms/step - loss: 0.8846 - acc: 0.7033 - val_loss: 0.7365 - val_acc: 0.7618\n",
            "Epoch 65/75\n",
            "718/718 [==============================] - 19s 26ms/step - loss: 0.8849 - acc: 0.7048 - val_loss: 0.7761 - val_acc: 0.7448\n",
            "Epoch 66/75\n",
            "718/718 [==============================] - 19s 26ms/step - loss: 0.8797 - acc: 0.7043 - val_loss: 0.7516 - val_acc: 0.7478\n",
            "Epoch 67/75\n",
            "718/718 [==============================] - 19s 26ms/step - loss: 0.8866 - acc: 0.7056 - val_loss: 0.7588 - val_acc: 0.7442\n",
            "Epoch 68/75\n",
            "718/718 [==============================] - 19s 26ms/step - loss: 0.8787 - acc: 0.7076 - val_loss: 0.7629 - val_acc: 0.7422\n",
            "Epoch 69/75\n",
            "718/718 [==============================] - 19s 26ms/step - loss: 0.8839 - acc: 0.7055 - val_loss: 0.7751 - val_acc: 0.7375\n",
            "Epoch 70/75\n",
            "718/718 [==============================] - 19s 26ms/step - loss: 0.8811 - acc: 0.7047 - val_loss: 0.8004 - val_acc: 0.7345\n",
            "Epoch 71/75\n",
            "718/718 [==============================] - 19s 26ms/step - loss: 0.8874 - acc: 0.7048 - val_loss: 0.7949 - val_acc: 0.7358\n",
            "Epoch 72/75\n",
            "718/718 [==============================] - 19s 26ms/step - loss: 0.8888 - acc: 0.7032 - val_loss: 0.7577 - val_acc: 0.7512\n",
            "Epoch 73/75\n",
            "718/718 [==============================] - 19s 26ms/step - loss: 0.8832 - acc: 0.7033 - val_loss: 0.7511 - val_acc: 0.7418\n",
            "Epoch 74/75\n",
            "718/718 [==============================] - 19s 26ms/step - loss: 0.8768 - acc: 0.7049 - val_loss: 0.7479 - val_acc: 0.7478\n",
            "Epoch 75/75\n",
            "718/718 [==============================] - 19s 26ms/step - loss: 0.8806 - acc: 0.7008 - val_loss: 0.7503 - val_acc: 0.7480\n"
          ],
          "name": "stdout"
        },
        {
          "output_type": "execute_result",
          "data": {
            "text/plain": [
              "<keras.callbacks.History at 0x7f5a067ac2e8>"
            ]
          },
          "metadata": {
            "tags": []
          },
          "execution_count": 62
        }
      ]
    },
    {
      "metadata": {
        "id": "c_CmW3W98VWp",
        "colab_type": "code",
        "colab": {
          "base_uri": "https://localhost:8080/",
          "height": 52
        },
        "outputId": "fd493a30-cf6c-4de3-b877-32dc3455eab8"
      },
      "cell_type": "code",
      "source": [
        "testModel.model.evaluate(Xtest, ytest)"
      ],
      "execution_count": 63,
      "outputs": [
        {
          "output_type": "stream",
          "text": [
            "10000/10000 [==============================] - 2s 181us/step\n"
          ],
          "name": "stdout"
        },
        {
          "output_type": "execute_result",
          "data": {
            "text/plain": [
              "[0.7484906812667846, 0.7429]"
            ]
          },
          "metadata": {
            "tags": []
          },
          "execution_count": 63
        }
      ]
    },
    {
      "metadata": {
        "id": "ppGV-B6Bzx06",
        "colab_type": "code",
        "colab": {}
      },
      "cell_type": "code",
      "source": [
        ""
      ],
      "execution_count": 0,
      "outputs": []
    },
    {
      "metadata": {
        "id": "rW9nytpg0GGK",
        "colab_type": "code",
        "colab": {
          "base_uri": "https://localhost:8080/",
          "height": 2643
        },
        "outputId": "3d27124a-e2c0-4886-b9d8-d9842adac407"
      },
      "cell_type": "code",
      "source": [
        "noaugtestModel = Child(batchSize=64, epochs=75)\n",
        "noaugtestModel.model.fit(XtrainBig, ytrainBig, batch_size=64,\n",
        "                     epochs=75,\n",
        "                     validation_data=[Xval, yval],\n",
        "                     verbose=1)"
      ],
      "execution_count": 66,
      "outputs": [
        {
          "output_type": "stream",
          "text": [
            "Train on 46000 samples, validate on 4000 samples\n",
            "Epoch 1/75\n",
            "46000/46000 [==============================] - 20s 443us/step - loss: 4.5692 - acc: 0.2139 - val_loss: 1.7200 - val_acc: 0.3855\n",
            "Epoch 2/75\n",
            "46000/46000 [==============================] - 14s 308us/step - loss: 1.6897 - acc: 0.3836 - val_loss: 1.5112 - val_acc: 0.4620\n",
            "Epoch 3/75\n",
            "46000/46000 [==============================] - 14s 309us/step - loss: 1.5299 - acc: 0.4522 - val_loss: 1.3664 - val_acc: 0.5108\n",
            "Epoch 4/75\n",
            "46000/46000 [==============================] - 14s 307us/step - loss: 1.4351 - acc: 0.4933 - val_loss: 1.3306 - val_acc: 0.5230\n",
            "Epoch 5/75\n",
            "46000/46000 [==============================] - 14s 309us/step - loss: 1.3555 - acc: 0.5211 - val_loss: 1.2935 - val_acc: 0.5440\n",
            "Epoch 6/75\n",
            "46000/46000 [==============================] - 14s 308us/step - loss: 1.2869 - acc: 0.5459 - val_loss: 1.1975 - val_acc: 0.5755\n",
            "Epoch 7/75\n",
            "46000/46000 [==============================] - 14s 308us/step - loss: 1.2300 - acc: 0.5667 - val_loss: 1.2773 - val_acc: 0.5567\n",
            "Epoch 8/75\n",
            "46000/46000 [==============================] - 14s 308us/step - loss: 1.1892 - acc: 0.5834 - val_loss: 1.1357 - val_acc: 0.5988\n",
            "Epoch 9/75\n",
            "46000/46000 [==============================] - 14s 308us/step - loss: 1.1392 - acc: 0.6037 - val_loss: 1.1385 - val_acc: 0.5968\n",
            "Epoch 10/75\n",
            "46000/46000 [==============================] - 14s 308us/step - loss: 1.1026 - acc: 0.6159 - val_loss: 1.0904 - val_acc: 0.6188\n",
            "Epoch 11/75\n",
            "46000/46000 [==============================] - 14s 307us/step - loss: 1.0743 - acc: 0.6268 - val_loss: 1.0497 - val_acc: 0.6275\n",
            "Epoch 12/75\n",
            "46000/46000 [==============================] - 14s 308us/step - loss: 1.0375 - acc: 0.6398 - val_loss: 1.0080 - val_acc: 0.6472\n",
            "Epoch 13/75\n",
            "46000/46000 [==============================] - 14s 308us/step - loss: 1.0134 - acc: 0.6503 - val_loss: 0.9973 - val_acc: 0.6542\n",
            "Epoch 14/75\n",
            "46000/46000 [==============================] - 14s 309us/step - loss: 0.9930 - acc: 0.6561 - val_loss: 0.9688 - val_acc: 0.6650\n",
            "Epoch 15/75\n",
            "46000/46000 [==============================] - 14s 309us/step - loss: 0.9747 - acc: 0.6637 - val_loss: 0.9734 - val_acc: 0.6585\n",
            "Epoch 16/75\n",
            "46000/46000 [==============================] - 14s 308us/step - loss: 0.9525 - acc: 0.6729 - val_loss: 0.9616 - val_acc: 0.6693\n",
            "Epoch 17/75\n",
            "46000/46000 [==============================] - 14s 308us/step - loss: 0.9323 - acc: 0.6780 - val_loss: 0.9400 - val_acc: 0.6763\n",
            "Epoch 18/75\n",
            "46000/46000 [==============================] - 14s 308us/step - loss: 0.9211 - acc: 0.6836 - val_loss: 0.8989 - val_acc: 0.6937\n",
            "Epoch 19/75\n",
            "46000/46000 [==============================] - 14s 308us/step - loss: 0.9090 - acc: 0.6865 - val_loss: 0.8862 - val_acc: 0.7022\n",
            "Epoch 20/75\n",
            "46000/46000 [==============================] - 14s 309us/step - loss: 0.8942 - acc: 0.6973 - val_loss: 0.8854 - val_acc: 0.7060\n",
            "Epoch 21/75\n",
            "46000/46000 [==============================] - 14s 309us/step - loss: 0.8823 - acc: 0.6997 - val_loss: 0.9367 - val_acc: 0.6925\n",
            "Epoch 22/75\n",
            "46000/46000 [==============================] - 14s 309us/step - loss: 0.8771 - acc: 0.6978 - val_loss: 0.8682 - val_acc: 0.7100\n",
            "Epoch 23/75\n",
            "46000/46000 [==============================] - 14s 308us/step - loss: 0.8662 - acc: 0.7034 - val_loss: 0.9698 - val_acc: 0.6835\n",
            "Epoch 24/75\n",
            "46000/46000 [==============================] - 14s 309us/step - loss: 0.8530 - acc: 0.7068 - val_loss: 1.0159 - val_acc: 0.6635\n",
            "Epoch 25/75\n",
            "46000/46000 [==============================] - 14s 310us/step - loss: 0.8537 - acc: 0.7086 - val_loss: 1.0540 - val_acc: 0.6702\n",
            "Epoch 26/75\n",
            "46000/46000 [==============================] - 14s 309us/step - loss: 0.8388 - acc: 0.7131 - val_loss: 0.8327 - val_acc: 0.7210\n",
            "Epoch 27/75\n",
            "46000/46000 [==============================] - 14s 308us/step - loss: 0.8368 - acc: 0.7155 - val_loss: 0.8231 - val_acc: 0.7268\n",
            "Epoch 28/75\n",
            "46000/46000 [==============================] - 14s 307us/step - loss: 0.8277 - acc: 0.7186 - val_loss: 0.8192 - val_acc: 0.7275\n",
            "Epoch 29/75\n",
            "46000/46000 [==============================] - 14s 309us/step - loss: 0.8203 - acc: 0.7218 - val_loss: 0.8645 - val_acc: 0.7147\n",
            "Epoch 30/75\n",
            "46000/46000 [==============================] - 14s 309us/step - loss: 0.8187 - acc: 0.7234 - val_loss: 0.8387 - val_acc: 0.7145\n",
            "Epoch 31/75\n",
            "46000/46000 [==============================] - 14s 308us/step - loss: 0.8101 - acc: 0.7261 - val_loss: 0.8546 - val_acc: 0.7167\n",
            "Epoch 32/75\n",
            "46000/46000 [==============================] - 14s 310us/step - loss: 0.8074 - acc: 0.7283 - val_loss: 0.8250 - val_acc: 0.7318\n",
            "Epoch 33/75\n",
            "46000/46000 [==============================] - 14s 309us/step - loss: 0.8090 - acc: 0.7250 - val_loss: 0.8960 - val_acc: 0.7147\n",
            "Epoch 34/75\n",
            "46000/46000 [==============================] - 14s 309us/step - loss: 0.7997 - acc: 0.7301 - val_loss: 0.8231 - val_acc: 0.7332\n",
            "Epoch 35/75\n",
            "46000/46000 [==============================] - 14s 307us/step - loss: 0.7919 - acc: 0.7337 - val_loss: 0.8025 - val_acc: 0.7410\n",
            "Epoch 36/75\n",
            "46000/46000 [==============================] - 14s 309us/step - loss: 0.7936 - acc: 0.7309 - val_loss: 1.0291 - val_acc: 0.7040\n",
            "Epoch 37/75\n",
            "46000/46000 [==============================] - 14s 308us/step - loss: 0.7897 - acc: 0.7346 - val_loss: 0.8197 - val_acc: 0.7265\n",
            "Epoch 38/75\n",
            "46000/46000 [==============================] - 14s 308us/step - loss: 0.7895 - acc: 0.7342 - val_loss: 0.8604 - val_acc: 0.7247\n",
            "Epoch 39/75\n",
            "46000/46000 [==============================] - 14s 308us/step - loss: 0.7870 - acc: 0.7339 - val_loss: 0.8548 - val_acc: 0.7238\n",
            "Epoch 40/75\n",
            "46000/46000 [==============================] - 14s 310us/step - loss: 0.7847 - acc: 0.7344 - val_loss: 0.7938 - val_acc: 0.7410\n",
            "Epoch 41/75\n",
            "46000/46000 [==============================] - 14s 310us/step - loss: 0.7784 - acc: 0.7353 - val_loss: 0.8160 - val_acc: 0.7327\n",
            "Epoch 42/75\n",
            "46000/46000 [==============================] - 14s 309us/step - loss: 0.7795 - acc: 0.7380 - val_loss: 0.8197 - val_acc: 0.7355\n",
            "Epoch 43/75\n",
            "46000/46000 [==============================] - 14s 308us/step - loss: 0.7782 - acc: 0.7383 - val_loss: 0.8537 - val_acc: 0.7312\n",
            "Epoch 44/75\n",
            "46000/46000 [==============================] - 14s 309us/step - loss: 0.7757 - acc: 0.7396 - val_loss: 0.8402 - val_acc: 0.7353\n",
            "Epoch 45/75\n",
            "46000/46000 [==============================] - 14s 308us/step - loss: 0.7757 - acc: 0.7390 - val_loss: 0.8513 - val_acc: 0.7232\n",
            "Epoch 46/75\n",
            "46000/46000 [==============================] - 14s 308us/step - loss: 0.7738 - acc: 0.7431 - val_loss: 0.8048 - val_acc: 0.7405\n",
            "Epoch 47/75\n",
            "46000/46000 [==============================] - 14s 308us/step - loss: 0.7745 - acc: 0.7389 - val_loss: 0.7937 - val_acc: 0.7372\n",
            "Epoch 48/75\n",
            "46000/46000 [==============================] - 14s 309us/step - loss: 0.7696 - acc: 0.7439 - val_loss: 0.7765 - val_acc: 0.7425\n",
            "Epoch 49/75\n",
            "46000/46000 [==============================] - 14s 309us/step - loss: 0.7662 - acc: 0.7443 - val_loss: 0.8383 - val_acc: 0.7375\n",
            "Epoch 50/75\n",
            "46000/46000 [==============================] - 14s 309us/step - loss: 0.7654 - acc: 0.7450 - val_loss: 0.8254 - val_acc: 0.7415\n",
            "Epoch 51/75\n",
            "46000/46000 [==============================] - 14s 309us/step - loss: 0.7621 - acc: 0.7460 - val_loss: 0.7649 - val_acc: 0.7505\n",
            "Epoch 52/75\n",
            "46000/46000 [==============================] - 14s 308us/step - loss: 0.7614 - acc: 0.7457 - val_loss: 0.8277 - val_acc: 0.7298\n",
            "Epoch 53/75\n",
            "46000/46000 [==============================] - 14s 309us/step - loss: 0.7567 - acc: 0.7462 - val_loss: 0.8656 - val_acc: 0.7245\n",
            "Epoch 54/75\n",
            "46000/46000 [==============================] - 14s 308us/step - loss: 0.7562 - acc: 0.7499 - val_loss: 0.9735 - val_acc: 0.7030\n",
            "Epoch 55/75\n",
            "46000/46000 [==============================] - 14s 308us/step - loss: 0.7622 - acc: 0.7449 - val_loss: 0.8990 - val_acc: 0.7338\n",
            "Epoch 56/75\n",
            "46000/46000 [==============================] - 14s 307us/step - loss: 0.7603 - acc: 0.7481 - val_loss: 0.8644 - val_acc: 0.7322\n",
            "Epoch 57/75\n",
            "46000/46000 [==============================] - 14s 308us/step - loss: 0.7539 - acc: 0.7512 - val_loss: 0.8442 - val_acc: 0.7368\n",
            "Epoch 58/75\n",
            "46000/46000 [==============================] - 14s 308us/step - loss: 0.7603 - acc: 0.7477 - val_loss: 0.8289 - val_acc: 0.7448\n",
            "Epoch 59/75\n",
            "46000/46000 [==============================] - 14s 308us/step - loss: 0.7594 - acc: 0.7475 - val_loss: 0.7795 - val_acc: 0.7480\n",
            "Epoch 60/75\n",
            "46000/46000 [==============================] - 14s 307us/step - loss: 0.7599 - acc: 0.7505 - val_loss: 0.8037 - val_acc: 0.7448\n",
            "Epoch 61/75\n",
            "46000/46000 [==============================] - 14s 307us/step - loss: 0.7508 - acc: 0.7484 - val_loss: 0.8229 - val_acc: 0.7418\n",
            "Epoch 62/75\n",
            "46000/46000 [==============================] - 14s 307us/step - loss: 0.7590 - acc: 0.7508 - val_loss: 0.7811 - val_acc: 0.7480\n",
            "Epoch 63/75\n",
            "46000/46000 [==============================] - 14s 307us/step - loss: 0.7508 - acc: 0.7528 - val_loss: 0.7894 - val_acc: 0.7510\n",
            "Epoch 64/75\n",
            "46000/46000 [==============================] - 14s 307us/step - loss: 0.7493 - acc: 0.7513 - val_loss: 0.7837 - val_acc: 0.7475\n",
            "Epoch 65/75\n",
            "46000/46000 [==============================] - 14s 307us/step - loss: 0.7503 - acc: 0.7543 - val_loss: 0.7720 - val_acc: 0.7440\n",
            "Epoch 66/75\n",
            "46000/46000 [==============================] - 14s 308us/step - loss: 0.7485 - acc: 0.7514 - val_loss: 0.7926 - val_acc: 0.7505\n",
            "Epoch 67/75\n",
            "46000/46000 [==============================] - 14s 307us/step - loss: 0.7561 - acc: 0.7497 - val_loss: 0.9140 - val_acc: 0.7302\n",
            "Epoch 68/75\n",
            "46000/46000 [==============================] - 14s 308us/step - loss: 0.7540 - acc: 0.7506 - val_loss: 0.8044 - val_acc: 0.7428\n",
            "Epoch 69/75\n",
            "46000/46000 [==============================] - 14s 308us/step - loss: 0.7547 - acc: 0.7500 - val_loss: 0.8053 - val_acc: 0.7422\n",
            "Epoch 70/75\n",
            "46000/46000 [==============================] - 14s 307us/step - loss: 0.7439 - acc: 0.7542 - val_loss: 0.7969 - val_acc: 0.7482\n",
            "Epoch 71/75\n",
            "46000/46000 [==============================] - 14s 307us/step - loss: 0.7539 - acc: 0.7520 - val_loss: 0.8540 - val_acc: 0.7338\n",
            "Epoch 72/75\n",
            "46000/46000 [==============================] - 14s 307us/step - loss: 0.7552 - acc: 0.7526 - val_loss: 0.7904 - val_acc: 0.7412\n",
            "Epoch 73/75\n",
            "46000/46000 [==============================] - 14s 307us/step - loss: 0.7531 - acc: 0.7510 - val_loss: 0.8062 - val_acc: 0.7410\n",
            "Epoch 74/75\n",
            "46000/46000 [==============================] - 14s 307us/step - loss: 0.7435 - acc: 0.7562 - val_loss: 0.8084 - val_acc: 0.7492\n",
            "Epoch 75/75\n",
            "46000/46000 [==============================] - 14s 307us/step - loss: 0.7566 - acc: 0.7514 - val_loss: 0.8137 - val_acc: 0.7372\n"
          ],
          "name": "stdout"
        },
        {
          "output_type": "execute_result",
          "data": {
            "text/plain": [
              "<keras.callbacks.History at 0x7f59fc075f98>"
            ]
          },
          "metadata": {
            "tags": []
          },
          "execution_count": 66
        }
      ]
    },
    {
      "metadata": {
        "id": "0cU75UbDTF8L",
        "colab_type": "code",
        "colab": {
          "base_uri": "https://localhost:8080/",
          "height": 52
        },
        "outputId": "f74db40f-ba04-4b58-cef2-45b1a33f3657"
      },
      "cell_type": "code",
      "source": [
        "noaugtestModel.model.evaluate(Xtest, ytest)"
      ],
      "execution_count": 67,
      "outputs": [
        {
          "output_type": "stream",
          "text": [
            "10000/10000 [==============================] - 2s 172us/step\n"
          ],
          "name": "stdout"
        },
        {
          "output_type": "execute_result",
          "data": {
            "text/plain": [
              "[0.7878603754997253, 0.7433]"
            ]
          },
          "metadata": {
            "tags": []
          },
          "execution_count": 67
        }
      ]
    },
    {
      "metadata": {
        "id": "GVi7ocTRUKwo",
        "colab_type": "code",
        "colab": {
          "base_uri": "https://localhost:8080/",
          "height": 2625
        },
        "outputId": "59766dfd-7f68-4054-a7fc-0370b3e2bec5"
      },
      "cell_type": "code",
      "source": [
        "mixedtestModel = Child(batchSize=64, epochs=75)\n",
        "mixedPolicy = np.ones_like(frankenPolicy) * frankenPolicy.mean(axis=0)\n",
        "aug = autoaugment(XtrainBig, ytrainBig, transformList,\n",
        "              probabilities=mixedPolicy, batch_size=testModel.batchSize)\n",
        "\n",
        "mixedtestModel.model.fit_generator(aug,\n",
        "                     steps_per_epoch = len(XtrainBig) // testModel.batchSize,\n",
        "                     epochs=testModel.epochs,\n",
        "                     validation_data=[Xval, yval],\n",
        "                     use_multiprocessing=False, \n",
        "                     verbose=1)"
      ],
      "execution_count": 64,
      "outputs": [
        {
          "output_type": "stream",
          "text": [
            "Epoch 1/75\n",
            "718/718 [==============================] - 25s 35ms/step - loss: 6.8872 - acc: 0.1651 - val_loss: 1.8812 - val_acc: 0.3195\n",
            "Epoch 2/75\n",
            "718/718 [==============================] - 19s 27ms/step - loss: 1.8762 - acc: 0.3082 - val_loss: 1.6231 - val_acc: 0.4168\n",
            "Epoch 3/75\n",
            "718/718 [==============================] - 19s 27ms/step - loss: 1.7317 - acc: 0.3634 - val_loss: 1.5619 - val_acc: 0.4328\n",
            "Epoch 4/75\n",
            "718/718 [==============================] - 19s 27ms/step - loss: 1.6342 - acc: 0.4047 - val_loss: 1.4900 - val_acc: 0.4572\n",
            "Epoch 5/75\n",
            "718/718 [==============================] - 19s 26ms/step - loss: 1.5702 - acc: 0.4310 - val_loss: 1.3909 - val_acc: 0.5060\n",
            "Epoch 6/75\n",
            "718/718 [==============================] - 19s 26ms/step - loss: 1.5145 - acc: 0.4529 - val_loss: 1.3201 - val_acc: 0.5282\n",
            "Epoch 7/75\n",
            "718/718 [==============================] - 19s 26ms/step - loss: 1.4628 - acc: 0.4759 - val_loss: 1.3036 - val_acc: 0.5265\n",
            "Epoch 8/75\n",
            "718/718 [==============================] - 19s 26ms/step - loss: 1.4227 - acc: 0.4911 - val_loss: 1.2454 - val_acc: 0.5533\n",
            "Epoch 9/75\n",
            "718/718 [==============================] - 19s 26ms/step - loss: 1.3899 - acc: 0.5044 - val_loss: 1.2157 - val_acc: 0.5617\n",
            "Epoch 10/75\n",
            "718/718 [==============================] - 19s 26ms/step - loss: 1.3609 - acc: 0.5147 - val_loss: 1.2028 - val_acc: 0.5707\n",
            "Epoch 11/75\n",
            "718/718 [==============================] - 19s 27ms/step - loss: 1.3372 - acc: 0.5260 - val_loss: 1.2336 - val_acc: 0.5733\n",
            "Epoch 12/75\n",
            "718/718 [==============================] - 19s 27ms/step - loss: 1.3068 - acc: 0.5394 - val_loss: 1.1248 - val_acc: 0.6088\n",
            "Epoch 13/75\n",
            "718/718 [==============================] - 19s 27ms/step - loss: 1.2882 - acc: 0.5432 - val_loss: 1.0934 - val_acc: 0.6258\n",
            "Epoch 14/75\n",
            "718/718 [==============================] - 19s 26ms/step - loss: 1.2785 - acc: 0.5499 - val_loss: 1.1415 - val_acc: 0.6078\n",
            "Epoch 15/75\n",
            "718/718 [==============================] - 19s 26ms/step - loss: 1.2625 - acc: 0.5548 - val_loss: 1.1033 - val_acc: 0.6188\n",
            "Epoch 16/75\n",
            "718/718 [==============================] - 19s 26ms/step - loss: 1.2415 - acc: 0.5644 - val_loss: 1.0227 - val_acc: 0.6498\n",
            "Epoch 17/75\n",
            "718/718 [==============================] - 19s 26ms/step - loss: 1.2262 - acc: 0.5717 - val_loss: 1.0582 - val_acc: 0.6360\n",
            "Epoch 18/75\n",
            "718/718 [==============================] - 19s 26ms/step - loss: 1.2192 - acc: 0.5710 - val_loss: 0.9913 - val_acc: 0.6535\n",
            "Epoch 19/75\n",
            "718/718 [==============================] - 19s 26ms/step - loss: 1.2090 - acc: 0.5750 - val_loss: 0.9930 - val_acc: 0.6630\n",
            "Epoch 20/75\n",
            "718/718 [==============================] - 19s 26ms/step - loss: 1.1955 - acc: 0.5825 - val_loss: 0.9975 - val_acc: 0.6545\n",
            "Epoch 21/75\n",
            "718/718 [==============================] - 19s 26ms/step - loss: 1.1947 - acc: 0.5836 - val_loss: 0.9886 - val_acc: 0.6653\n",
            "Epoch 22/75\n",
            "718/718 [==============================] - 19s 26ms/step - loss: 1.1801 - acc: 0.5883 - val_loss: 0.9493 - val_acc: 0.6765\n",
            "Epoch 23/75\n",
            "718/718 [==============================] - 19s 26ms/step - loss: 1.1688 - acc: 0.5935 - val_loss: 0.9564 - val_acc: 0.6713\n",
            "Epoch 24/75\n",
            "718/718 [==============================] - 19s 26ms/step - loss: 1.1594 - acc: 0.5959 - val_loss: 0.9639 - val_acc: 0.6615\n",
            "Epoch 25/75\n",
            "718/718 [==============================] - 19s 26ms/step - loss: 1.1532 - acc: 0.6016 - val_loss: 0.9761 - val_acc: 0.6607\n",
            "Epoch 26/75\n",
            "718/718 [==============================] - 19s 26ms/step - loss: 1.1463 - acc: 0.6036 - val_loss: 0.9409 - val_acc: 0.6745\n",
            "Epoch 27/75\n",
            "718/718 [==============================] - 19s 26ms/step - loss: 1.1360 - acc: 0.6043 - val_loss: 0.9265 - val_acc: 0.6810\n",
            "Epoch 28/75\n",
            "718/718 [==============================] - 19s 26ms/step - loss: 1.1312 - acc: 0.6090 - val_loss: 1.0183 - val_acc: 0.6495\n",
            "Epoch 29/75\n",
            "718/718 [==============================] - 19s 26ms/step - loss: 1.1200 - acc: 0.6117 - val_loss: 0.9271 - val_acc: 0.6807\n",
            "Epoch 30/75\n",
            "718/718 [==============================] - 19s 26ms/step - loss: 1.1135 - acc: 0.6121 - val_loss: 0.9217 - val_acc: 0.6840\n",
            "Epoch 31/75\n",
            "718/718 [==============================] - 19s 26ms/step - loss: 1.1102 - acc: 0.6173 - val_loss: 0.9188 - val_acc: 0.6887\n",
            "Epoch 32/75\n",
            "718/718 [==============================] - 19s 26ms/step - loss: 1.1073 - acc: 0.6171 - val_loss: 0.8997 - val_acc: 0.6905\n",
            "Epoch 33/75\n",
            "718/718 [==============================] - 19s 26ms/step - loss: 1.0947 - acc: 0.6184 - val_loss: 0.9208 - val_acc: 0.6877\n",
            "Epoch 34/75\n",
            "718/718 [==============================] - 19s 26ms/step - loss: 1.0989 - acc: 0.6208 - val_loss: 0.8944 - val_acc: 0.6945\n",
            "Epoch 35/75\n",
            "718/718 [==============================] - 19s 27ms/step - loss: 1.0920 - acc: 0.6236 - val_loss: 0.8593 - val_acc: 0.7150\n",
            "Epoch 36/75\n",
            "718/718 [==============================] - 19s 27ms/step - loss: 1.0888 - acc: 0.6252 - val_loss: 0.8902 - val_acc: 0.6977\n",
            "Epoch 37/75\n",
            "718/718 [==============================] - 19s 27ms/step - loss: 1.0773 - acc: 0.6265 - val_loss: 0.8775 - val_acc: 0.7045\n",
            "Epoch 38/75\n",
            "718/718 [==============================] - 19s 27ms/step - loss: 1.0745 - acc: 0.6298 - val_loss: 0.8639 - val_acc: 0.7073\n",
            "Epoch 39/75\n",
            "718/718 [==============================] - 19s 26ms/step - loss: 1.0725 - acc: 0.6294 - val_loss: 0.8582 - val_acc: 0.7085\n",
            "Epoch 40/75\n",
            "718/718 [==============================] - 19s 27ms/step - loss: 1.0715 - acc: 0.6283 - val_loss: 0.8973 - val_acc: 0.7027\n",
            "Epoch 41/75\n",
            "718/718 [==============================] - 19s 26ms/step - loss: 1.0656 - acc: 0.6318 - val_loss: 0.8567 - val_acc: 0.7150\n",
            "Epoch 42/75\n",
            "718/718 [==============================] - 19s 27ms/step - loss: 1.0641 - acc: 0.6323 - val_loss: 0.8513 - val_acc: 0.7127\n",
            "Epoch 43/75\n",
            "718/718 [==============================] - 19s 26ms/step - loss: 1.0589 - acc: 0.6348 - val_loss: 0.8612 - val_acc: 0.7125\n",
            "Epoch 44/75\n",
            "718/718 [==============================] - 19s 26ms/step - loss: 1.0549 - acc: 0.6394 - val_loss: 0.8547 - val_acc: 0.7105\n",
            "Epoch 45/75\n",
            "718/718 [==============================] - 19s 27ms/step - loss: 1.0614 - acc: 0.6361 - val_loss: 0.8494 - val_acc: 0.7127\n",
            "Epoch 46/75\n",
            "718/718 [==============================] - 19s 27ms/step - loss: 1.0557 - acc: 0.6370 - val_loss: 0.9088 - val_acc: 0.6937\n",
            "Epoch 47/75\n",
            "718/718 [==============================] - 19s 26ms/step - loss: 1.0548 - acc: 0.6377 - val_loss: 0.8522 - val_acc: 0.7105\n",
            "Epoch 48/75\n",
            "718/718 [==============================] - 19s 27ms/step - loss: 1.0443 - acc: 0.6413 - val_loss: 0.8417 - val_acc: 0.7180\n",
            "Epoch 49/75\n",
            "718/718 [==============================] - 19s 26ms/step - loss: 1.0472 - acc: 0.6420 - val_loss: 0.8333 - val_acc: 0.7145\n",
            "Epoch 50/75\n",
            "718/718 [==============================] - 19s 27ms/step - loss: 1.0429 - acc: 0.6411 - val_loss: 0.8377 - val_acc: 0.7192\n",
            "Epoch 51/75\n",
            "718/718 [==============================] - 19s 27ms/step - loss: 1.0325 - acc: 0.6422 - val_loss: 0.8671 - val_acc: 0.7183\n",
            "Epoch 52/75\n",
            "718/718 [==============================] - 19s 27ms/step - loss: 1.0426 - acc: 0.6429 - val_loss: 0.8223 - val_acc: 0.7258\n",
            "Epoch 53/75\n",
            "718/718 [==============================] - 20s 27ms/step - loss: 1.0443 - acc: 0.6439 - val_loss: 0.8240 - val_acc: 0.7157\n",
            "Epoch 54/75\n",
            "718/718 [==============================] - 19s 27ms/step - loss: 1.0427 - acc: 0.6413 - val_loss: 0.8839 - val_acc: 0.7170\n",
            "Epoch 55/75\n",
            "718/718 [==============================] - 20s 27ms/step - loss: 1.0343 - acc: 0.6440 - val_loss: 0.8138 - val_acc: 0.7280\n",
            "Epoch 56/75\n",
            "718/718 [==============================] - 20s 27ms/step - loss: 1.0404 - acc: 0.6428 - val_loss: 0.8714 - val_acc: 0.7110\n",
            "Epoch 57/75\n",
            "718/718 [==============================] - 19s 27ms/step - loss: 1.0305 - acc: 0.6465 - val_loss: 0.8428 - val_acc: 0.7140\n",
            "Epoch 58/75\n",
            "718/718 [==============================] - 19s 27ms/step - loss: 1.0276 - acc: 0.6489 - val_loss: 0.8288 - val_acc: 0.7308\n",
            "Epoch 59/75\n",
            "718/718 [==============================] - 19s 27ms/step - loss: 1.0356 - acc: 0.6467 - val_loss: 0.8507 - val_acc: 0.7188\n",
            "Epoch 60/75\n",
            "718/718 [==============================] - 19s 27ms/step - loss: 1.0319 - acc: 0.6488 - val_loss: 0.8400 - val_acc: 0.7155\n",
            "Epoch 61/75\n",
            "718/718 [==============================] - 19s 27ms/step - loss: 1.0344 - acc: 0.6512 - val_loss: 0.8211 - val_acc: 0.7272\n",
            "Epoch 62/75\n",
            "718/718 [==============================] - 19s 27ms/step - loss: 1.0271 - acc: 0.6503 - val_loss: 0.8520 - val_acc: 0.7200\n",
            "Epoch 63/75\n",
            "718/718 [==============================] - 19s 26ms/step - loss: 1.0317 - acc: 0.6498 - val_loss: 0.8100 - val_acc: 0.7358\n",
            "Epoch 64/75\n",
            "718/718 [==============================] - 19s 27ms/step - loss: 1.0265 - acc: 0.6525 - val_loss: 0.8952 - val_acc: 0.7115\n",
            "Epoch 65/75\n",
            "718/718 [==============================] - 19s 26ms/step - loss: 1.0273 - acc: 0.6494 - val_loss: 0.8205 - val_acc: 0.7240\n",
            "Epoch 66/75\n",
            "718/718 [==============================] - 19s 27ms/step - loss: 1.0241 - acc: 0.6554 - val_loss: 0.8125 - val_acc: 0.7335\n",
            "Epoch 67/75\n",
            "718/718 [==============================] - 19s 27ms/step - loss: 1.0277 - acc: 0.6540 - val_loss: 0.8215 - val_acc: 0.7295\n",
            "Epoch 68/75\n",
            "718/718 [==============================] - 19s 27ms/step - loss: 1.0255 - acc: 0.6511 - val_loss: 0.8590 - val_acc: 0.7228\n",
            "Epoch 69/75\n",
            "718/718 [==============================] - 19s 27ms/step - loss: 1.0225 - acc: 0.6511 - val_loss: 0.7933 - val_acc: 0.7335\n",
            "Epoch 70/75\n",
            "718/718 [==============================] - 19s 26ms/step - loss: 1.0175 - acc: 0.6549 - val_loss: 0.7800 - val_acc: 0.7362\n",
            "Epoch 71/75\n",
            "718/718 [==============================] - 19s 26ms/step - loss: 1.0177 - acc: 0.6535 - val_loss: 0.8258 - val_acc: 0.7375\n",
            "Epoch 72/75\n",
            "718/718 [==============================] - 19s 26ms/step - loss: 1.0252 - acc: 0.6506 - val_loss: 0.7822 - val_acc: 0.7415\n",
            "Epoch 73/75\n",
            "718/718 [==============================] - 19s 27ms/step - loss: 1.0261 - acc: 0.6512 - val_loss: 0.8096 - val_acc: 0.7272\n",
            "Epoch 74/75\n",
            "718/718 [==============================] - 19s 26ms/step - loss: 1.0217 - acc: 0.6500 - val_loss: 0.8013 - val_acc: 0.7315\n",
            "Epoch 75/75\n",
            "718/718 [==============================] - 19s 26ms/step - loss: 1.0126 - acc: 0.6536 - val_loss: 0.7946 - val_acc: 0.7408\n"
          ],
          "name": "stdout"
        },
        {
          "output_type": "execute_result",
          "data": {
            "text/plain": [
              "<keras.callbacks.History at 0x7f5a2445fef0>"
            ]
          },
          "metadata": {
            "tags": []
          },
          "execution_count": 64
        }
      ]
    },
    {
      "metadata": {
        "id": "I_3fzcLsXiZt",
        "colab_type": "code",
        "colab": {
          "base_uri": "https://localhost:8080/",
          "height": 52
        },
        "outputId": "07068d36-feca-4552-ad3b-5244c40aab91"
      },
      "cell_type": "code",
      "source": [
        "mixedtestModel.model.evaluate(Xtest, ytest)"
      ],
      "execution_count": 65,
      "outputs": [
        {
          "output_type": "stream",
          "text": [
            "10000/10000 [==============================] - 2s 184us/step\n"
          ],
          "name": "stdout"
        },
        {
          "output_type": "execute_result",
          "data": {
            "text/plain": [
              "[0.7910674880981445, 0.7432]"
            ]
          },
          "metadata": {
            "tags": []
          },
          "execution_count": 65
        }
      ]
    },
    {
      "metadata": {
        "id": "9Rp60xdy2MfS",
        "colab_type": "code",
        "colab": {
          "base_uri": "https://localhost:8080/",
          "height": 407
        },
        "outputId": "3c3fd0e0-f63a-4db1-d88d-8231e20662bc"
      },
      "cell_type": "code",
      "source": [
        "plt.title('Validation Accuracy with\\nand Without Class Divisions')\n",
        "plt.plot(testModel.model.history.history['val_acc'], label='Class divisions')\n",
        "plt.plot(mixedtestModel.model.history.history['val_acc'], label='No class division')\n",
        "# plt.plot(noaugtestModel.model.history.history['val_acc'], label='Without augmenting')\n",
        "plt.xlabel('Epoch')\n",
        "plt.ylabel('Validation Accuracy')\n",
        "plt.legend()"
      ],
      "execution_count": 70,
      "outputs": [
        {
          "output_type": "execute_result",
          "data": {
            "text/plain": [
              "<matplotlib.legend.Legend at 0x7f59fb9f57f0>"
            ]
          },
          "metadata": {
            "tags": []
          },
          "execution_count": 70
        },
        {
          "output_type": "display_data",
          "data": {
            "image/png": "[encoded data removed]",
            "text/plain": [
              "<matplotlib.figure.Figure at 0x7f59fba2f438>"
            ]
          },
          "metadata": {
            "tags": []
          }
        }
      ]
    },
    {
      "metadata": {
        "id": "6rmFbzn4Txmu",
        "colab_type": "code",
        "colab": {
          "base_uri": "https://localhost:8080/",
          "height": 407
        },
        "outputId": "4a6c889a-c2a5-4848-9369-dfcf608dbd8a"
      },
      "cell_type": "code",
      "source": [
        "plt.title('Validation Accuracy with\\nand Without Data Augmentation')\n",
        "plt.plot(testModel.model.history.history['val_acc'], label='With Augmentation')\n",
        "plt.plot(noaugtestModel.model.history.history['val_acc'], label='Without Augmentation')\n",
        "plt.xlabel('Epoch')\n",
        "plt.ylabel('Validation Accuracy')\n",
        "plt.legend()"
      ],
      "execution_count": 71,
      "outputs": [
        {
          "output_type": "execute_result",
          "data": {
            "text/plain": [
              "<matplotlib.legend.Legend at 0x7f59fb9def60>"
            ]
          },
          "metadata": {
            "tags": []
          },
          "execution_count": 71
        },
        {
          "output_type": "display_data",
          "data": {
            "image/png": "[encoded data removed]",
            "text/plain": [
              "<matplotlib.figure.Figure at 0x7f59fba58828>"
            ]
          },
          "metadata": {
            "tags": []
          }
        }
      ]
    },
    {
      "metadata": {
        "id": "jbUDfV1Dn1qD",
        "colab_type": "code",
        "colab": {}
      },
      "cell_type": "code",
      "source": [
        ""
      ],
      "execution_count": 0,
      "outputs": []
    }
  ]
}