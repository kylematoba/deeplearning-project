{
  "nbformat": 4,
  "nbformat_minor": 0,
  "metadata": {
    "colab": {
      "name": "keras_wide_res_net_matoba.ipynb",
      "version": "0.3.2",
      "provenance": [],
      "collapsed_sections": [],
      "include_colab_link": true
    },
    "kernelspec": {
      "name": "python3",
      "display_name": "Python 3"
    },
    "accelerator": "TPU"
  },
  "cells": [
    {
      "cell_type": "markdown",
      "metadata": {
        "id": "view-in-github",
        "colab_type": "text"
      },
      "source": [
        "<a href=\"https://colab.research.google.com/github/kylematoba/deeplearning-project/blob/master/keras_wide_res_net_matoba.ipynb\" target=\"_parent\"><img src=\"https://colab.research.google.com/assets/colab-badge.svg\" alt=\"Open In Colab\"/></a>"
      ]
    },
    {
      "metadata": {
        "id": "fr2z4dXiyJfj",
        "colab_type": "code",
        "outputId": "6202ba84-875e-4d4c-8d1e-79c6cb038935",
        "colab": {
          "base_uri": "https://localhost:8080/",
          "height": 86
        }
      },
      "cell_type": "code",
      "source": [
        "# A heavily modified version of https://github.com/tail-island/try-wide-residual-net\n",
        "!pip3 install funcy"
      ],
      "execution_count": 1,
      "outputs": [
        {
          "output_type": "stream",
          "text": [
            "Collecting funcy\n",
            "  Downloading https://files.pythonhosted.org/packages/47/a4/204fa23012e913839c2da4514b92f17da82bf5fc8c2c3d902fa3fa3c6eec/funcy-1.11-py2.py3-none-any.whl\n",
            "Installing collected packages: funcy\n",
            "Successfully installed funcy-1.11\n"
          ],
          "name": "stdout"
        }
      ]
    },
    {
      "metadata": {
        "id": "_MvMJmyKEekN",
        "colab_type": "code",
        "colab": {}
      },
      "cell_type": "code",
      "source": [
        "import os\n",
        "import sys\n",
        "import shutil\n",
        "import pickle\n",
        "import copy\n",
        "import functools\n",
        "import logging\n",
        "\n",
        "from typing import Any, Callable, List, Tuple, Union\n",
        "from operator import getitem, attrgetter\n",
        "from collections import namedtuple\n",
        "\n",
        "import matplotlib.pyplot as plt\n",
        "import numpy as np\n",
        "import tensorflow as tf\n",
        "\n",
        "from PIL import ImageOps\n",
        "from PIL import ImageEnhance\n",
        "from PIL import ImageFilter\n",
        "from PIL import Image\n",
        "\n",
        "from tensorflow.keras.callbacks import LearningRateScheduler\n",
        "from tensorflow.keras.layers import Activation, Add, BatchNormalization, Conv2D, Dense, GlobalAveragePooling2D, Input, Layer\n",
        "from tensorflow.keras.models import Model, save_model, load_model\n",
        "from tensorflow.keras.optimizers import SGD\n",
        "from tensorflow.keras.preprocessing.image import ImageDataGenerator\n",
        "from tensorflow.keras.regularizers import l2\n",
        "# from tensorflow.keras.utils import plot_model\n",
        "\n",
        "from funcy import concat, identity, juxt, partial, rcompose, repeat, repeatedly, take\n",
        "\n",
        "from google.colab import auth\n",
        "from googleapiclient.discovery import build\n",
        "from googleapiclient.http import MediaFileUpload, MediaIoBaseDownload"
      ],
      "execution_count": 0,
      "outputs": []
    },
    {
      "metadata": {
        "id": "hnbyYOOQH4po",
        "colab_type": "code",
        "outputId": "77cbbbf1-8d47-4f07-ce7f-09bd0876f5a0",
        "colab": {
          "base_uri": "https://localhost:8080/",
          "height": 121
        }
      },
      "cell_type": "code",
      "source": [
        "FORMAT = \"%(asctime)s %(process)s %(thread)s: %(message)s\"\n",
        "logging.basicConfig(level=logging.DEBUG, format=FORMAT, stream=sys.stdout)\n",
        "logger = logging.getLogger(__name__)\n",
        "\n",
        "environ_dict = dict(os.environ)\n",
        "use_tpu = 'COLAB_TPU_ADDR' in environ_dict.keys()\n",
        "\n",
        "logger.info(sys.version)\n",
        "logger.info(\"{}\".format(\"Running in ipython\" if 'ipykernel' in sys.modules else \"\"))\n",
        "logger.info(\"Numpy version {}\".format(np.__version__))\n",
        "logger.info(\"TensorFlow version {}\".format(tf.__version__))\n",
        "if use_tpu:\n",
        "    logger.info(\"Running on TPU\")"
      ],
      "execution_count": 3,
      "outputs": [
        {
          "output_type": "stream",
          "text": [
            "2018-12-04 19:58:01,766 74 140220490192768: 3.6.7 (default, Oct 22 2018, 11:32:17) \n",
            "[GCC 8.2.0]\n",
            "2018-12-04 19:58:01,770 74 140220490192768: Running in ipython\n",
            "2018-12-04 19:58:01,771 74 140220490192768: Numpy version 1.14.6\n",
            "2018-12-04 19:58:01,773 74 140220490192768: TensorFlow version 1.12.0\n",
            "2018-12-04 19:58:01,775 74 140220490192768: Running on TPU\n"
          ],
          "name": "stdout"
        }
      ]
    },
    {
      "metadata": {
        "id": "V6DGhtaGbv5n",
        "colab_type": "code",
        "colab": {}
      },
      "cell_type": "code",
      "source": [
        "np.random.seed(0)"
      ],
      "execution_count": 0,
      "outputs": []
    },
    {
      "metadata": {
        "id": "lzcguFhGyByy",
        "colab_type": "code",
        "colab": {}
      },
      "cell_type": "code",
      "source": [
        "def download_data() -> None:\n",
        "    url = 'http://www.cs.toronto.edu/~kriz/cifar-10-python.tar.gz'\n",
        "    shutil.copytree(tf.keras.utils.get_file('cifar-10-batches-py', origin=url, untar=True), './data')\n",
        "\n",
        "    \n",
        "def load_batch(batch_path: str) -> Tuple[np.ndarray, np.ndarray]:\n",
        "    with open(batch_path, 'rb') as f:\n",
        "        batch = pickle.load(f, encoding='bytes')\n",
        "    data_np = np.array(batch[b'data'])\n",
        "    labels_np = np.array(batch[b'labels'])\n",
        "    batch_data = data_np.reshape(data_np.shape[0], 3, 32, 32).transpose(0, 2, 3, 1) / 255\n",
        "    batch_labels = tf.keras.utils.to_categorical(labels_np)\n",
        "    return (batch_data, batch_labels)\n",
        "\n",
        "\n",
        "def load_batches(paths: List[str]):\n",
        "    return tuple(map(np.concatenate, zip(*map(load_batch, paths))))\n",
        "\n",
        "\n",
        "def load_data(data_path='./data') -> Tuple[np.ndarray, np.ndarray]:\n",
        "    if not os.path.exists('./data'):\n",
        "        download_data()\n",
        "    paths = sorted(map(attrgetter('path'), filter(lambda directory_entry: directory_entry.name.startswith('data_batch_'), os.scandir(data_path))))\n",
        "    xy_train = load_batches(paths)\n",
        "    xy_validation = load_batch('{0}/test_batch'.format(data_path))\n",
        "    return (xy_train, xy_validation)"
      ],
      "execution_count": 0,
      "outputs": []
    },
    {
      "metadata": {
        "id": "QwfLMkmHx2iO",
        "colab_type": "code",
        "colab": {}
      },
      "cell_type": "code",
      "source": [
        "def computational_graph(class_size):\n",
        "    def ljuxt(*fs):\n",
        "        return rcompose(juxt(*fs), list)\n",
        "\n",
        "    def batch_normalization():\n",
        "        return BatchNormalization()\n",
        "\n",
        "    def relu() -> tf.keras.layers.Activation:\n",
        "        return Activation('relu')\n",
        "\n",
        "    def conv(filter_size: int, kernel_size: int, stride_size: int=1) -> Layer:\n",
        "        return Conv2D(filter_size, kernel_size, strides=stride_size, padding='same', kernel_initializer='he_normal', kernel_regularizer=l2(0.0005), use_bias=False)\n",
        "\n",
        "    def add():\n",
        "        return Add()\n",
        "\n",
        "    def global_average_pooling():\n",
        "        return GlobalAveragePooling2D()\n",
        "\n",
        "    def dense(units: int, activation: str) -> Layer:\n",
        "        return Dense(units, activation=activation, kernel_regularizer=l2(0.0005))\n",
        "\n",
        "    # Define WRN-28-10.\n",
        "    def first_residual_unit(filter_size: int, stride_size: int):\n",
        "        return rcompose(batch_normalization(),\n",
        "                        relu(),\n",
        "                        ljuxt(rcompose(conv(filter_size, 3, stride_size),\n",
        "                                       batch_normalization(),\n",
        "                                       relu(),\n",
        "                                       conv(filter_size, 3, 1)),\n",
        "                              rcompose(conv(filter_size, 1, stride_size))),\n",
        "                        add())\n",
        "\n",
        "    def residual_unit(filter_size):\n",
        "        return rcompose(ljuxt(rcompose(batch_normalization(),\n",
        "                                       relu(),\n",
        "                                       conv(filter_size, 3),\n",
        "                                       batch_normalization(),\n",
        "                                       relu(),\n",
        "                                       conv(filter_size, 3)),\n",
        "                              identity),\n",
        "                        add())\n",
        "\n",
        "    def residual_block(filter_size, stride_size, unit_size):\n",
        "        return rcompose(first_residual_unit(filter_size, stride_size),\n",
        "                        rcompose(*repeatedly(partial(residual_unit, filter_size), unit_size - 1)))\n",
        "\n",
        "    k = 10\n",
        "    n =  4\n",
        "    return rcompose(conv(16, 3),\n",
        "                    residual_block(16 * k, 1, n),\n",
        "                    residual_block(32 * k, 2, n),\n",
        "                    residual_block(64 * k, 2, n),\n",
        "                    batch_normalization(),\n",
        "                    relu(),\n",
        "                    global_average_pooling(),\n",
        "                    dense(class_size, 'softmax'))"
      ],
      "execution_count": 0,
      "outputs": []
    },
    {
      "metadata": {
        "id": "aAKWy_dh1qf5",
        "colab_type": "code",
        "colab": {
          "base_uri": "https://localhost:8080/",
          "height": 52
        },
        "outputId": "f545a263-d9da-402e-ae58-523d037f6a48"
      },
      "cell_type": "code",
      "source": [
        "(x_train, y_train), (x_validation, y_validation) = load_data()"
      ],
      "execution_count": 7,
      "outputs": [
        {
          "output_type": "stream",
          "text": [
            "Downloading data from http://www.cs.toronto.edu/~kriz/cifar-10-python.tar.gz\n",
            "170500096/170498071 [==============================] - 34s 0us/step\n"
          ],
          "name": "stdout"
        }
      ]
    },
    {
      "metadata": {
        "id": "HVHi7FwKhYts",
        "colab_type": "code",
        "colab": {}
      },
      "cell_type": "code",
      "source": [
        "# A Folder or File in your Google Drive\n",
        "GDriveItem = namedtuple('GDriveItem', ['name', 'fid'])\n",
        "\n",
        "# Epoch information as returned from keras\n",
        "EpochData = namedtuple('EpochData', ['epoch', 'losses'])\n",
        "\n",
        "\n",
        "class GDriveSync:\n",
        "    \"\"\"\n",
        "    Simple up/downloading functionality to move local files into the cloud and vice versa.\n",
        "    \"\"\"\n",
        "    def __init__(self):\n",
        "        auth.authenticate_user()  # prompt the user to access his Google Drive via the API\n",
        "        self.drive_service = build('drive', 'v3')\n",
        "        self.default_folder = self.find_items('Colab Notebooks')[0]\n",
        "\n",
        "    def find_items(self, name: str) -> List[str]:\n",
        "        \"\"\"\n",
        "        Find folders or files based on their name. This always searches the full Google Drive tree!\n",
        "        :param name: Term to be searched. All files containing this search term are returned.\n",
        "        \"\"\"\n",
        "        folder_list = self.drive_service.files().list(q='name contains \"%s\"' % name).execute()\n",
        "        folders = []\n",
        "        for folder in folder_list['files']:\n",
        "            folders.append(GDriveItem(folder['name'], folder['id']))\n",
        "        return folders\n",
        "\n",
        "    def upload_file_to_folder(self, local_file: str, folder=None) -> None:\n",
        "        \"\"\"\n",
        "        Upload a local file, optionally to a specific folder in Google Drive\n",
        "        :param local_file: Path to the local file\n",
        "        :param folder: (Option) GDriveItem which should be the parent.\n",
        "        \"\"\"\n",
        "        if folder is not None:\n",
        "            assert type(folder) == GDriveItem\t\n",
        "\n",
        "        file_metadata = {\n",
        "            'title': local_file,\n",
        "            'name': local_file\n",
        "        }\n",
        "\n",
        "        if folder is not None:\n",
        "            file_metadata['parents'] = [folder.fid]\n",
        "\n",
        "        media = MediaFileUpload(local_file, resumable=True)\n",
        "        created = self.drive_service.files().create(body=file_metadata,\n",
        "                                                    media_body=media,\n",
        "                                                    fields='id')\n",
        "        if folder is not None:\n",
        "            d = 'Uploading file %s to folder %s' % (local_file, folder.name)\n",
        "        else:\n",
        "            d = 'Uploading file %s' % local_file\n",
        "\n",
        "        response = None\n",
        "        while response is None:\n",
        "            status, response = created.next_chunk()\n",
        "                \n",
        "    def download_file_to_folder(self, \n",
        "                                remote_file: GDriveItem, \n",
        "                                path: str) -> None:\n",
        "        assert type(remote_file) == GDriveItem\n",
        "        request = self.drive_service.files().get_media(fileId=remote_file.fid)\n",
        "\n",
        "        with open(path, 'wb') as fh:\n",
        "            downloader = MediaIoBaseDownload(fh, request)\n",
        "            done = False\n",
        "            while done is False:\n",
        "                status, done = downloader.next_chunk()\n",
        "\n",
        "    def delete_file(self, file: GDriveItem) -> None:\n",
        "        assert type(file) == GDriveItem\n",
        "        request = self.drive_service.files().delete(fileId=file.fid)\n",
        "        request.execute()\n",
        "\n",
        "\n",
        "class GDriveCheckpointer(tf.keras.callbacks.Callback):\n",
        "    \"\"\"\n",
        "    Keras Callback that automatically saves models into your Google Drive.\n",
        "    Outdated checkpoints are automatically deleted remotely to prevent GDrive from filling up.\n",
        "    Checkpointing is controlled by two functions:\n",
        "        compare_fn(best_epoch: EpochData, current_epoch: EpochData) -> bool\n",
        "        - If this function returns true, the current_epoch is assumed to have better performance than the older best_epoch.\n",
        "        - e.g. return best_epoch.losses['val_acc'] < current_epoch.losses['val_acc']\n",
        "        filepath_fn(epoch: EpochData) -> Union[String, None]\n",
        "        - If this function returns None, the checkpoint is skipped. This can be used to skip backing up early epochs.\n",
        "          If it returns a String path, the model is uploaded into the default GDrive folder with the given file name.\n",
        "    \"\"\"\n",
        "    def __init__(self, \n",
        "                 compare_fn: Callable, \n",
        "                 filepath_fn: Callable, \n",
        "                 save_optimizer=False):\n",
        "        assert compare_fn is not None, 'Need a compare function which gets all the losses and evaluation data of two epochs and which needs to return True if the second one is better.'\n",
        "        assert filepath_fn is not None, 'Need a function that derives a file path based on a dictionary of losses and metrics.'\n",
        "\n",
        "        restart_from_backup = False\n",
        "        super(GDriveCheckpointer, self).__init__()\n",
        "        self.saver = GDriveSync()\n",
        "        self.compare_fn = compare_fn\n",
        "        self.filepath_fn = filepath_fn\n",
        "        self.best_epoch = None\n",
        "        self.best_filename = None\n",
        "        self.save_optimizer = save_optimizer\n",
        "\n",
        "    def on_epoch_end(self, epoch: int, logs={}):\n",
        "        losses = dict(logs)\n",
        "        epoch_data = EpochData(epoch, losses)\n",
        "        if self.best_epoch is None or self.compare_fn(self.best_epoch, epoch_data):\n",
        "            self.best_epoch = copy.deepcopy(epoch_data)\n",
        "            fn = self.filepath_fn(epoch_data)\n",
        "            if fn is not None and fn:\n",
        "                if self.best_filename:\n",
        "                    os.remove(self.best_filename)\n",
        "                    all_found = self.saver.find_items(self.best_filename)\n",
        "                    old_file = all_found[0]\n",
        "                    print('Removing old cloud file %s' % old_file.name)\n",
        "                    self.saver.delete_file(old_file)\n",
        "                self.best_filename = fn\n",
        "                self._save_checkpoint()\n",
        "            else:\n",
        "                print('Skipping upload because path function returned no path.')\n",
        "        else:\n",
        "            pass\n",
        "\n",
        "    def _save_checkpoint(self):\n",
        "        print('Saving {}'.format(self.best_filename))\n",
        "        self.model.save(self.best_filename)\n",
        "        print('Uploading to {}'.format(self.saver.default_folder))\n",
        "        self.saver.upload_file_to_folder(self.best_filename, self.saver.default_folder)\n",
        "        "
      ],
      "execution_count": 0,
      "outputs": []
    },
    {
      "metadata": {
        "id": "hfTNTdhRng3r",
        "colab_type": "code",
        "colab": {}
      },
      "cell_type": "code",
      "source": [
        "def filepath_fn_unbound(filebase: str, \n",
        "                        x: EpochData) -> Union[str, None]:\n",
        "    filepath = '{}_{:04d}'.format(filebase, x.epoch)\n",
        "    return filepath\n",
        "  \n",
        "\n",
        "def compare_fn(best_epoch: EpochData, \n",
        "               current_epoch: EpochData) -> bool:\n",
        "    save_every = 10\n",
        "    save = 0 == current_epoch.epoch % save_every\n",
        "    return save\n",
        "  \n",
        "\n",
        "# filebase = 'wide_res_net'\n",
        "filebase = 'autoaugment'\n",
        "filepath_fn = lambda x: filepath_fn_unbound(filebase, x)"
      ],
      "execution_count": 0,
      "outputs": []
    },
    {
      "metadata": {
        "id": "wLizRtbkgRVL",
        "colab_type": "code",
        "outputId": "58915f82-5f44-40af-baf3-839c15752be6",
        "colab": {
          "base_uri": "https://localhost:8080/",
          "height": 645
        }
      },
      "cell_type": "code",
      "source": [
        "# this one prompts for authorisation\n",
        "gdcp = GDriveCheckpointer(compare_fn, filepath_fn)\n",
        "# gdcp"
      ],
      "execution_count": 10,
      "outputs": [
        {
          "output_type": "stream",
          "text": [
            "2018-12-04 19:59:18,445 74 140220490192768: Making request: POST https://accounts.google.com/o/oauth2/token\n",
            "2018-12-04 19:59:18,453 74 140220490192768: Starting new HTTPS connection (1): accounts.google.com\n",
            "2018-12-04 19:59:18,510 74 140220490192768: https://accounts.google.com:443 \"POST /o/oauth2/token HTTP/1.1\" 200 None\n",
            "2018-12-04 19:59:18,521 74 140220490192768: file_cache is unavailable when using oauth2client >= 4.0.0\n",
            "Traceback (most recent call last):\n",
            "  File \"/usr/local/lib/python3.6/dist-packages/googleapiclient/discovery_cache/__init__.py\", line 36, in autodetect\n",
            "    from google.appengine.api import memcache\n",
            "ModuleNotFoundError: No module named 'google.appengine'\n",
            "\n",
            "During handling of the above exception, another exception occurred:\n",
            "\n",
            "Traceback (most recent call last):\n",
            "  File \"/usr/local/lib/python3.6/dist-packages/googleapiclient/discovery_cache/file_cache.py\", line 33, in <module>\n",
            "    from oauth2client.contrib.locked_file import LockedFile\n",
            "ModuleNotFoundError: No module named 'oauth2client.contrib.locked_file'\n",
            "\n",
            "During handling of the above exception, another exception occurred:\n",
            "\n",
            "Traceback (most recent call last):\n",
            "  File \"/usr/local/lib/python3.6/dist-packages/googleapiclient/discovery_cache/file_cache.py\", line 37, in <module>\n",
            "    from oauth2client.locked_file import LockedFile\n",
            "ModuleNotFoundError: No module named 'oauth2client.locked_file'\n",
            "\n",
            "During handling of the above exception, another exception occurred:\n",
            "\n",
            "Traceback (most recent call last):\n",
            "  File \"/usr/local/lib/python3.6/dist-packages/googleapiclient/discovery_cache/__init__.py\", line 41, in autodetect\n",
            "    from . import file_cache\n",
            "  File \"/usr/local/lib/python3.6/dist-packages/googleapiclient/discovery_cache/file_cache.py\", line 41, in <module>\n",
            "    'file_cache is unavailable when using oauth2client >= 4.0.0')\n",
            "ImportError: file_cache is unavailable when using oauth2client >= 4.0.0\n",
            "2018-12-04 19:59:18,523 74 140220490192768: URL being requested: GET https://www.googleapis.com/discovery/v1/apis/drive/v3/rest\n",
            "2018-12-04 19:59:18,551 74 140220490192768: No project ID could be determined. Consider running `gcloud config set project` or setting the GOOGLE_CLOUD_PROJECT environment variable\n",
            "2018-12-04 19:59:18,561 74 140220490192768: URL being requested: GET https://www.googleapis.com/drive/v3/files?q=name+contains+%22Colab+Notebooks%22&alt=json\n",
            "2018-12-04 19:59:18,563 74 140220490192768: Making request: POST https://accounts.google.com/o/oauth2/token\n"
          ],
          "name": "stdout"
        }
      ]
    },
    {
      "metadata": {
        "id": "NcH_ki4r-NBa",
        "colab_type": "code",
        "outputId": "f37f6ded-77b8-46a0-e837-792098ae9d63",
        "colab": {
          "base_uri": "https://localhost:8080/",
          "height": 86
        }
      },
      "cell_type": "code",
      "source": [
        "def get_last_filename(filebase: str) -> str:\n",
        "    remote_files = gdcp.saver.find_items(filebase)\n",
        "    sorted_filenames = sorted([x.name for x in remote_files])\n",
        "    if len(sorted_filenames) > 0:\n",
        "        last_filename = sorted_filenames[-1]\n",
        "    else:\n",
        "        last_filename = None\n",
        "    return last_filename\n",
        "\n",
        "attempt_reload_from_drive = True\n",
        "reload_from = '0290'\n",
        "last_filename = get_last_filename(filebase)\n",
        "\n",
        "if attempt_reload_from_drive and (last_filename is not None):\n",
        "    remote_files = gdcp.saver.find_items(last_filename)\n",
        "    remote_file = remote_files[0]\n",
        "    local_best_model_fn = remote_file.name\n",
        "    logger.info(\"Loading from {}\".format(local_best_model_fn))\n",
        "    gdcp.saver.download_file_to_folder(remote_file, local_best_model_fn)\n",
        "    model = load_model(local_best_model_fn)\n",
        "    initial_epoch = int(remote_file.name.split('_')[-1])\n",
        "else:\n",
        "    xshape = x_train.shape[1:]\n",
        "    yshape = y_train.shape[1]\n",
        "    model = Model(*juxt(identity, computational_graph(yshape))(Input(shape=xshape)))\n",
        "    optimizer = SGD(momentum=0.9)\n",
        "    model.compile(loss='categorical_crossentropy', optimizer=optimizer, metrics=['accuracy'])  # nesterov=True\n",
        "    initial_epoch = 0"
      ],
      "execution_count": 11,
      "outputs": [
        {
          "output_type": "stream",
          "text": [
            "2018-12-04 19:59:18,910 74 140220490192768: URL being requested: GET https://www.googleapis.com/drive/v3/files?q=name+contains+%22autoaugment%22&alt=json\n",
            "2018-12-04 19:59:19,341 74 140220490192768: URL being requested: GET https://www.googleapis.com/drive/v3/files?q=name+contains+%22autoaugment_0290%22&alt=json\n",
            "2018-12-04 19:59:19,560 74 140220490192768: Loading from autoaugment_0290\n",
            "2018-12-04 19:59:19,564 74 140220490192768: URL being requested: GET https://www.googleapis.com/drive/v3/files/1hDO9PiS9drv8G0m6Ajh0sVpAqhga1pc6?alt=media\n"
          ],
          "name": "stdout"
        }
      ]
    },
    {
      "metadata": {
        "id": "8GaFv9bBsyc1",
        "colab_type": "code",
        "outputId": "03227170-9383-4be2-c526-dc53bbb5a89f",
        "colab": {
          "base_uri": "https://localhost:8080/",
          "height": 72
        }
      },
      "cell_type": "code",
      "source": [
        "remote_files = gdcp.saver.find_items(filebase)\n",
        "sorted_filenames = sorted([x.name for x in remote_files])\n",
        "if len(sorted_filenames) > 0:\n",
        "    last_filename = sorted_filenames[-1]\n",
        "else:\n",
        "    last_filename = None\n",
        "print(sorted_filenames)\n",
        "\n",
        "# to_delete = gdcp.find_items()\n",
        "# gdcp.drive_service.files().delete(fileId=file.fid)"
      ],
      "execution_count": 12,
      "outputs": [
        {
          "output_type": "stream",
          "text": [
            "2018-12-04 19:59:26,606 74 140220490192768: URL being requested: GET https://www.googleapis.com/drive/v3/files?q=name+contains+%22autoaugment%22&alt=json\n",
            "['AutoAugment_withPPO.ipynb', 'AutoAugment_withPPO.ipynb', 'AutoAugment_withPPO.ipynb', 'AutoAugment_withPPO_tpu.ipynb', 'Copy of AutoAugment_withPPO.ipynb', 'Copy of AutoAugment_withPPO.ipynb', 'Copy of autoaugment.ipynb', 'Copy of autoaugment.ipynb', 'autoaugment.ipynb', 'autoaugment_0100', 'autoaugment_0240', 'autoaugment_0290']\n"
          ],
          "name": "stdout"
        }
      ]
    },
    {
      "metadata": {
        "id": "dTu0zJCdCMG6",
        "colab_type": "code",
        "colab": {}
      },
      "cell_type": "code",
      "source": [
        "PARAMETER_MAX = 10 \n",
        "\n",
        "\n",
        "def float_parameter(level, maxval):\n",
        "    return float(level) * maxval / PARAMETER_MAX\n",
        "\n",
        "\n",
        "def int_parameter(level, maxval):\n",
        "    return int(level * maxval / PARAMETER_MAX)\n",
        "\n",
        "  \n",
        "def create_cutout_mask(img_height, img_width, num_channels, size):\n",
        "    \"\"\"Creates a zero mask used for cutout of shape `img_height` x `img_width`.\n",
        "\n",
        "    Args:\n",
        "      img_height: Height of image cutout mask will be applied to.\n",
        "      img_width: Width of image cutout mask will be applied to.\n",
        "      num_channels: Number of channels in the image.\n",
        "      size: Size of the zeros mask.\n",
        "\n",
        "    Returns:\n",
        "      A mask of shape `img_height` x `img_width` with all ones except for a\n",
        "      square of zeros of shape `size` x `size`. This mask is meant to be\n",
        "      elementwise multiplied with the original image. Additionally returns\n",
        "      the `upper_coord` and `lower_coord` which specify where the cutout mask\n",
        "      will be applied.\n",
        "    \"\"\"\n",
        "    assert img_height == img_width\n",
        "\n",
        "    # Sample center where cutout mask will be applied\n",
        "    height_loc = np.random.randint(low=0, high=img_height)\n",
        "    width_loc = np.random.randint(low=0, high=img_width)\n",
        "\n",
        "    # Determine upper right and lower left corners of patch\n",
        "    upper_coord = (max(0, height_loc - size // 2), max(0, width_loc - size // 2))\n",
        "    lower_coord = (min(img_height, height_loc + size // 2), min(img_width, width_loc + size // 2))\n",
        "    mask_height = lower_coord[0] - upper_coord[0]\n",
        "    mask_width = lower_coord[1] - upper_coord[1]\n",
        "    assert mask_height > 0\n",
        "    assert mask_width > 0\n",
        "\n",
        "    mask = np.ones((img_height, img_width, num_channels))\n",
        "    zeros = np.zeros((mask_height, mask_width, num_channels))\n",
        "    mask[upper_coord[0]:lower_coord[0], upper_coord[1]:lower_coord[1], :] = (zeros)\n",
        "    return mask, upper_coord, lower_coord\n",
        "\n",
        "\n",
        "def cutout_numpy(img, size=16):\n",
        "    \"\"\"Apply cutout with mask of shape `size` x `size` to `img`.\n",
        "\n",
        "    The cutout operation is from the paper https://arxiv.org/abs/1708.04552.\n",
        "    This operation applies a `size`x`size` mask of zeros to a random location\n",
        "    within `img`.\n",
        "\n",
        "    Args:\n",
        "      img: Numpy image that cutout will be applied to.\n",
        "      size: Height/width of the cutout mask that will be\n",
        "\n",
        "    Returns:\n",
        "      A numpy tensor that is the result of applying the cutout mask to `img`.\n",
        "    \"\"\"\n",
        "    img_height, img_width, num_channels = (img.shape[0], img.shape[1], img.shape[2])\n",
        "    assert len(img.shape) == 3\n",
        "    mask, _, _ = create_cutout_mask(img_height, img_width, num_channels, size)\n",
        "    return img * mask\n",
        "\n",
        "  \n",
        "def random_flip(x):\n",
        "    \"\"\"Flip the input x horizontally with 50% probability.\"\"\"\n",
        "    if np.random.rand(1)[0] > 0.5:\n",
        "        return np.fliplr(x)\n",
        "    return x\n",
        "\n",
        "\n",
        "def zero_pad_and_crop(img, amount=4):\n",
        "    \"\"\"Zero pad by `amount` zero pixels on each side then take a random crop.\n",
        "    Args:\n",
        "      img: numpy image that will be zero padded and cropped.\n",
        "      amount: amount of zeros to pad `img` with horizontally and verically.\n",
        "\n",
        "    Returns:\n",
        "      The cropped zero padded img. The returned numpy array will be of the same\n",
        "      shape as `img`.\n",
        "    \"\"\"\n",
        "    padded_img = np.zeros((img.shape[0] + amount * 2, img.shape[1] + amount * 2, img.shape[2]))\n",
        "    padded_img[amount:img.shape[0] + amount, amount:img.shape[1] + amount, :] = img\n",
        "    top = np.random.randint(low=0, high=2 * amount)\n",
        "    left = np.random.randint(low=0, high=2 * amount)\n",
        "    new_img = padded_img[top:top + img.shape[0], left:left + img.shape[1], :]\n",
        "    return new_img\n",
        "  "
      ],
      "execution_count": 0,
      "outputs": []
    },
    {
      "metadata": {
        "id": "z0ia8YPhk_Yn",
        "colab_type": "code",
        "colab": {
          "base_uri": "https://localhost:8080/",
          "height": 34
        },
        "outputId": "b9046885-39e2-4292-8cd7-54b927420fa8"
      },
      "cell_type": "code",
      "source": [
        "# !git clone https://github.com/tensorflow/models.git\n",
        "\n",
        "def return_good_policies() -> List[tuple]:\n",
        "    \"\"\"AutoAugment policies found on analysis.\"\"\"\n",
        "    exp0_0 = [\n",
        "      [('FlipLR', 0.5, 5)],\n",
        "      [('TranslateY', 0.5, 5)],\n",
        "      [('TranslateX', 0.5, 5)],\n",
        "      [('ShearY', 0.5, 5)],\n",
        "      [('Solarize', 0.5, 5)],\n",
        "      [('Rotate', 0.5, 5)]\n",
        "    ]\n",
        "    return exp0_0\n",
        "\n",
        "good_policies = return_good_policies()\n",
        "\n",
        "\n",
        "import models.research.autoaugment.augmentation_transforms as augmentation_transforms\n",
        "\n",
        "\n",
        "epoch_policy = good_policies[np.random.choice(len(good_policies))]\n",
        "            \n",
        "# def apply_good_policy() -> np.ndarray:\n",
        "#     epoch_policy = good_policies[np.random.choice(len(good_policies))]\n",
        "#     final_img = augmentation_transforms.apply_policy(epoch_policy, data)\n",
        "#     final_img = augmentation_transforms.random_flip(augmentation_transforms.zero_pad_and_crop(final_img, 4))\n",
        "#     final_img = augmentation_transforms.cutout_numpy(final_img)  # Apply cutout\n",
        "  \n",
        "print(epoch_policy)"
      ],
      "execution_count": 19,
      "outputs": [
        {
          "output_type": "stream",
          "text": [
            "[('FlipLR', 0.5, 5)]\n"
          ],
          "name": "stdout"
        }
      ]
    },
    {
      "metadata": {
        "id": "8dXO3DmuzsPH",
        "colab_type": "code",
        "colab": {}
      },
      "cell_type": "code",
      "source": [
        "\n",
        "def return_good_policies() -> List[tuple]:\n",
        "    \"\"\"AutoAugment policies found on analysis.\"\"\"\n",
        "    exp0_0 = [\n",
        "      [('FlipLR', 0.5, 5)],\n",
        "      [('TranslateY', 0.5, 5)],\n",
        "      [('TranslateX', 0.5, 5)],\n",
        "      [('ShearY', 0.5, 5)],\n",
        "      [('Solarize', 0.5, 5)],\n",
        "      [('Rotate', 0.5, 5)]\n",
        "    ]\n",
        "    return exp0_0\n",
        "\n",
        "good_policies = return_good_policies()\n",
        "\n",
        "import models.research.autoaugment.augmentation_transforms as augmentation_transforms\n",
        "\n",
        "# https://software.intel.com/en-us/articles/hands-on-ai-part-14-image-data-preprocessing-and-augmentation\n",
        "batch_size = 128\n",
        "checkpoint_period = 5\n",
        "\n",
        "#             epoch_policy = self.good_policies[np.random.choice(len(self.good_policies))]\n",
        "#             final_img = augmentation_transforms.apply_policy(epoch_policy, data)\n",
        "#             final_img = augmentation_transforms.random_flip(augmentation_transforms.zero_pad_and_crop(final_img, 4))\n",
        "#             final_img = augmentation_transforms.cutout_numpy(final_img)  # Apply cutout\n",
        "# MEANS = [0.49139968, 0.48215841, 0.44653091]\n",
        "# STDS = [0.24703223, 0.24348513, 0.26158784]\n",
        "\n",
        "\n",
        "# def pil_wrap(img):\n",
        "#     return Image.fromarray(np.uint8((img * STDS + MEANS) * 255.0)).convert('RGBA')\n",
        "\n",
        "\n",
        "# def pil_unwrap(pil_img):\n",
        "#     pic_array = (np.array(pil_img.getdata()).reshape((32, 32, 4)) / 255.0)\n",
        "#     i1, i2 = np.where(pic_array[:, :, 3] == 0)\n",
        "#     pic_array = (pic_array[:, :, :3] - MEANS) / STDS\n",
        "#     pic_array[i1, i2] = [0, 0, 0]\n",
        "#     return pic_array\n",
        "\n",
        "  \n",
        "# def autoaugment(x: np.ndarray) -> np.ndarray:\n",
        "#     the_transform = np.random.choice([1, 2, 3, 4, 5, 6])\n",
        "#     x = pil_unwrap(pil_wrap(x).transpose(Image.FLIP_LEFT_RIGHT))  # [('flip_lr', 0.5, 5)],\n",
        "#     return x\n",
        "  \n",
        "    \n",
        "def autoaugment(x: np.ndarray) -> np.ndarray:\n",
        "    epoch_policy = good_policies[np.random.choice(len(good_policies))]\n",
        "    x = augmentation_transforms.apply_policy(epoch_policy, x)\n",
        "    return x\n",
        "  \n",
        "    \n",
        "# augmentation_transforms\n",
        "\n",
        "if filebase == 'autoaugment':\n",
        "#     def preprocessing_function(x: np.ndarray) -> np.ndarray:\n",
        "#         # policy = lambda x: x\n",
        "#         x = autoaugment(x)\n",
        "#         x = random_flip(zero_pad_and_crop(x, 4))\n",
        "#         x = cutout_numpy(x)\n",
        "#         return x\n",
        "    def preprocessing_function(x: np.ndarray) -> np.ndarray:\n",
        "        x = autoaugment(x)\n",
        "        x = augmentation_transforms.random_flip(augmentation_transforms.zero_pad_and_crop(x, 4))\n",
        "        x = augmentation_transforms.cutout_numpy(x)\n",
        "        return x\n",
        "\n",
        "    horizontal_flip = False\n",
        "    width_shift_range = 0.0\n",
        "    height_shift_range = 0.0\n",
        "    epochs = 300\n",
        "elif filebase == 'wide_res_net':\n",
        "    def preprocessing_function(x: np.ndarray) -> np.ndarray:\n",
        "        return x\n",
        "    epochs = 200\n",
        "    width_shift_range = 0.125\n",
        "    height_shift_range = 0.125\n",
        "    horizontal_flip = True"
      ],
      "execution_count": 0,
      "outputs": []
    },
    {
      "metadata": {
        "id": "GwTVXXHQ0O6y",
        "colab_type": "code",
        "colab": {}
      },
      "cell_type": "code",
      "source": [
        "\n",
        "\n",
        "import models.research.autoaugment.augmentation_transforms as augmentation_transforms"
      ],
      "execution_count": 0,
      "outputs": []
    },
    {
      "metadata": {
        "id": "56AvWfTKCuBG",
        "colab_type": "code",
        "outputId": "a1aabcf3-da36-40ea-e324-7833b55b3aed",
        "colab": {
          "base_uri": "https://localhost:8080/",
          "height": 379
        }
      },
      "cell_type": "code",
      "source": [
        "CLASS_LABELS = np.array(['plane', 'car', 'bird', 'cat', 'deer', 'dog', 'frog', 'horse', 'ship', 'truck'])\n",
        "\n",
        "train_set_size = x_train.shape[0]\n",
        "# idx = 1000\n",
        "idx = np.random.randint(train_set_size)\n",
        "# idx = 2395\n",
        "label = CLASS_LABELS[y_train[idx, :].astype(bool)]\n",
        "plt.imshow(x_train[idx, :, :, :])\n",
        "plt.title(label)\n"
      ],
      "execution_count": 22,
      "outputs": [
        {
          "output_type": "execute_result",
          "data": {
            "text/plain": [
              "Text(0.5,1,\"['plane']\")"
            ]
          },
          "metadata": {
            "tags": []
          },
          "execution_count": 22
        },
        {
          "output_type": "display_data",
          "data": {
            "image/png": "[encoded data removed]",
            "text/plain": [
              "<matplotlib.figure.Figure at 0x7f876127b0b8>"
            ]
          },
          "metadata": {
            "tags": []
          }
        }
      ]
    },
    {
      "metadata": {
        "id": "dcDHEgy6Cv_Q",
        "colab_type": "code",
        "outputId": "40905226-d666-42ec-c472-b87899ccbeb6",
        "colab": {
          "base_uri": "https://localhost:8080/",
          "height": 2214
        }
      },
      "cell_type": "code",
      "source": [
        "# !ls models/research/autoaugment\n",
        "plt.imshow(preprocessing_function(x_train[idx, :, :, :]))"
      ],
      "execution_count": 47,
      "outputs": [
        {
          "output_type": "execute_result",
          "data": {
            "text/plain": [
              "<matplotlib.image.AxesImage at 0x7f8760e050b8>"
            ]
          },
          "metadata": {
            "tags": []
          },
          "execution_count": 47
        },
        {
          "output_type": "error",
          "ename": "ValueError",
          "evalue": "ignored",
          "traceback": [
            "\u001b[0;31m---------------------------------------------------------------------------\u001b[0m",
            "\u001b[0;31mValueError\u001b[0m                                Traceback (most recent call last)",
            "\u001b[0;32m/usr/local/lib/python3.6/dist-packages/IPython/core/formatters.py\u001b[0m in \u001b[0;36m__call__\u001b[0;34m(self, obj)\u001b[0m\n\u001b[1;32m    332\u001b[0m                 \u001b[0;32mpass\u001b[0m\u001b[0;34m\u001b[0m\u001b[0;34m\u001b[0m\u001b[0m\n\u001b[1;32m    333\u001b[0m             \u001b[0;32melse\u001b[0m\u001b[0;34m:\u001b[0m\u001b[0;34m\u001b[0m\u001b[0;34m\u001b[0m\u001b[0m\n\u001b[0;32m--> 334\u001b[0;31m                 \u001b[0;32mreturn\u001b[0m \u001b[0mprinter\u001b[0m\u001b[0;34m(\u001b[0m\u001b[0mobj\u001b[0m\u001b[0;34m)\u001b[0m\u001b[0;34m\u001b[0m\u001b[0;34m\u001b[0m\u001b[0m\n\u001b[0m\u001b[1;32m    335\u001b[0m             \u001b[0;31m# Finally look for special method names\u001b[0m\u001b[0;34m\u001b[0m\u001b[0;34m\u001b[0m\u001b[0;34m\u001b[0m\u001b[0m\n\u001b[1;32m    336\u001b[0m             \u001b[0mmethod\u001b[0m \u001b[0;34m=\u001b[0m \u001b[0mget_real_method\u001b[0m\u001b[0;34m(\u001b[0m\u001b[0mobj\u001b[0m\u001b[0;34m,\u001b[0m \u001b[0mself\u001b[0m\u001b[0;34m.\u001b[0m\u001b[0mprint_method\u001b[0m\u001b[0;34m)\u001b[0m\u001b[0;34m\u001b[0m\u001b[0;34m\u001b[0m\u001b[0m\n",
            "\u001b[0;32m/usr/local/lib/python3.6/dist-packages/IPython/core/pylabtools.py\u001b[0m in \u001b[0;36m<lambda>\u001b[0;34m(fig)\u001b[0m\n\u001b[1;32m    239\u001b[0m \u001b[0;34m\u001b[0m\u001b[0m\n\u001b[1;32m    240\u001b[0m     \u001b[0;32mif\u001b[0m \u001b[0;34m'png'\u001b[0m \u001b[0;32min\u001b[0m \u001b[0mformats\u001b[0m\u001b[0;34m:\u001b[0m\u001b[0;34m\u001b[0m\u001b[0;34m\u001b[0m\u001b[0m\n\u001b[0;32m--> 241\u001b[0;31m         \u001b[0mpng_formatter\u001b[0m\u001b[0;34m.\u001b[0m\u001b[0mfor_type\u001b[0m\u001b[0;34m(\u001b[0m\u001b[0mFigure\u001b[0m\u001b[0;34m,\u001b[0m \u001b[0;32mlambda\u001b[0m \u001b[0mfig\u001b[0m\u001b[0;34m:\u001b[0m \u001b[0mprint_figure\u001b[0m\u001b[0;34m(\u001b[0m\u001b[0mfig\u001b[0m\u001b[0;34m,\u001b[0m \u001b[0;34m'png'\u001b[0m\u001b[0;34m,\u001b[0m \u001b[0;34m**\u001b[0m\u001b[0mkwargs\u001b[0m\u001b[0;34m)\u001b[0m\u001b[0;34m)\u001b[0m\u001b[0;34m\u001b[0m\u001b[0;34m\u001b[0m\u001b[0m\n\u001b[0m\u001b[1;32m    242\u001b[0m     \u001b[0;32mif\u001b[0m \u001b[0;34m'retina'\u001b[0m \u001b[0;32min\u001b[0m \u001b[0mformats\u001b[0m \u001b[0;32mor\u001b[0m \u001b[0;34m'png2x'\u001b[0m \u001b[0;32min\u001b[0m \u001b[0mformats\u001b[0m\u001b[0;34m:\u001b[0m\u001b[0;34m\u001b[0m\u001b[0;34m\u001b[0m\u001b[0m\n\u001b[1;32m    243\u001b[0m         \u001b[0mpng_formatter\u001b[0m\u001b[0;34m.\u001b[0m\u001b[0mfor_type\u001b[0m\u001b[0;34m(\u001b[0m\u001b[0mFigure\u001b[0m\u001b[0;34m,\u001b[0m \u001b[0;32mlambda\u001b[0m \u001b[0mfig\u001b[0m\u001b[0;34m:\u001b[0m \u001b[0mretina_figure\u001b[0m\u001b[0;34m(\u001b[0m\u001b[0mfig\u001b[0m\u001b[0;34m,\u001b[0m \u001b[0;34m**\u001b[0m\u001b[0mkwargs\u001b[0m\u001b[0;34m)\u001b[0m\u001b[0;34m)\u001b[0m\u001b[0;34m\u001b[0m\u001b[0;34m\u001b[0m\u001b[0m\n",
            "\u001b[0;32m/usr/local/lib/python3.6/dist-packages/IPython/core/pylabtools.py\u001b[0m in \u001b[0;36mprint_figure\u001b[0;34m(fig, fmt, bbox_inches, **kwargs)\u001b[0m\n\u001b[1;32m    123\u001b[0m \u001b[0;34m\u001b[0m\u001b[0m\n\u001b[1;32m    124\u001b[0m     \u001b[0mbytes_io\u001b[0m \u001b[0;34m=\u001b[0m \u001b[0mBytesIO\u001b[0m\u001b[0;34m(\u001b[0m\u001b[0;34m)\u001b[0m\u001b[0;34m\u001b[0m\u001b[0;34m\u001b[0m\u001b[0m\n\u001b[0;32m--> 125\u001b[0;31m     \u001b[0mfig\u001b[0m\u001b[0;34m.\u001b[0m\u001b[0mcanvas\u001b[0m\u001b[0;34m.\u001b[0m\u001b[0mprint_figure\u001b[0m\u001b[0;34m(\u001b[0m\u001b[0mbytes_io\u001b[0m\u001b[0;34m,\u001b[0m \u001b[0;34m**\u001b[0m\u001b[0mkw\u001b[0m\u001b[0;34m)\u001b[0m\u001b[0;34m\u001b[0m\u001b[0;34m\u001b[0m\u001b[0m\n\u001b[0m\u001b[1;32m    126\u001b[0m     \u001b[0mdata\u001b[0m \u001b[0;34m=\u001b[0m \u001b[0mbytes_io\u001b[0m\u001b[0;34m.\u001b[0m\u001b[0mgetvalue\u001b[0m\u001b[0;34m(\u001b[0m\u001b[0;34m)\u001b[0m\u001b[0;34m\u001b[0m\u001b[0;34m\u001b[0m\u001b[0m\n\u001b[1;32m    127\u001b[0m     \u001b[0;32mif\u001b[0m \u001b[0mfmt\u001b[0m \u001b[0;34m==\u001b[0m \u001b[0;34m'svg'\u001b[0m\u001b[0;34m:\u001b[0m\u001b[0;34m\u001b[0m\u001b[0;34m\u001b[0m\u001b[0m\n",
            "\u001b[0;32m/usr/local/lib/python3.6/dist-packages/matplotlib/backend_bases.py\u001b[0m in \u001b[0;36mprint_figure\u001b[0;34m(self, filename, dpi, facecolor, edgecolor, orientation, format, **kwargs)\u001b[0m\n\u001b[1;32m   2214\u001b[0m                     \u001b[0morientation\u001b[0m\u001b[0;34m=\u001b[0m\u001b[0morientation\u001b[0m\u001b[0;34m,\u001b[0m\u001b[0;34m\u001b[0m\u001b[0;34m\u001b[0m\u001b[0m\n\u001b[1;32m   2215\u001b[0m                     \u001b[0mdryrun\u001b[0m\u001b[0;34m=\u001b[0m\u001b[0;32mTrue\u001b[0m\u001b[0;34m,\u001b[0m\u001b[0;34m\u001b[0m\u001b[0;34m\u001b[0m\u001b[0m\n\u001b[0;32m-> 2216\u001b[0;31m                     **kwargs)\n\u001b[0m\u001b[1;32m   2217\u001b[0m                 \u001b[0mrenderer\u001b[0m \u001b[0;34m=\u001b[0m \u001b[0mself\u001b[0m\u001b[0;34m.\u001b[0m\u001b[0mfigure\u001b[0m\u001b[0;34m.\u001b[0m\u001b[0m_cachedRenderer\u001b[0m\u001b[0;34m\u001b[0m\u001b[0;34m\u001b[0m\u001b[0m\n\u001b[1;32m   2218\u001b[0m                 \u001b[0mbbox_inches\u001b[0m \u001b[0;34m=\u001b[0m \u001b[0mself\u001b[0m\u001b[0;34m.\u001b[0m\u001b[0mfigure\u001b[0m\u001b[0;34m.\u001b[0m\u001b[0mget_tightbbox\u001b[0m\u001b[0;34m(\u001b[0m\u001b[0mrenderer\u001b[0m\u001b[0;34m)\u001b[0m\u001b[0;34m\u001b[0m\u001b[0;34m\u001b[0m\u001b[0m\n",
            "\u001b[0;32m/usr/local/lib/python3.6/dist-packages/matplotlib/backends/backend_agg.py\u001b[0m in \u001b[0;36mprint_png\u001b[0;34m(self, filename_or_obj, *args, **kwargs)\u001b[0m\n\u001b[1;32m    505\u001b[0m \u001b[0;34m\u001b[0m\u001b[0m\n\u001b[1;32m    506\u001b[0m     \u001b[0;32mdef\u001b[0m \u001b[0mprint_png\u001b[0m\u001b[0;34m(\u001b[0m\u001b[0mself\u001b[0m\u001b[0;34m,\u001b[0m \u001b[0mfilename_or_obj\u001b[0m\u001b[0;34m,\u001b[0m \u001b[0;34m*\u001b[0m\u001b[0margs\u001b[0m\u001b[0;34m,\u001b[0m \u001b[0;34m**\u001b[0m\u001b[0mkwargs\u001b[0m\u001b[0;34m)\u001b[0m\u001b[0;34m:\u001b[0m\u001b[0;34m\u001b[0m\u001b[0;34m\u001b[0m\u001b[0m\n\u001b[0;32m--> 507\u001b[0;31m         \u001b[0mFigureCanvasAgg\u001b[0m\u001b[0;34m.\u001b[0m\u001b[0mdraw\u001b[0m\u001b[0;34m(\u001b[0m\u001b[0mself\u001b[0m\u001b[0;34m)\u001b[0m\u001b[0;34m\u001b[0m\u001b[0;34m\u001b[0m\u001b[0m\n\u001b[0m\u001b[1;32m    508\u001b[0m         \u001b[0mrenderer\u001b[0m \u001b[0;34m=\u001b[0m \u001b[0mself\u001b[0m\u001b[0;34m.\u001b[0m\u001b[0mget_renderer\u001b[0m\u001b[0;34m(\u001b[0m\u001b[0;34m)\u001b[0m\u001b[0;34m\u001b[0m\u001b[0;34m\u001b[0m\u001b[0m\n\u001b[1;32m    509\u001b[0m         \u001b[0moriginal_dpi\u001b[0m \u001b[0;34m=\u001b[0m \u001b[0mrenderer\u001b[0m\u001b[0;34m.\u001b[0m\u001b[0mdpi\u001b[0m\u001b[0;34m\u001b[0m\u001b[0;34m\u001b[0m\u001b[0m\n",
            "\u001b[0;32m/usr/local/lib/python3.6/dist-packages/matplotlib/backends/backend_agg.py\u001b[0m in \u001b[0;36mdraw\u001b[0;34m(self)\u001b[0m\n\u001b[1;32m    428\u001b[0m             \u001b[0;31m# if toolbar:\u001b[0m\u001b[0;34m\u001b[0m\u001b[0;34m\u001b[0m\u001b[0;34m\u001b[0m\u001b[0m\n\u001b[1;32m    429\u001b[0m             \u001b[0;31m#     toolbar.set_cursor(cursors.WAIT)\u001b[0m\u001b[0;34m\u001b[0m\u001b[0;34m\u001b[0m\u001b[0;34m\u001b[0m\u001b[0m\n\u001b[0;32m--> 430\u001b[0;31m             \u001b[0mself\u001b[0m\u001b[0;34m.\u001b[0m\u001b[0mfigure\u001b[0m\u001b[0;34m.\u001b[0m\u001b[0mdraw\u001b[0m\u001b[0;34m(\u001b[0m\u001b[0mself\u001b[0m\u001b[0;34m.\u001b[0m\u001b[0mrenderer\u001b[0m\u001b[0;34m)\u001b[0m\u001b[0;34m\u001b[0m\u001b[0;34m\u001b[0m\u001b[0m\n\u001b[0m\u001b[1;32m    431\u001b[0m         \u001b[0;32mfinally\u001b[0m\u001b[0;34m:\u001b[0m\u001b[0;34m\u001b[0m\u001b[0;34m\u001b[0m\u001b[0m\n\u001b[1;32m    432\u001b[0m             \u001b[0;31m# if toolbar:\u001b[0m\u001b[0;34m\u001b[0m\u001b[0;34m\u001b[0m\u001b[0;34m\u001b[0m\u001b[0m\n",
            "\u001b[0;32m/usr/local/lib/python3.6/dist-packages/matplotlib/artist.py\u001b[0m in \u001b[0;36mdraw_wrapper\u001b[0;34m(artist, renderer, *args, **kwargs)\u001b[0m\n\u001b[1;32m     53\u001b[0m                 \u001b[0mrenderer\u001b[0m\u001b[0;34m.\u001b[0m\u001b[0mstart_filter\u001b[0m\u001b[0;34m(\u001b[0m\u001b[0;34m)\u001b[0m\u001b[0;34m\u001b[0m\u001b[0;34m\u001b[0m\u001b[0m\n\u001b[1;32m     54\u001b[0m \u001b[0;34m\u001b[0m\u001b[0m\n\u001b[0;32m---> 55\u001b[0;31m             \u001b[0;32mreturn\u001b[0m \u001b[0mdraw\u001b[0m\u001b[0;34m(\u001b[0m\u001b[0martist\u001b[0m\u001b[0;34m,\u001b[0m \u001b[0mrenderer\u001b[0m\u001b[0;34m,\u001b[0m \u001b[0;34m*\u001b[0m\u001b[0margs\u001b[0m\u001b[0;34m,\u001b[0m \u001b[0;34m**\u001b[0m\u001b[0mkwargs\u001b[0m\u001b[0;34m)\u001b[0m\u001b[0;34m\u001b[0m\u001b[0;34m\u001b[0m\u001b[0m\n\u001b[0m\u001b[1;32m     56\u001b[0m         \u001b[0;32mfinally\u001b[0m\u001b[0;34m:\u001b[0m\u001b[0;34m\u001b[0m\u001b[0;34m\u001b[0m\u001b[0m\n\u001b[1;32m     57\u001b[0m             \u001b[0;32mif\u001b[0m \u001b[0martist\u001b[0m\u001b[0;34m.\u001b[0m\u001b[0mget_agg_filter\u001b[0m\u001b[0;34m(\u001b[0m\u001b[0;34m)\u001b[0m \u001b[0;32mis\u001b[0m \u001b[0;32mnot\u001b[0m \u001b[0;32mNone\u001b[0m\u001b[0;34m:\u001b[0m\u001b[0;34m\u001b[0m\u001b[0;34m\u001b[0m\u001b[0m\n",
            "\u001b[0;32m/usr/local/lib/python3.6/dist-packages/matplotlib/figure.py\u001b[0m in \u001b[0;36mdraw\u001b[0;34m(self, renderer)\u001b[0m\n\u001b[1;32m   1297\u001b[0m \u001b[0;34m\u001b[0m\u001b[0m\n\u001b[1;32m   1298\u001b[0m             mimage._draw_list_compositing_images(\n\u001b[0;32m-> 1299\u001b[0;31m                 renderer, self, artists, self.suppressComposite)\n\u001b[0m\u001b[1;32m   1300\u001b[0m \u001b[0;34m\u001b[0m\u001b[0m\n\u001b[1;32m   1301\u001b[0m             \u001b[0mrenderer\u001b[0m\u001b[0;34m.\u001b[0m\u001b[0mclose_group\u001b[0m\u001b[0;34m(\u001b[0m\u001b[0;34m'figure'\u001b[0m\u001b[0;34m)\u001b[0m\u001b[0;34m\u001b[0m\u001b[0;34m\u001b[0m\u001b[0m\n",
            "\u001b[0;32m/usr/local/lib/python3.6/dist-packages/matplotlib/image.py\u001b[0m in \u001b[0;36m_draw_list_compositing_images\u001b[0;34m(renderer, parent, artists, suppress_composite)\u001b[0m\n\u001b[1;32m    136\u001b[0m     \u001b[0;32mif\u001b[0m \u001b[0mnot_composite\u001b[0m \u001b[0;32mor\u001b[0m \u001b[0;32mnot\u001b[0m \u001b[0mhas_images\u001b[0m\u001b[0;34m:\u001b[0m\u001b[0;34m\u001b[0m\u001b[0;34m\u001b[0m\u001b[0m\n\u001b[1;32m    137\u001b[0m         \u001b[0;32mfor\u001b[0m \u001b[0ma\u001b[0m \u001b[0;32min\u001b[0m \u001b[0martists\u001b[0m\u001b[0;34m:\u001b[0m\u001b[0;34m\u001b[0m\u001b[0;34m\u001b[0m\u001b[0m\n\u001b[0;32m--> 138\u001b[0;31m             \u001b[0ma\u001b[0m\u001b[0;34m.\u001b[0m\u001b[0mdraw\u001b[0m\u001b[0;34m(\u001b[0m\u001b[0mrenderer\u001b[0m\u001b[0;34m)\u001b[0m\u001b[0;34m\u001b[0m\u001b[0;34m\u001b[0m\u001b[0m\n\u001b[0m\u001b[1;32m    139\u001b[0m     \u001b[0;32melse\u001b[0m\u001b[0;34m:\u001b[0m\u001b[0;34m\u001b[0m\u001b[0;34m\u001b[0m\u001b[0m\n\u001b[1;32m    140\u001b[0m         \u001b[0;31m# Composite any adjacent images together\u001b[0m\u001b[0;34m\u001b[0m\u001b[0;34m\u001b[0m\u001b[0;34m\u001b[0m\u001b[0m\n",
            "\u001b[0;32m/usr/local/lib/python3.6/dist-packages/matplotlib/artist.py\u001b[0m in \u001b[0;36mdraw_wrapper\u001b[0;34m(artist, renderer, *args, **kwargs)\u001b[0m\n\u001b[1;32m     53\u001b[0m                 \u001b[0mrenderer\u001b[0m\u001b[0;34m.\u001b[0m\u001b[0mstart_filter\u001b[0m\u001b[0;34m(\u001b[0m\u001b[0;34m)\u001b[0m\u001b[0;34m\u001b[0m\u001b[0;34m\u001b[0m\u001b[0m\n\u001b[1;32m     54\u001b[0m \u001b[0;34m\u001b[0m\u001b[0m\n\u001b[0;32m---> 55\u001b[0;31m             \u001b[0;32mreturn\u001b[0m \u001b[0mdraw\u001b[0m\u001b[0;34m(\u001b[0m\u001b[0martist\u001b[0m\u001b[0;34m,\u001b[0m \u001b[0mrenderer\u001b[0m\u001b[0;34m,\u001b[0m \u001b[0;34m*\u001b[0m\u001b[0margs\u001b[0m\u001b[0;34m,\u001b[0m \u001b[0;34m**\u001b[0m\u001b[0mkwargs\u001b[0m\u001b[0;34m)\u001b[0m\u001b[0;34m\u001b[0m\u001b[0;34m\u001b[0m\u001b[0m\n\u001b[0m\u001b[1;32m     56\u001b[0m         \u001b[0;32mfinally\u001b[0m\u001b[0;34m:\u001b[0m\u001b[0;34m\u001b[0m\u001b[0;34m\u001b[0m\u001b[0m\n\u001b[1;32m     57\u001b[0m             \u001b[0;32mif\u001b[0m \u001b[0martist\u001b[0m\u001b[0;34m.\u001b[0m\u001b[0mget_agg_filter\u001b[0m\u001b[0;34m(\u001b[0m\u001b[0;34m)\u001b[0m \u001b[0;32mis\u001b[0m \u001b[0;32mnot\u001b[0m \u001b[0;32mNone\u001b[0m\u001b[0;34m:\u001b[0m\u001b[0;34m\u001b[0m\u001b[0;34m\u001b[0m\u001b[0m\n",
            "\u001b[0;32m/usr/local/lib/python3.6/dist-packages/matplotlib/axes/_base.py\u001b[0m in \u001b[0;36mdraw\u001b[0;34m(self, renderer, inframe)\u001b[0m\n\u001b[1;32m   2435\u001b[0m             \u001b[0mrenderer\u001b[0m\u001b[0;34m.\u001b[0m\u001b[0mstop_rasterizing\u001b[0m\u001b[0;34m(\u001b[0m\u001b[0;34m)\u001b[0m\u001b[0;34m\u001b[0m\u001b[0;34m\u001b[0m\u001b[0m\n\u001b[1;32m   2436\u001b[0m \u001b[0;34m\u001b[0m\u001b[0m\n\u001b[0;32m-> 2437\u001b[0;31m         \u001b[0mmimage\u001b[0m\u001b[0;34m.\u001b[0m\u001b[0m_draw_list_compositing_images\u001b[0m\u001b[0;34m(\u001b[0m\u001b[0mrenderer\u001b[0m\u001b[0;34m,\u001b[0m \u001b[0mself\u001b[0m\u001b[0;34m,\u001b[0m \u001b[0martists\u001b[0m\u001b[0;34m)\u001b[0m\u001b[0;34m\u001b[0m\u001b[0;34m\u001b[0m\u001b[0m\n\u001b[0m\u001b[1;32m   2438\u001b[0m \u001b[0;34m\u001b[0m\u001b[0m\n\u001b[1;32m   2439\u001b[0m         \u001b[0mrenderer\u001b[0m\u001b[0;34m.\u001b[0m\u001b[0mclose_group\u001b[0m\u001b[0;34m(\u001b[0m\u001b[0;34m'axes'\u001b[0m\u001b[0;34m)\u001b[0m\u001b[0;34m\u001b[0m\u001b[0;34m\u001b[0m\u001b[0m\n",
            "\u001b[0;32m/usr/local/lib/python3.6/dist-packages/matplotlib/image.py\u001b[0m in \u001b[0;36m_draw_list_compositing_images\u001b[0;34m(renderer, parent, artists, suppress_composite)\u001b[0m\n\u001b[1;32m    136\u001b[0m     \u001b[0;32mif\u001b[0m \u001b[0mnot_composite\u001b[0m \u001b[0;32mor\u001b[0m \u001b[0;32mnot\u001b[0m \u001b[0mhas_images\u001b[0m\u001b[0;34m:\u001b[0m\u001b[0;34m\u001b[0m\u001b[0;34m\u001b[0m\u001b[0m\n\u001b[1;32m    137\u001b[0m         \u001b[0;32mfor\u001b[0m \u001b[0ma\u001b[0m \u001b[0;32min\u001b[0m \u001b[0martists\u001b[0m\u001b[0;34m:\u001b[0m\u001b[0;34m\u001b[0m\u001b[0;34m\u001b[0m\u001b[0m\n\u001b[0;32m--> 138\u001b[0;31m             \u001b[0ma\u001b[0m\u001b[0;34m.\u001b[0m\u001b[0mdraw\u001b[0m\u001b[0;34m(\u001b[0m\u001b[0mrenderer\u001b[0m\u001b[0;34m)\u001b[0m\u001b[0;34m\u001b[0m\u001b[0;34m\u001b[0m\u001b[0m\n\u001b[0m\u001b[1;32m    139\u001b[0m     \u001b[0;32melse\u001b[0m\u001b[0;34m:\u001b[0m\u001b[0;34m\u001b[0m\u001b[0;34m\u001b[0m\u001b[0m\n\u001b[1;32m    140\u001b[0m         \u001b[0;31m# Composite any adjacent images together\u001b[0m\u001b[0;34m\u001b[0m\u001b[0;34m\u001b[0m\u001b[0;34m\u001b[0m\u001b[0m\n",
            "\u001b[0;32m/usr/local/lib/python3.6/dist-packages/matplotlib/artist.py\u001b[0m in \u001b[0;36mdraw_wrapper\u001b[0;34m(artist, renderer, *args, **kwargs)\u001b[0m\n\u001b[1;32m     53\u001b[0m                 \u001b[0mrenderer\u001b[0m\u001b[0;34m.\u001b[0m\u001b[0mstart_filter\u001b[0m\u001b[0;34m(\u001b[0m\u001b[0;34m)\u001b[0m\u001b[0;34m\u001b[0m\u001b[0;34m\u001b[0m\u001b[0m\n\u001b[1;32m     54\u001b[0m \u001b[0;34m\u001b[0m\u001b[0m\n\u001b[0;32m---> 55\u001b[0;31m             \u001b[0;32mreturn\u001b[0m \u001b[0mdraw\u001b[0m\u001b[0;34m(\u001b[0m\u001b[0martist\u001b[0m\u001b[0;34m,\u001b[0m \u001b[0mrenderer\u001b[0m\u001b[0;34m,\u001b[0m \u001b[0;34m*\u001b[0m\u001b[0margs\u001b[0m\u001b[0;34m,\u001b[0m \u001b[0;34m**\u001b[0m\u001b[0mkwargs\u001b[0m\u001b[0;34m)\u001b[0m\u001b[0;34m\u001b[0m\u001b[0;34m\u001b[0m\u001b[0m\n\u001b[0m\u001b[1;32m     56\u001b[0m         \u001b[0;32mfinally\u001b[0m\u001b[0;34m:\u001b[0m\u001b[0;34m\u001b[0m\u001b[0;34m\u001b[0m\u001b[0m\n\u001b[1;32m     57\u001b[0m             \u001b[0;32mif\u001b[0m \u001b[0martist\u001b[0m\u001b[0;34m.\u001b[0m\u001b[0mget_agg_filter\u001b[0m\u001b[0;34m(\u001b[0m\u001b[0;34m)\u001b[0m \u001b[0;32mis\u001b[0m \u001b[0;32mnot\u001b[0m \u001b[0;32mNone\u001b[0m\u001b[0;34m:\u001b[0m\u001b[0;34m\u001b[0m\u001b[0;34m\u001b[0m\u001b[0m\n",
            "\u001b[0;32m/usr/local/lib/python3.6/dist-packages/matplotlib/image.py\u001b[0m in \u001b[0;36mdraw\u001b[0;34m(self, renderer, *args, **kwargs)\u001b[0m\n\u001b[1;32m    564\u001b[0m         \u001b[0;32melse\u001b[0m\u001b[0;34m:\u001b[0m\u001b[0;34m\u001b[0m\u001b[0;34m\u001b[0m\u001b[0m\n\u001b[1;32m    565\u001b[0m             im, l, b, trans = self.make_image(\n\u001b[0;32m--> 566\u001b[0;31m                 renderer, renderer.get_image_magnification())\n\u001b[0m\u001b[1;32m    567\u001b[0m             \u001b[0;32mif\u001b[0m \u001b[0mim\u001b[0m \u001b[0;32mis\u001b[0m \u001b[0;32mnot\u001b[0m \u001b[0;32mNone\u001b[0m\u001b[0;34m:\u001b[0m\u001b[0;34m\u001b[0m\u001b[0;34m\u001b[0m\u001b[0m\n\u001b[1;32m    568\u001b[0m                 \u001b[0mrenderer\u001b[0m\u001b[0;34m.\u001b[0m\u001b[0mdraw_image\u001b[0m\u001b[0;34m(\u001b[0m\u001b[0mgc\u001b[0m\u001b[0;34m,\u001b[0m \u001b[0ml\u001b[0m\u001b[0;34m,\u001b[0m \u001b[0mb\u001b[0m\u001b[0;34m,\u001b[0m \u001b[0mim\u001b[0m\u001b[0;34m)\u001b[0m\u001b[0;34m\u001b[0m\u001b[0;34m\u001b[0m\u001b[0m\n",
            "\u001b[0;32m/usr/local/lib/python3.6/dist-packages/matplotlib/image.py\u001b[0m in \u001b[0;36mmake_image\u001b[0;34m(self, renderer, magnification, unsampled)\u001b[0m\n\u001b[1;32m    791\u001b[0m         return self._make_image(\n\u001b[1;32m    792\u001b[0m             \u001b[0mself\u001b[0m\u001b[0;34m.\u001b[0m\u001b[0m_A\u001b[0m\u001b[0;34m,\u001b[0m \u001b[0mbbox\u001b[0m\u001b[0;34m,\u001b[0m \u001b[0mtransformed_bbox\u001b[0m\u001b[0;34m,\u001b[0m \u001b[0mself\u001b[0m\u001b[0;34m.\u001b[0m\u001b[0maxes\u001b[0m\u001b[0;34m.\u001b[0m\u001b[0mbbox\u001b[0m\u001b[0;34m,\u001b[0m \u001b[0mmagnification\u001b[0m\u001b[0;34m,\u001b[0m\u001b[0;34m\u001b[0m\u001b[0;34m\u001b[0m\u001b[0m\n\u001b[0;32m--> 793\u001b[0;31m             unsampled=unsampled)\n\u001b[0m\u001b[1;32m    794\u001b[0m \u001b[0;34m\u001b[0m\u001b[0m\n\u001b[1;32m    795\u001b[0m     \u001b[0;32mdef\u001b[0m \u001b[0m_check_unsampled_image\u001b[0m\u001b[0;34m(\u001b[0m\u001b[0mself\u001b[0m\u001b[0;34m,\u001b[0m \u001b[0mrenderer\u001b[0m\u001b[0;34m)\u001b[0m\u001b[0;34m:\u001b[0m\u001b[0;34m\u001b[0m\u001b[0;34m\u001b[0m\u001b[0m\n",
            "\u001b[0;32m/usr/local/lib/python3.6/dist-packages/matplotlib/image.py\u001b[0m in \u001b[0;36m_make_image\u001b[0;34m(self, A, in_bbox, out_bbox, clip_bbox, magnification, unsampled, round_to_pixel_border)\u001b[0m\n\u001b[1;32m    482\u001b[0m             \u001b[0;31m# (of int or float)\u001b[0m\u001b[0;34m\u001b[0m\u001b[0;34m\u001b[0m\u001b[0;34m\u001b[0m\u001b[0m\n\u001b[1;32m    483\u001b[0m             \u001b[0;31m# or an RGBA array of re-sampled input\u001b[0m\u001b[0;34m\u001b[0m\u001b[0;34m\u001b[0m\u001b[0;34m\u001b[0m\u001b[0m\n\u001b[0;32m--> 484\u001b[0;31m             \u001b[0moutput\u001b[0m \u001b[0;34m=\u001b[0m \u001b[0mself\u001b[0m\u001b[0;34m.\u001b[0m\u001b[0mto_rgba\u001b[0m\u001b[0;34m(\u001b[0m\u001b[0moutput\u001b[0m\u001b[0;34m,\u001b[0m \u001b[0mbytes\u001b[0m\u001b[0;34m=\u001b[0m\u001b[0;32mTrue\u001b[0m\u001b[0;34m,\u001b[0m \u001b[0mnorm\u001b[0m\u001b[0;34m=\u001b[0m\u001b[0;32mFalse\u001b[0m\u001b[0;34m)\u001b[0m\u001b[0;34m\u001b[0m\u001b[0;34m\u001b[0m\u001b[0m\n\u001b[0m\u001b[1;32m    485\u001b[0m             \u001b[0;31m# output is now a correctly sized RGBA array of uint8\u001b[0m\u001b[0;34m\u001b[0m\u001b[0;34m\u001b[0m\u001b[0;34m\u001b[0m\u001b[0m\n\u001b[1;32m    486\u001b[0m \u001b[0;34m\u001b[0m\u001b[0m\n",
            "\u001b[0;32m/usr/local/lib/python3.6/dist-packages/matplotlib/cm.py\u001b[0m in \u001b[0;36mto_rgba\u001b[0;34m(self, x, alpha, bytes, norm)\u001b[0m\n\u001b[1;32m    255\u001b[0m                 \u001b[0;32mif\u001b[0m \u001b[0mxx\u001b[0m\u001b[0;34m.\u001b[0m\u001b[0mdtype\u001b[0m\u001b[0;34m.\u001b[0m\u001b[0mkind\u001b[0m \u001b[0;34m==\u001b[0m \u001b[0;34m'f'\u001b[0m\u001b[0;34m:\u001b[0m\u001b[0;34m\u001b[0m\u001b[0;34m\u001b[0m\u001b[0m\n\u001b[1;32m    256\u001b[0m                     \u001b[0;32mif\u001b[0m \u001b[0mnorm\u001b[0m \u001b[0;32mand\u001b[0m \u001b[0mxx\u001b[0m\u001b[0;34m.\u001b[0m\u001b[0mmax\u001b[0m\u001b[0;34m(\u001b[0m\u001b[0;34m)\u001b[0m \u001b[0;34m>\u001b[0m \u001b[0;36m1\u001b[0m \u001b[0;32mor\u001b[0m \u001b[0mxx\u001b[0m\u001b[0;34m.\u001b[0m\u001b[0mmin\u001b[0m\u001b[0;34m(\u001b[0m\u001b[0;34m)\u001b[0m \u001b[0;34m<\u001b[0m \u001b[0;36m0\u001b[0m\u001b[0;34m:\u001b[0m\u001b[0;34m\u001b[0m\u001b[0;34m\u001b[0m\u001b[0m\n\u001b[0;32m--> 257\u001b[0;31m                         raise ValueError(\"Floating point image RGB values \"\n\u001b[0m\u001b[1;32m    258\u001b[0m                                          \"must be in the 0..1 range.\")\n\u001b[1;32m    259\u001b[0m                     \u001b[0;32mif\u001b[0m \u001b[0mbytes\u001b[0m\u001b[0;34m:\u001b[0m\u001b[0;34m\u001b[0m\u001b[0;34m\u001b[0m\u001b[0m\n",
            "\u001b[0;31mValueError\u001b[0m: Floating point image RGB values must be in the 0..1 range."
          ]
        },
        {
          "output_type": "display_data",
          "data": {
            "text/plain": [
              "<matplotlib.figure.Figure at 0x7f8760f7d8d0>"
            ]
          },
          "metadata": {
            "tags": []
          }
        }
      ]
    },
    {
      "metadata": {
        "id": "hUiPj-S-yHT0",
        "colab_type": "code",
        "outputId": "249ea482-e285-4e94-9823-280f701be81b",
        "colab": {
          "base_uri": "https://localhost:8080/",
          "height": 732
        }
      },
      "cell_type": "code",
      "source": [
        "if use_tpu:\n",
        "    TPU_WORKER = 'grpc://' + os.environ['COLAB_TPU_ADDR']\n",
        "    using_single_core = False\n",
        "    tpu_cluster_resolver = tf.contrib.cluster_resolver.TPUClusterResolver(TPU_WORKER)\n",
        "    strategy = tf.contrib.tpu.TPUDistributionStrategy(tpu_cluster_resolver, using_single_core=using_single_core)\n",
        "    model = tf.contrib.tpu.keras_to_tpu_model(model, strategy=strategy)\n",
        "\n",
        "train_data = ImageDataGenerator(featurewise_center=True, \n",
        "                                featurewise_std_normalization=True, \n",
        "                                width_shift_range=width_shift_range, \n",
        "                                height_shift_range=height_shift_range, \n",
        "                                horizontal_flip=horizontal_flip,\n",
        "                                preprocessing_function=preprocessing_function)\n",
        "validation_data = ImageDataGenerator(featurewise_center=True, featurewise_std_normalization=True)\n",
        "test_data = ImageDataGenerator(featurewise_center=True, featurewise_std_normalization=True)\n",
        "\n",
        "for data in (train_data, validation_data, test_data):\n",
        "    data.fit(x_train)\n",
        "\n",
        "learning_rate_callback = LearningRateScheduler(partial(getitem, tuple(take(epochs, concat(repeat(0.1, 60), repeat(0.02, 60), repeat(0.004, 40), repeat(0.0008))))))\n",
        "tensorboard_callback = tf.keras.callbacks.TensorBoard(log_dir='./Graph', histogram_freq=0, write_graph=True, write_images=True)\n",
        "callbacks = [gdcp, learning_rate_callback]"
      ],
      "execution_count": 48,
      "outputs": [
        {
          "output_type": "stream",
          "text": [
            "INFO:tensorflow:Querying Tensorflow master (b'grpc://10.7.126.218:8470') for TPU system metadata.\n",
            "2018-12-04 20:04:25,589 74 140220490192768: Querying Tensorflow master (b'grpc://10.7.126.218:8470') for TPU system metadata.\n",
            "INFO:tensorflow:Found TPU system:\n",
            "2018-12-04 20:04:25,614 74 140220490192768: Found TPU system:\n",
            "INFO:tensorflow:*** Num TPU Cores: 8\n",
            "2018-12-04 20:04:25,617 74 140220490192768: *** Num TPU Cores: 8\n",
            "INFO:tensorflow:*** Num TPU Workers: 1\n",
            "2018-12-04 20:04:25,624 74 140220490192768: *** Num TPU Workers: 1\n",
            "INFO:tensorflow:*** Num TPU Cores Per Worker: 8\n",
            "2018-12-04 20:04:25,629 74 140220490192768: *** Num TPU Cores Per Worker: 8\n",
            "INFO:tensorflow:*** Available Device: _DeviceAttributes(/job:worker/replica:0/task:0/device:CPU:0, CPU, -1, 17093555266848672651)\n",
            "2018-12-04 20:04:25,636 74 140220490192768: *** Available Device: _DeviceAttributes(/job:worker/replica:0/task:0/device:CPU:0, CPU, -1, 17093555266848672651)\n",
            "INFO:tensorflow:*** Available Device: _DeviceAttributes(/job:worker/replica:0/task:0/device:XLA_CPU:0, XLA_CPU, 17179869184, 16879459167699414385)\n",
            "2018-12-04 20:04:25,642 74 140220490192768: *** Available Device: _DeviceAttributes(/job:worker/replica:0/task:0/device:XLA_CPU:0, XLA_CPU, 17179869184, 16879459167699414385)\n",
            "INFO:tensorflow:*** Available Device: _DeviceAttributes(/job:worker/replica:0/task:0/device:XLA_GPU:0, XLA_GPU, 17179869184, 11731523180580433042)\n",
            "2018-12-04 20:04:25,647 74 140220490192768: *** Available Device: _DeviceAttributes(/job:worker/replica:0/task:0/device:XLA_GPU:0, XLA_GPU, 17179869184, 11731523180580433042)\n",
            "INFO:tensorflow:*** Available Device: _DeviceAttributes(/job:worker/replica:0/task:0/device:TPU:0, TPU, 17179869184, 14249156363956482503)\n",
            "2018-12-04 20:04:25,652 74 140220490192768: *** Available Device: _DeviceAttributes(/job:worker/replica:0/task:0/device:TPU:0, TPU, 17179869184, 14249156363956482503)\n",
            "INFO:tensorflow:*** Available Device: _DeviceAttributes(/job:worker/replica:0/task:0/device:TPU:1, TPU, 17179869184, 9236731002214523001)\n",
            "2018-12-04 20:04:25,655 74 140220490192768: *** Available Device: _DeviceAttributes(/job:worker/replica:0/task:0/device:TPU:1, TPU, 17179869184, 9236731002214523001)\n",
            "INFO:tensorflow:*** Available Device: _DeviceAttributes(/job:worker/replica:0/task:0/device:TPU:2, TPU, 17179869184, 16842033849715937874)\n",
            "2018-12-04 20:04:25,659 74 140220490192768: *** Available Device: _DeviceAttributes(/job:worker/replica:0/task:0/device:TPU:2, TPU, 17179869184, 16842033849715937874)\n",
            "INFO:tensorflow:*** Available Device: _DeviceAttributes(/job:worker/replica:0/task:0/device:TPU:3, TPU, 17179869184, 10834414434012724729)\n",
            "2018-12-04 20:04:25,663 74 140220490192768: *** Available Device: _DeviceAttributes(/job:worker/replica:0/task:0/device:TPU:3, TPU, 17179869184, 10834414434012724729)\n",
            "INFO:tensorflow:*** Available Device: _DeviceAttributes(/job:worker/replica:0/task:0/device:TPU:4, TPU, 17179869184, 9713974422506624996)\n",
            "2018-12-04 20:04:25,668 74 140220490192768: *** Available Device: _DeviceAttributes(/job:worker/replica:0/task:0/device:TPU:4, TPU, 17179869184, 9713974422506624996)\n",
            "INFO:tensorflow:*** Available Device: _DeviceAttributes(/job:worker/replica:0/task:0/device:TPU:5, TPU, 17179869184, 16877946533441773523)\n",
            "2018-12-04 20:04:25,671 74 140220490192768: *** Available Device: _DeviceAttributes(/job:worker/replica:0/task:0/device:TPU:5, TPU, 17179869184, 16877946533441773523)\n",
            "INFO:tensorflow:*** Available Device: _DeviceAttributes(/job:worker/replica:0/task:0/device:TPU:6, TPU, 17179869184, 12714290491387296261)\n",
            "2018-12-04 20:04:25,676 74 140220490192768: *** Available Device: _DeviceAttributes(/job:worker/replica:0/task:0/device:TPU:6, TPU, 17179869184, 12714290491387296261)\n",
            "INFO:tensorflow:*** Available Device: _DeviceAttributes(/job:worker/replica:0/task:0/device:TPU:7, TPU, 17179869184, 13687318430397620871)\n",
            "2018-12-04 20:04:25,680 74 140220490192768: *** Available Device: _DeviceAttributes(/job:worker/replica:0/task:0/device:TPU:7, TPU, 17179869184, 13687318430397620871)\n",
            "INFO:tensorflow:*** Available Device: _DeviceAttributes(/job:worker/replica:0/task:0/device:TPU_SYSTEM:0, TPU_SYSTEM, 17179869184, 4666960785008326129)\n",
            "2018-12-04 20:04:25,684 74 140220490192768: *** Available Device: _DeviceAttributes(/job:worker/replica:0/task:0/device:TPU_SYSTEM:0, TPU_SYSTEM, 17179869184, 4666960785008326129)\n",
            "WARNING:tensorflow:tpu_model (from tensorflow.contrib.tpu.python.tpu.keras_support) is experimental and may change or be removed at any time, and without warning.\n",
            "2018-12-04 20:04:25,689 74 140220490192768: tpu_model (from tensorflow.contrib.tpu.python.tpu.keras_support) is experimental and may change or be removed at any time, and without warning.\n",
            "INFO:tensorflow:Cloning SGD {'lr': 0.0007999999797903001, 'momentum': 0.8999999761581421, 'decay': 0.0, 'nesterov': False}\n",
            "2018-12-04 20:04:35,756 74 140220490192768: Cloning SGD {'lr': 0.0007999999797903001, 'momentum': 0.8999999761581421, 'decay': 0.0, 'nesterov': False}\n",
            "INFO:tensorflow:Cloning SGD {'lr': 0.0007999999797903001, 'momentum': 0.8999999761581421, 'decay': 0.0, 'nesterov': False}\n",
            "2018-12-04 20:04:38,372 74 140220490192768: Cloning SGD {'lr': 0.0007999999797903001, 'momentum': 0.8999999761581421, 'decay': 0.0, 'nesterov': False}\n"
          ],
          "name": "stdout"
        }
      ]
    },
    {
      "metadata": {
        "id": "Pa-sMNkf7lgy",
        "colab_type": "code",
        "outputId": "24e35e22-60b8-413d-bcf2-0c639c94c98d",
        "colab": {
          "base_uri": "https://localhost:8080/",
          "height": 1513
        }
      },
      "cell_type": "code",
      "source": [
        "train_generator = train_data.flow(x_train, y_train, batch_size=batch_size)\n",
        "validation_generator = validation_data.flow(x_validation, y_validation, batch_size=batch_size)\n",
        "\n",
        "steps_per_epoch = x_train.shape[0] // batch_size\n",
        "validation_steps = x_validation.shape[0] // batch_size\n",
        "\n",
        "results = model.fit_generator(train_generator,\n",
        "                              steps_per_epoch=steps_per_epoch,\n",
        "                              epochs=epochs,\n",
        "                              initial_epoch=initial_epoch,\n",
        "                              callbacks=callbacks,\n",
        "                              validation_data=validation_generator,\n",
        "                              validation_steps=validation_steps)"
      ],
      "execution_count": 0,
      "outputs": [
        {
          "output_type": "stream",
          "text": [
            "Epoch 291/300\n",
            "INFO:tensorflow:New input shapes; (re-)compiling: mode=train (# of cores 8), [TensorSpec(shape=(16,), dtype=tf.int32, name='core_id0'), TensorSpec(shape=(16, 32, 32, 3), dtype=tf.float32, name='input_1_10'), TensorSpec(shape=(16, 10), dtype=tf.float32, name='dense_target_30')]\n",
            "2018-12-04 20:04:55,882 74 140220490192768: New input shapes; (re-)compiling: mode=train (# of cores 8), [TensorSpec(shape=(16,), dtype=tf.int32, name='core_id0'), TensorSpec(shape=(16, 32, 32, 3), dtype=tf.float32, name='input_1_10'), TensorSpec(shape=(16, 10), dtype=tf.float32, name='dense_target_30')]\n",
            "INFO:tensorflow:Overriding default placeholder.\n",
            "2018-12-04 20:04:56,166 74 140220490192768: Overriding default placeholder.\n",
            "INFO:tensorflow:Cloning SGD {'lr': 0.0007999999797903001, 'momentum': 0.8999999761581421, 'decay': 0.0, 'nesterov': False}\n",
            "2018-12-04 20:04:56,462 74 140220490192768: Cloning SGD {'lr': 0.0007999999797903001, 'momentum': 0.8999999761581421, 'decay': 0.0, 'nesterov': False}\n",
            "INFO:tensorflow:Remapping placeholder for input_1\n",
            "2018-12-04 20:04:56,545 74 140220490192768: Remapping placeholder for input_1\n",
            "INFO:tensorflow:KerasCrossShard: <tensorflow.python.keras.optimizers.SGD object at 0x7f8798b251d0> []\n",
            "2018-12-04 20:05:05,441 74 140220490192768: KerasCrossShard: <tensorflow.python.keras.optimizers.SGD object at 0x7f8798b251d0> []\n",
            "INFO:tensorflow:Started compiling\n",
            "2018-12-04 20:05:10,896 74 140220490192768: Started compiling\n",
            "INFO:tensorflow:Finished compiling. Time elapsed: 31.546090841293335 secs\n",
            "2018-12-04 20:05:42,445 74 140220490192768: Finished compiling. Time elapsed: 31.546090841293335 secs\n",
            "INFO:tensorflow:Setting weights on TPU model.\n",
            "2018-12-04 20:05:42,953 74 140220490192768: Setting weights on TPU model.\n",
            "INFO:tensorflow:CPU -> TPU lr: 0.0007999999797903001 {0.0008}\n",
            "2018-12-04 20:05:48,921 74 140220490192768: CPU -> TPU lr: 0.0007999999797903001 {0.0008}\n",
            "INFO:tensorflow:CPU -> TPU momentum: 0.8999999761581421 {0.9}\n",
            "2018-12-04 20:05:50,520 74 140220490192768: CPU -> TPU momentum: 0.8999999761581421 {0.9}\n",
            "INFO:tensorflow:CPU -> TPU decay: 0.0 {0.0}\n",
            "2018-12-04 20:05:52,089 74 140220490192768: CPU -> TPU decay: 0.0 {0.0}\n",
            "WARNING:tensorflow:Cannot update non-variable config: nesterov\n",
            "2018-12-04 20:05:53,394 74 140220490192768: Cannot update non-variable config: nesterov\n",
            "232/390 [================>.............] - ETA: 1:06 - loss: 0.2726 - acc: 0.9476INFO:tensorflow:New input shapes; (re-)compiling: mode=train (# of cores 8), [TensorSpec(shape=(10,), dtype=tf.int32, name='core_id0'), TensorSpec(shape=(10, 32, 32, 3), dtype=tf.float32, name='input_1_10'), TensorSpec(shape=(10, 10), dtype=tf.float32, name='dense_target_30')]\n",
            "2018-12-04 20:06:33,377 74 140220490192768: New input shapes; (re-)compiling: mode=train (# of cores 8), [TensorSpec(shape=(10,), dtype=tf.int32, name='core_id0'), TensorSpec(shape=(10, 32, 32, 3), dtype=tf.float32, name='input_1_10'), TensorSpec(shape=(10, 10), dtype=tf.float32, name='dense_target_30')]\n",
            "INFO:tensorflow:Overriding default placeholder.\n",
            "2018-12-04 20:06:33,425 74 140220490192768: Overriding default placeholder.\n",
            "INFO:tensorflow:Remapping placeholder for input_1\n",
            "2018-12-04 20:06:33,436 74 140220490192768: Remapping placeholder for input_1\n",
            "INFO:tensorflow:KerasCrossShard: <tensorflow.python.keras.optimizers.SGD object at 0x7f8798b251d0> [<tf.Variable 'tpu_140219307947624/SGD/iterations:0' shape=() dtype=int64>, <tensorflow.contrib.tpu.python.tpu.keras_tpu_variables.ReplicatedVariable object at 0x7f8751a054a8>, <tensorflow.contrib.tpu.python.tpu.keras_tpu_variables.ReplicatedVariable object at 0x7f8751a05978>, <tensorflow.contrib.tpu.python.tpu.keras_tpu_variables.ReplicatedVariable object at 0x7f8751a05b70>, <tensorflow.contrib.tpu.python.tpu.keras_tpu_variables.ReplicatedVariable object at 0x7f8751a05c88>, <tensorflow.contrib.tpu.python.tpu.keras_tpu_variables.ReplicatedVariable object at 0x7f87519567b8>, <tensorflow.contrib.tpu.python.tpu.keras_tpu_variables.ReplicatedVariable object at 0x7f8751920fd0>, <tensorflow.contrib.tpu.python.tpu.keras_tpu_variables.ReplicatedVariable object at 0x7f8751943e48>, <tensorflow.contrib.tpu.python.tpu.keras_tpu_variables.ReplicatedVariable object at 0x7f87518ac588>, <tensorflow.contrib.tpu.python.tpu.keras_tpu_variables.ReplicatedVariable object at 0x7f875181c470>, <tensorflow.contrib.tpu.python.tpu.keras_tpu_variables.ReplicatedVariable object at 0x7f8751845240>, <tensorflow.contrib.tpu.python.tpu.keras_tpu_variables.ReplicatedVariable object at 0x7f875180ab38>, <tensorflow.contrib.tpu.python.tpu.keras_tpu_variables.ReplicatedVariable object at 0x7f8751776be0>, <tensorflow.contrib.tpu.python.tpu.keras_tpu_variables.ReplicatedVariable object at 0x7f875171d978>, <tensorflow.contrib.tpu.python.tpu.keras_tpu_variables.ReplicatedVariable object at 0x7f87516e2f98>, <tensorflow.contrib.tpu.python.tpu.keras_tpu_variables.ReplicatedVariable object at 0x7f8751a05358>, <tensorflow.contrib.tpu.python.tpu.keras_tpu_variables.ReplicatedVariable object at 0x7f8751a052b0>, <tensorflow.contrib.tpu.python.tpu.keras_tpu_variables.ReplicatedVariable object at 0x7f87515e2f60>, <tensorflow.contrib.tpu.python.tpu.keras_tpu_variables.ReplicatedVariable object at 0x7f87515a7f60>, <tensorflow.contrib.tpu.python.tpu.keras_tpu_variables.ReplicatedVariable object at 0x7f8751573ef0>, <tensorflow.contrib.tpu.python.tpu.keras_tpu_variables.ReplicatedVariable object at 0x7f8751515e48>, <tensorflow.contrib.tpu.python.tpu.keras_tpu_variables.ReplicatedVariable object at 0x7f8751504d68>, <tensorflow.contrib.tpu.python.tpu.keras_tpu_variables.ReplicatedVariable object at 0x7f87514c8e10>, <tensorflow.contrib.tpu.python.tpu.keras_tpu_variables.ReplicatedVariable object at 0x7f8751473cf8>, <tensorflow.contrib.tpu.python.tpu.keras_tpu_variables.ReplicatedVariable object at 0x7f87513dbd30>, <tensorflow.contrib.tpu.python.tpu.keras_tpu_variables.ReplicatedVariable object at 0x7f87513a5ef0>, <tensorflow.contrib.tpu.python.tpu.keras_tpu_variables.ReplicatedVariable object at 0x7f87513c7e80>, <tensorflow.contrib.tpu.python.tpu.keras_tpu_variables.ReplicatedVariable object at 0x7f8751334fd0>, <tensorflow.contrib.tpu.python.tpu.keras_tpu_variables.ReplicatedVariable object at 0x7f87512fed68>, <tensorflow.contrib.tpu.python.tpu.keras_tpu_variables.ReplicatedVariable object at 0x7f87512a3f60>, <tensorflow.contrib.tpu.python.tpu.keras_tpu_variables.ReplicatedVariable object at 0x7f875128de48>, <tensorflow.contrib.tpu.python.tpu.keras_tpu_variables.ReplicatedVariable object at 0x7f87511d5e10>, <tensorflow.contrib.tpu.python.tpu.keras_tpu_variables.ReplicatedVariable object at 0x7f87511fccf8>, <tensorflow.contrib.tpu.python.tpu.keras_tpu_variables.ReplicatedVariable object at 0x7f875116af60>, <tensorflow.contrib.tpu.python.tpu.keras_tpu_variables.ReplicatedVariable object at 0x7f87510d5f60>, <tensorflow.contrib.tpu.python.tpu.keras_tpu_variables.ReplicatedVariable object at 0x7f87510fbeb8>, <tensorflow.contrib.tpu.python.tpu.keras_tpu_variables.ReplicatedVariable object at 0x7f87510c71d0>, <tensorflow.contrib.tpu.python.tpu.keras_tpu_variables.ReplicatedVariable object at 0x7f875108bf60>, <tensorflow.contrib.tpu.python.tpu.keras_tpu_variables.ReplicatedVariable object at 0x7f8750fd2f60>, <tensorflow.contrib.tpu.python.tpu.keras_tpu_variables.ReplicatedVariable object at 0x7f8750f9eac8>, <tensorflow.contrib.tpu.python.tpu.keras_tpu_variables.ReplicatedVariable object at 0x7f8750f87d68>, <tensorflow.contrib.tpu.python.tpu.keras_tpu_variables.ReplicatedVariable object at 0x7f8750f2ed30>, <tensorflow.contrib.tpu.python.tpu.keras_tpu_variables.ReplicatedVariable object at 0x7f8750ef8eb8>, <tensorflow.contrib.tpu.python.tpu.keras_tpu_variables.ReplicatedVariable object at 0x7f8750e63fd0>, <tensorflow.contrib.tpu.python.tpu.keras_tpu_variables.ReplicatedVariable object at 0x7f8750e86cf8>, <tensorflow.contrib.tpu.python.tpu.keras_tpu_variables.ReplicatedVariable object at 0x7f8750e4fdd8>, <tensorflow.contrib.tpu.python.tpu.keras_tpu_variables.ReplicatedVariable object at 0x7f8750dbff60>, <tensorflow.contrib.tpu.python.tpu.keras_tpu_variables.ReplicatedVariable object at 0x7f8750d85ef0>, <tensorflow.contrib.tpu.python.tpu.keras_tpu_variables.ReplicatedVariable object at 0x7f8750d29e48>, <tensorflow.contrib.tpu.python.tpu.keras_tpu_variables.ReplicatedVariable object at 0x7f8750c95d68>, <tensorflow.contrib.tpu.python.tpu.keras_tpu_variables.ReplicatedVariable object at 0x7f8750c5de10>, <tensorflow.contrib.tpu.python.tpu.keras_tpu_variables.ReplicatedVariable object at 0x7f8750c84cf8>, <tensorflow.contrib.tpu.python.tpu.keras_tpu_variables.ReplicatedVariable object at 0x7f8750beed30>, <tensorflow.contrib.tpu.python.tpu.keras_tpu_variables.ReplicatedVariable object at 0x7f8750bb6ef0>, <tensorflow.contrib.tpu.python.tpu.keras_tpu_variables.ReplicatedVariable object at 0x7f8750b5ce80>, <tensorflow.contrib.tpu.python.tpu.keras_tpu_variables.ReplicatedVariable object at 0x7f8750b47fd0>, <tensorflow.contrib.tpu.python.tpu.keras_tpu_variables.ReplicatedVariable object at 0x7f8750a94d68>, <tensorflow.contrib.tpu.python.tpu.keras_tpu_variables.ReplicatedVariable object at 0x7f8750ab7f60>, <tensorflow.contrib.tpu.python.tpu.keras_tpu_variables.ReplicatedVariable object at 0x7f8750a22d68>, <tensorflow.contrib.tpu.python.tpu.keras_tpu_variables.ReplicatedVariable object at 0x7f8750991dd8>, <tensorflow.contrib.tpu.python.tpu.keras_tpu_variables.ReplicatedVariable object at 0x7f87509b4d30>, <tensorflow.contrib.tpu.python.tpu.keras_tpu_variables.ReplicatedVariable object at 0x7f8750959c88>, <tensorflow.contrib.tpu.python.tpu.keras_tpu_variables.ReplicatedVariable object at 0x7f87509445c0>, <tensorflow.contrib.tpu.python.tpu.keras_tpu_variables.ReplicatedVariable object at 0x7f875090ee80>, <tensorflow.contrib.tpu.python.tpu.keras_tpu_variables.ReplicatedVariable object at 0x7f87508b1b38>, <tensorflow.contrib.tpu.python.tpu.keras_tpu_variables.ReplicatedVariable object at 0x7f875081df60>, <tensorflow.contrib.tpu.python.tpu.keras_tpu_variables.ReplicatedVariable object at 0x7f87507e8f60>, <tensorflow.contrib.tpu.python.tpu.keras_tpu_variables.ReplicatedVariable object at 0x7f87507b0ac8>, <tensorflow.contrib.tpu.python.tpu.keras_tpu_variables.ReplicatedVariable object at 0x7f875071cd68>, <tensorflow.contrib.tpu.python.tpu.keras_tpu_variables.ReplicatedVariable object at 0x7f8750741d30>, <tensorflow.contrib.tpu.python.tpu.keras_tpu_variables.ReplicatedVariable object at 0x7f875070ceb8>, <tensorflow.contrib.tpu.python.tpu.keras_tpu_variables.ReplicatedVariable object at 0x7f8750674fd0>, <tensorflow.contrib.tpu.python.tpu.keras_tpu_variables.ReplicatedVariable object at 0x7f8750618cf8>, <tensorflow.contrib.tpu.python.tpu.keras_tpu_variables.ReplicatedVariable object at 0x7f87505e1dd8>, <tensorflow.contrib.tpu.python.tpu.keras_tpu_variables.ReplicatedVariable object at 0x7f8750551f60>, <tensorflow.contrib.tpu.python.tpu.keras_tpu_variables.ReplicatedVariable object at 0x7f8750518ef0>, <tensorflow.contrib.tpu.python.tpu.keras_tpu_variables.ReplicatedVariable object at 0x7f875053ce48>, <tensorflow.contrib.tpu.python.tpu.keras_tpu_variables.ReplicatedVariable object at 0x7f87504a9d68>, <tensorflow.contrib.tpu.python.tpu.keras_tpu_variables.ReplicatedVariable object at 0x7f8750472e10>, <tensorflow.contrib.tpu.python.tpu.keras_tpu_variables.ReplicatedVariable object at 0x7f875041acf8>, <tensorflow.contrib.tpu.python.tpu.keras_tpu_variables.ReplicatedVariable object at 0x7f87503dcc18>]\n",
            "2018-12-04 20:06:37,264 74 140220490192768: KerasCrossShard: <tensorflow.python.keras.optimizers.SGD object at 0x7f8798b251d0> [<tf.Variable 'tpu_140219307947624/SGD/iterations:0' shape=() dtype=int64>, <tensorflow.contrib.tpu.python.tpu.keras_tpu_variables.ReplicatedVariable object at 0x7f8751a054a8>, <tensorflow.contrib.tpu.python.tpu.keras_tpu_variables.ReplicatedVariable object at 0x7f8751a05978>, <tensorflow.contrib.tpu.python.tpu.keras_tpu_variables.ReplicatedVariable object at 0x7f8751a05b70>, <tensorflow.contrib.tpu.python.tpu.keras_tpu_variables.ReplicatedVariable object at 0x7f8751a05c88>, <tensorflow.contrib.tpu.python.tpu.keras_tpu_variables.ReplicatedVariable object at 0x7f87519567b8>, <tensorflow.contrib.tpu.python.tpu.keras_tpu_variables.ReplicatedVariable object at 0x7f8751920fd0>, <tensorflow.contrib.tpu.python.tpu.keras_tpu_variables.ReplicatedVariable object at 0x7f8751943e48>, <tensorflow.contrib.tpu.python.tpu.keras_tpu_variables.ReplicatedVariable object at 0x7f87518ac588>, <tensorflow.contrib.tpu.python.tpu.keras_tpu_variables.ReplicatedVariable object at 0x7f875181c470>, <tensorflow.contrib.tpu.python.tpu.keras_tpu_variables.ReplicatedVariable object at 0x7f8751845240>, <tensorflow.contrib.tpu.python.tpu.keras_tpu_variables.ReplicatedVariable object at 0x7f875180ab38>, <tensorflow.contrib.tpu.python.tpu.keras_tpu_variables.ReplicatedVariable object at 0x7f8751776be0>, <tensorflow.contrib.tpu.python.tpu.keras_tpu_variables.ReplicatedVariable object at 0x7f875171d978>, <tensorflow.contrib.tpu.python.tpu.keras_tpu_variables.ReplicatedVariable object at 0x7f87516e2f98>, <tensorflow.contrib.tpu.python.tpu.keras_tpu_variables.ReplicatedVariable object at 0x7f8751a05358>, <tensorflow.contrib.tpu.python.tpu.keras_tpu_variables.ReplicatedVariable object at 0x7f8751a052b0>, <tensorflow.contrib.tpu.python.tpu.keras_tpu_variables.ReplicatedVariable object at 0x7f87515e2f60>, <tensorflow.contrib.tpu.python.tpu.keras_tpu_variables.ReplicatedVariable object at 0x7f87515a7f60>, <tensorflow.contrib.tpu.python.tpu.keras_tpu_variables.ReplicatedVariable object at 0x7f8751573ef0>, <tensorflow.contrib.tpu.python.tpu.keras_tpu_variables.ReplicatedVariable object at 0x7f8751515e48>, <tensorflow.contrib.tpu.python.tpu.keras_tpu_variables.ReplicatedVariable object at 0x7f8751504d68>, <tensorflow.contrib.tpu.python.tpu.keras_tpu_variables.ReplicatedVariable object at 0x7f87514c8e10>, <tensorflow.contrib.tpu.python.tpu.keras_tpu_variables.ReplicatedVariable object at 0x7f8751473cf8>, <tensorflow.contrib.tpu.python.tpu.keras_tpu_variables.ReplicatedVariable object at 0x7f87513dbd30>, <tensorflow.contrib.tpu.python.tpu.keras_tpu_variables.ReplicatedVariable object at 0x7f87513a5ef0>, <tensorflow.contrib.tpu.python.tpu.keras_tpu_variables.ReplicatedVariable object at 0x7f87513c7e80>, <tensorflow.contrib.tpu.python.tpu.keras_tpu_variables.ReplicatedVariable object at 0x7f8751334fd0>, <tensorflow.contrib.tpu.python.tpu.keras_tpu_variables.ReplicatedVariable object at 0x7f87512fed68>, <tensorflow.contrib.tpu.python.tpu.keras_tpu_variables.ReplicatedVariable object at 0x7f87512a3f60>, <tensorflow.contrib.tpu.python.tpu.keras_tpu_variables.ReplicatedVariable object at 0x7f875128de48>, <tensorflow.contrib.tpu.python.tpu.keras_tpu_variables.ReplicatedVariable object at 0x7f87511d5e10>, <tensorflow.contrib.tpu.python.tpu.keras_tpu_variables.ReplicatedVariable object at 0x7f87511fccf8>, <tensorflow.contrib.tpu.python.tpu.keras_tpu_variables.ReplicatedVariable object at 0x7f875116af60>, <tensorflow.contrib.tpu.python.tpu.keras_tpu_variables.ReplicatedVariable object at 0x7f87510d5f60>, <tensorflow.contrib.tpu.python.tpu.keras_tpu_variables.ReplicatedVariable object at 0x7f87510fbeb8>, <tensorflow.contrib.tpu.python.tpu.keras_tpu_variables.ReplicatedVariable object at 0x7f87510c71d0>, <tensorflow.contrib.tpu.python.tpu.keras_tpu_variables.ReplicatedVariable object at 0x7f875108bf60>, <tensorflow.contrib.tpu.python.tpu.keras_tpu_variables.ReplicatedVariable object at 0x7f8750fd2f60>, <tensorflow.contrib.tpu.python.tpu.keras_tpu_variables.ReplicatedVariable object at 0x7f8750f9eac8>, <tensorflow.contrib.tpu.python.tpu.keras_tpu_variables.ReplicatedVariable object at 0x7f8750f87d68>, <tensorflow.contrib.tpu.python.tpu.keras_tpu_variables.ReplicatedVariable object at 0x7f8750f2ed30>, <tensorflow.contrib.tpu.python.tpu.keras_tpu_variables.ReplicatedVariable object at 0x7f8750ef8eb8>, <tensorflow.contrib.tpu.python.tpu.keras_tpu_variables.ReplicatedVariable object at 0x7f8750e63fd0>, <tensorflow.contrib.tpu.python.tpu.keras_tpu_variables.ReplicatedVariable object at 0x7f8750e86cf8>, <tensorflow.contrib.tpu.python.tpu.keras_tpu_variables.ReplicatedVariable object at 0x7f8750e4fdd8>, <tensorflow.contrib.tpu.python.tpu.keras_tpu_variables.ReplicatedVariable object at 0x7f8750dbff60>, <tensorflow.contrib.tpu.python.tpu.keras_tpu_variables.ReplicatedVariable object at 0x7f8750d85ef0>, <tensorflow.contrib.tpu.python.tpu.keras_tpu_variables.ReplicatedVariable object at 0x7f8750d29e48>, <tensorflow.contrib.tpu.python.tpu.keras_tpu_variables.ReplicatedVariable object at 0x7f8750c95d68>, <tensorflow.contrib.tpu.python.tpu.keras_tpu_variables.ReplicatedVariable object at 0x7f8750c5de10>, <tensorflow.contrib.tpu.python.tpu.keras_tpu_variables.ReplicatedVariable object at 0x7f8750c84cf8>, <tensorflow.contrib.tpu.python.tpu.keras_tpu_variables.ReplicatedVariable object at 0x7f8750beed30>, <tensorflow.contrib.tpu.python.tpu.keras_tpu_variables.ReplicatedVariable object at 0x7f8750bb6ef0>, <tensorflow.contrib.tpu.python.tpu.keras_tpu_variables.ReplicatedVariable object at 0x7f8750b5ce80>, <tensorflow.contrib.tpu.python.tpu.keras_tpu_variables.ReplicatedVariable object at 0x7f8750b47fd0>, <tensorflow.contrib.tpu.python.tpu.keras_tpu_variables.ReplicatedVariable object at 0x7f8750a94d68>, <tensorflow.contrib.tpu.python.tpu.keras_tpu_variables.ReplicatedVariable object at 0x7f8750ab7f60>, <tensorflow.contrib.tpu.python.tpu.keras_tpu_variables.ReplicatedVariable object at 0x7f8750a22d68>, <tensorflow.contrib.tpu.python.tpu.keras_tpu_variables.ReplicatedVariable object at 0x7f8750991dd8>, <tensorflow.contrib.tpu.python.tpu.keras_tpu_variables.ReplicatedVariable object at 0x7f87509b4d30>, <tensorflow.contrib.tpu.python.tpu.keras_tpu_variables.ReplicatedVariable object at 0x7f8750959c88>, <tensorflow.contrib.tpu.python.tpu.keras_tpu_variables.ReplicatedVariable object at 0x7f87509445c0>, <tensorflow.contrib.tpu.python.tpu.keras_tpu_variables.ReplicatedVariable object at 0x7f875090ee80>, <tensorflow.contrib.tpu.python.tpu.keras_tpu_variables.ReplicatedVariable object at 0x7f87508b1b38>, <tensorflow.contrib.tpu.python.tpu.keras_tpu_variables.ReplicatedVariable object at 0x7f875081df60>, <tensorflow.contrib.tpu.python.tpu.keras_tpu_variables.ReplicatedVariable object at 0x7f87507e8f60>, <tensorflow.contrib.tpu.python.tpu.keras_tpu_variables.ReplicatedVariable object at 0x7f87507b0ac8>, <tensorflow.contrib.tpu.python.tpu.keras_tpu_variables.ReplicatedVariable object at 0x7f875071cd68>, <tensorflow.contrib.tpu.python.tpu.keras_tpu_variables.ReplicatedVariable object at 0x7f8750741d30>, <tensorflow.contrib.tpu.python.tpu.keras_tpu_variables.ReplicatedVariable object at 0x7f875070ceb8>, <tensorflow.contrib.tpu.python.tpu.keras_tpu_variables.ReplicatedVariable object at 0x7f8750674fd0>, <tensorflow.contrib.tpu.python.tpu.keras_tpu_variables.ReplicatedVariable object at 0x7f8750618cf8>, <tensorflow.contrib.tpu.python.tpu.keras_tpu_variables.ReplicatedVariable object at 0x7f87505e1dd8>, <tensorflow.contrib.tpu.python.tpu.keras_tpu_variables.ReplicatedVariable object at 0x7f8750551f60>, <tensorflow.contrib.tpu.python.tpu.keras_tpu_variables.ReplicatedVariable object at 0x7f8750518ef0>, <tensorflow.contrib.tpu.python.tpu.keras_tpu_variables.ReplicatedVariable object at 0x7f875053ce48>, <tensorflow.contrib.tpu.python.tpu.keras_tpu_variables.ReplicatedVariable object at 0x7f87504a9d68>, <tensorflow.contrib.tpu.python.tpu.keras_tpu_variables.ReplicatedVariable object at 0x7f8750472e10>, <tensorflow.contrib.tpu.python.tpu.keras_tpu_variables.ReplicatedVariable object at 0x7f875041acf8>, <tensorflow.contrib.tpu.python.tpu.keras_tpu_variables.ReplicatedVariable object at 0x7f87503dcc18>]\n",
            "INFO:tensorflow:Started compiling\n",
            "2018-12-04 20:06:42,823 74 140220490192768: Started compiling\n",
            "INFO:tensorflow:Finished compiling. Time elapsed: 28.461543083190918 secs\n",
            "2018-12-04 20:07:11,292 74 140220490192768: Finished compiling. Time elapsed: 28.461543083190918 secs\n",
            "389/390 [============================>.] - ETA: 0s - loss: 0.2554 - acc: 0.9525INFO:tensorflow:New input shapes; (re-)compiling: mode=eval (# of cores 8), [TensorSpec(shape=(16,), dtype=tf.int32, name='core_id_10'), TensorSpec(shape=(16, 32, 32, 3), dtype=tf.float32, name='input_1_10'), TensorSpec(shape=(16, 10), dtype=tf.float32, name='dense_target_30')]\n",
            "2018-12-04 20:07:39,081 74 140220490192768: New input shapes; (re-)compiling: mode=eval (# of cores 8), [TensorSpec(shape=(16,), dtype=tf.int32, name='core_id_10'), TensorSpec(shape=(16, 32, 32, 3), dtype=tf.float32, name='input_1_10'), TensorSpec(shape=(16, 10), dtype=tf.float32, name='dense_target_30')]\n",
            "INFO:tensorflow:Overriding default placeholder.\n",
            "2018-12-04 20:07:39,128 74 140220490192768: Overriding default placeholder.\n",
            "INFO:tensorflow:Cloning SGD {'lr': 0.0007999999797903001, 'momentum': 0.8999999761581421, 'decay': 0.0, 'nesterov': False}\n",
            "2018-12-04 20:07:41,077 74 140220490192768: Cloning SGD {'lr': 0.0007999999797903001, 'momentum': 0.8999999761581421, 'decay': 0.0, 'nesterov': False}\n",
            "INFO:tensorflow:Remapping placeholder for input_1\n",
            "2018-12-04 20:07:41,108 74 140220490192768: Remapping placeholder for input_1\n",
            "INFO:tensorflow:KerasCrossShard: <tensorflow.python.keras.optimizers.SGD object at 0x7f8749a3c9e8> []\n",
            "2018-12-04 20:07:42,076 74 140220490192768: KerasCrossShard: <tensorflow.python.keras.optimizers.SGD object at 0x7f8749a3c9e8> []\n",
            "INFO:tensorflow:Started compiling\n",
            "2018-12-04 20:07:42,404 74 140220490192768: Started compiling\n",
            "INFO:tensorflow:Finished compiling. Time elapsed: 11.821776151657104 secs\n",
            "2018-12-04 20:07:54,234 74 140220490192768: Finished compiling. Time elapsed: 11.821776151657104 secs\n",
            "Saving autoaugment_0290\n",
            "INFO:tensorflow:Copying TPU weights to the CPU\n",
            "2018-12-04 20:07:58,021 74 140220490192768: Copying TPU weights to the CPU\n",
            "INFO:tensorflow:TPU -> CPU lr: 0.0007999999797903001\n",
            "2018-12-04 20:08:02,058 74 140220490192768: TPU -> CPU lr: 0.0007999999797903001\n",
            "INFO:tensorflow:TPU -> CPU momentum: 0.8999999761581421\n",
            "2018-12-04 20:08:04,443 74 140220490192768: TPU -> CPU momentum: 0.8999999761581421\n",
            "INFO:tensorflow:TPU -> CPU decay: 0.0\n",
            "2018-12-04 20:08:06,959 74 140220490192768: TPU -> CPU decay: 0.0\n",
            "INFO:tensorflow:TPU -> CPU nesterov: False\n",
            "2018-12-04 20:08:09,295 74 140220490192768: TPU -> CPU nesterov: False\n",
            "WARNING:tensorflow:Cannot update non-variable config: nesterov\n",
            "2018-12-04 20:08:09,298 74 140220490192768: Cannot update non-variable config: nesterov\n",
            "Uploading to GDriveItem(name='Colab Notebooks', fid='1j8jxRjh63biSP-w9NSgp3pinbnviuhR7')\n",
            "2018-12-04 20:08:25,916 74 140220490192768: URL being requested: POST https://www.googleapis.com/upload/drive/v3/files?fields=id&alt=json&uploadType=resumable\n",
            "390/390 [==============================] - 223s 572ms/step - loss: 0.2553 - acc: 0.9525 - val_loss: 0.2786 - val_acc: 0.9541\n",
            "Epoch 292/300\n",
            "390/390 [==============================] - 71s 181ms/step - loss: 0.2077 - acc: 0.9667 - val_loss: 0.2693 - val_acc: 0.9599\n",
            "Epoch 293/300\n",
            "390/390 [==============================] - 71s 182ms/step - loss: 0.1995 - acc: 0.9688 - val_loss: 0.2599 - val_acc: 0.9631\n",
            "Epoch 294/300\n",
            "390/390 [==============================] - 71s 182ms/step - loss: 0.1932 - acc: 0.9713 - val_loss: 0.2461 - val_acc: 0.9630\n",
            "Epoch 295/300\n",
            "390/390 [==============================] - 71s 181ms/step - loss: 0.1897 - acc: 0.9726 - val_loss: 0.2596 - val_acc: 0.9607\n",
            "Epoch 296/300\n",
            "390/390 [==============================] - 71s 182ms/step - loss: 0.1859 - acc: 0.9739 - val_loss: 0.2639 - val_acc: 0.9597\n",
            "Epoch 297/300\n",
            "390/390 [==============================] - 71s 182ms/step - loss: 0.1811 - acc: 0.9747 - val_loss: 0.2526 - val_acc: 0.9648\n",
            "Epoch 298/300\n",
            "390/390 [==============================] - 71s 182ms/step - loss: 0.1788 - acc: 0.9762 - val_loss: 0.2672 - val_acc: 0.9604\n",
            "Epoch 299/300\n",
            "390/390 [==============================] - 72s 186ms/step - loss: 0.1786 - acc: 0.9758 - val_loss: 0.2872 - val_acc: 0.9562\n",
            "Epoch 300/300\n",
            "254/390 [==================>...........] - ETA: 23s - loss: 0.1760 - acc: 0.9765"
          ],
          "name": "stdout"
        }
      ]
    },
    {
      "metadata": {
        "id": "hCxz3qkRv8Qk",
        "colab_type": "code",
        "colab": {}
      },
      "cell_type": "code",
      "source": [
        "plt.plot(results.history['val_acc'])\n",
        "plt.title('model accuracy')\n",
        "plt.ylabel('accuracy')\n",
        "plt.xlabel('epoch')\n",
        "plt.legend(['train', 'test'], loc='upper left')\n",
        "plt.show()\n",
        "\n",
        "plt.plot(results.history['loss'])\n",
        "plt.plot(results.history['val_loss'])\n",
        "plt.title('model loss')\n",
        "plt.ylabel('loss')\n",
        "plt.xlabel('epoch')\n",
        "plt.legend(['train', 'test'], loc='upper left')\n",
        "plt.show()"
      ],
      "execution_count": 0,
      "outputs": []
    },
    {
      "metadata": {
        "id": "emNQQUH7USVm",
        "colab_type": "code",
        "colab": {}
      },
      "cell_type": "code",
      "source": [
        "# \"{:03d}\".format(1)"
      ],
      "execution_count": 0,
      "outputs": []
    },
    {
      "metadata": {
        "id": "eSrIbTe1x9jF",
        "colab_type": "code",
        "colab": {}
      },
      "cell_type": "code",
      "source": [
        "!git clone https://github.com/modestyachts/CIFAR-10.1.git  # Recht 2018 data\n",
        "\n",
        "cifar101_data = np.load('CIFAR-10.1/datasets/cifar10.1_v6_data.npy')\n",
        "cifar101_labels = np.load('CIFAR-10.1/datasets/cifar10.1_v6_labels.npy')\n",
        "cifar101_set_size = len(cifar101_labels)\n",
        "  \n",
        "y_test = tf.keras.utils.to_categorical(cifar101_labels)\n",
        "x_test = cifar101_data / 255"
      ],
      "execution_count": 0,
      "outputs": []
    },
    {
      "metadata": {
        "id": "_Kylh1aKuWtb",
        "colab_type": "code",
        "colab": {}
      },
      "cell_type": "code",
      "source": [
        "train_generator = train_data.flow(x_train, y_train, batch_size=batch_size)\n",
        "validation_generator = validation_data.flow(x_validation, y_validation, batch_size=batch_size)\n",
        "test_generator = test_data.flow(x_test, y_test, batch_size=batch_size)\n",
        "\n",
        "loss, acc = model.evaluate_generator(train_generator)\n",
        "logger.info(\"Train: Loss={}, acc={}\".format(loss, acc))\n",
        "\n",
        "loss, acc = model.evaluate_generator(validation_generator)\n",
        "logger.info(\"Validation: Loss={}, acc={}\".format(loss, acc))\n",
        "\n",
        "loss, acc = model.evaluate_generator(test_generator)\n",
        "logger.info(\"Test: Loss={}, acc={}\".format(loss, acc))"
      ],
      "execution_count": 0,
      "outputs": []
    },
    {
      "metadata": {
        "id": "QcZOvhvpwQLj",
        "colab_type": "code",
        "colab": {}
      },
      "cell_type": "code",
      "source": [
        "test_set_size = x_test.shape[0]\n",
        "idx = np.random.randint(test_set_size)\n",
        "# idx = 1113\n",
        "label = CLASS_LABELS[y_test[idx, :].astype(bool)]\n",
        "tit = \"{}: {}\".format(idx, label)\n",
        "plt.figure(figsize=(3,4))\n",
        "plt.imshow(x_test[idx, :, :, :])\n",
        "plt.title(tit)"
      ],
      "execution_count": 0,
      "outputs": []
    },
    {
      "metadata": {
        "id": "4VBIZMUaMzpU",
        "colab_type": "code",
        "colab": {}
      },
      "cell_type": "code",
      "source": [
        "predictions = model.predict(x=x_test)"
      ],
      "execution_count": 0,
      "outputs": []
    },
    {
      "metadata": {
        "id": "-jk07ETIOW3X",
        "colab_type": "code",
        "colab": {}
      },
      "cell_type": "code",
      "source": [
        "from collections import Counter\n",
        "_ = np.argmax(predictions, axis=1)\n",
        "Counter(_)\n",
        "Counter(cifar101_labels)"
      ],
      "execution_count": 0,
      "outputs": []
    },
    {
      "metadata": {
        "id": "We2C1GXUWeVP",
        "colab_type": "code",
        "colab": {}
      },
      "cell_type": "code",
      "source": [
        "checkpoint_dir \n",
        "latest = tf.train.latest_checkpoint(checkpoint_dir)\n",
        "print(latest)\n",
        "!ls -ltra $checkpoint_dir"
      ],
      "execution_count": 0,
      "outputs": []
    },
    {
      "metadata": {
        "id": "r5vBJMBC5HUR",
        "colab_type": "code",
        "colab": {}
      },
      "cell_type": "code",
      "source": [
        "# with open('./results/history.pickle', 'wb') as f:\n",
        "#     pickle.dump(results.history, f)\n",
        "\n",
        "# save_model(model, './results/model.h5')\n",
        "# del model"
      ],
      "execution_count": 0,
      "outputs": []
    }
  ]
}