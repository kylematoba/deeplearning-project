{
  "nbformat": 4,
  "nbformat_minor": 0,
  "metadata": {
    "colab": {
      "name": "keras_wide_res_net_matoba.ipynb",
      "version": "0.3.2",
      "provenance": [],
      "collapsed_sections": [],
      "include_colab_link": true
    },
    "kernelspec": {
      "name": "python3",
      "display_name": "Python 3"
    },
    "accelerator": "TPU"
  },
  "cells": [
    {
      "cell_type": "markdown",
      "metadata": {
        "id": "view-in-github",
        "colab_type": "text"
      },
      "source": [
        "<a href=\"https://colab.research.google.com/github/kylematoba/deeplearning-project/blob/master/keras_wide_res_net_matoba.ipynb\" target=\"_parent\"><img src=\"https://colab.research.google.com/assets/colab-badge.svg\" alt=\"Open In Colab\"/></a>"
      ]
    },
    {
      "metadata": {
        "id": "fr2z4dXiyJfj",
        "colab_type": "code",
        "outputId": "899ededd-7fe2-44ee-b907-f24f6182bdf6",
        "colab": {
          "base_uri": "https://localhost:8080/",
          "height": 298
        }
      },
      "cell_type": "code",
      "source": [
        "!pip3 install funcy\n",
        "!git clone https://github.com/tensorflow/models.git\n",
        "!git clone https://github.com/modestyachts/CIFAR-10.1.git  # Recht 2018 data"
      ],
      "execution_count": 1,
      "outputs": [
        {
          "output_type": "stream",
          "text": [
            "Collecting funcy\n",
            "  Downloading https://files.pythonhosted.org/packages/47/a4/204fa23012e913839c2da4514b92f17da82bf5fc8c2c3d902fa3fa3c6eec/funcy-1.11-py2.py3-none-any.whl\n",
            "Installing collected packages: funcy\n",
            "Successfully installed funcy-1.11\n",
            "Cloning into 'models'...\n",
            "remote: Enumerating objects: 23211, done.\u001b[K\n",
            "remote: Total 23211 (delta 0), reused 0 (delta 0), pack-reused 23211\u001b[K\n",
            "Receiving objects: 100% (23211/23211), 562.90 MiB | 26.10 MiB/s, done.\n",
            "Resolving deltas: 100% (13570/13570), done.\n",
            "Checking out files: 100% (2753/2753), done.\n",
            "Cloning into 'CIFAR-10.1'...\n",
            "remote: Enumerating objects: 510, done.\u001b[K\n",
            "remote: Total 510 (delta 0), reused 0 (delta 0), pack-reused 510\u001b[K\n",
            "Receiving objects: 100% (510/510), 11.23 MiB | 19.39 MiB/s, done.\n",
            "Resolving deltas: 100% (344/344), done.\n"
          ],
          "name": "stdout"
        }
      ]
    },
    {
      "metadata": {
        "id": "_MvMJmyKEekN",
        "colab_type": "code",
        "colab": {}
      },
      "cell_type": "code",
      "source": [
        "import os\n",
        "import sys\n",
        "import shutil\n",
        "import pickle\n",
        "import copy\n",
        "import functools\n",
        "import logging\n",
        "\n",
        "from typing import Any, Callable, List, Tuple, Union\n",
        "from operator import getitem, attrgetter\n",
        "from collections import namedtuple\n",
        "\n",
        "import matplotlib.pyplot as plt\n",
        "import numpy as np\n",
        "import tensorflow as tf\n",
        "\n",
        "from PIL import ImageOps\n",
        "from PIL import ImageEnhance\n",
        "from PIL import ImageFilter\n",
        "from PIL import Image\n",
        "\n",
        "from tensorflow.keras.callbacks import LearningRateScheduler\n",
        "from tensorflow.keras.layers import Activation, Add, BatchNormalization, Conv2D, Dense, GlobalAveragePooling2D, Input, Layer\n",
        "from tensorflow.keras.models import Model, save_model, load_model\n",
        "from tensorflow.keras.optimizers import SGD\n",
        "from tensorflow.keras.preprocessing.image import ImageDataGenerator\n",
        "from tensorflow.keras.regularizers import l2\n",
        "\n",
        "from funcy import concat, identity, juxt, partial, rcompose, repeat, repeatedly, take\n",
        "\n",
        "from google.colab import auth\n",
        "from googleapiclient.discovery import build\n",
        "from googleapiclient.http import MediaFileUpload, MediaIoBaseDownload\n",
        "\n",
        "import models.research.autoaugment.augmentation_transforms as augmentation_transforms"
      ],
      "execution_count": 0,
      "outputs": []
    },
    {
      "metadata": {
        "id": "hnbyYOOQH4po",
        "colab_type": "code",
        "outputId": "b62b9e78-3160-462b-8c75-aae36f315c2c",
        "colab": {
          "base_uri": "https://localhost:8080/",
          "height": 121
        }
      },
      "cell_type": "code",
      "source": [
        "FORMAT = \"%(asctime)s %(process)s %(thread)s: %(message)s\"\n",
        "logging.basicConfig(level=logging.DEBUG, format=FORMAT, stream=sys.stdout)\n",
        "logger = logging.getLogger(__name__)\n",
        "\n",
        "environ_dict = dict(os.environ)\n",
        "use_tpu = 'COLAB_TPU_ADDR' in environ_dict.keys()\n",
        "\n",
        "logger.info(sys.version)\n",
        "logger.info(\"{}\".format(\"Running in ipython\" if 'ipykernel' in sys.modules else \"\"))\n",
        "logger.info(\"Numpy version {}\".format(np.__version__))\n",
        "logger.info(\"TensorFlow version {}\".format(tf.__version__))\n",
        "if use_tpu:\n",
        "    logger.info(\"Running on TPU\")"
      ],
      "execution_count": 3,
      "outputs": [
        {
          "output_type": "stream",
          "text": [
            "2018-12-05 02:02:40,599 73 140508486915968: 3.6.7 (default, Oct 22 2018, 11:32:17) \n",
            "[GCC 8.2.0]\n",
            "2018-12-05 02:02:40,601 73 140508486915968: Running in ipython\n",
            "2018-12-05 02:02:40,604 73 140508486915968: Numpy version 1.14.6\n",
            "2018-12-05 02:02:40,605 73 140508486915968: TensorFlow version 1.12.0\n",
            "2018-12-05 02:02:40,606 73 140508486915968: Running on TPU\n"
          ],
          "name": "stdout"
        }
      ]
    },
    {
      "metadata": {
        "id": "V6DGhtaGbv5n",
        "colab_type": "code",
        "colab": {}
      },
      "cell_type": "code",
      "source": [
        "np.random.seed(0)"
      ],
      "execution_count": 0,
      "outputs": []
    },
    {
      "metadata": {
        "id": "lzcguFhGyByy",
        "colab_type": "code",
        "colab": {}
      },
      "cell_type": "code",
      "source": [
        "def download_data() -> None:\n",
        "    url = 'http://www.cs.toronto.edu/~kriz/cifar-10-python.tar.gz'\n",
        "    shutil.copytree(tf.keras.utils.get_file('cifar-10-batches-py', origin=url, untar=True), './data')\n",
        "\n",
        "    \n",
        "def load_batch(batch_path: str) -> Tuple[np.ndarray, np.ndarray]:\n",
        "    with open(batch_path, 'rb') as f:\n",
        "        batch = pickle.load(f, encoding='bytes')\n",
        "    data_np = np.array(batch[b'data'])\n",
        "    labels_np = np.array(batch[b'labels'])\n",
        "    batch_data = data_np.reshape(data_np.shape[0], 3, 32, 32).transpose(0, 2, 3, 1) / 255\n",
        "    batch_labels = tf.keras.utils.to_categorical(labels_np)\n",
        "    return (batch_data, batch_labels)\n",
        "\n",
        "\n",
        "def load_batches(paths: List[str]):\n",
        "    return tuple(map(np.concatenate, zip(*map(load_batch, paths))))\n",
        "\n",
        "\n",
        "def load_data(data_path='./data') -> Tuple[np.ndarray, np.ndarray]:\n",
        "    if not os.path.exists('./data'):\n",
        "        download_data()\n",
        "    paths = sorted(map(attrgetter('path'), filter(lambda directory_entry: directory_entry.name.startswith('data_batch_'), os.scandir(data_path))))\n",
        "    xy_train = load_batches(paths)\n",
        "    xy_validation = load_batch('{0}/test_batch'.format(data_path))\n",
        "    return (xy_train, xy_validation)"
      ],
      "execution_count": 0,
      "outputs": []
    },
    {
      "metadata": {
        "id": "QwfLMkmHx2iO",
        "colab_type": "code",
        "colab": {}
      },
      "cell_type": "code",
      "source": [
        "# A modified version of https://github.com/tail-island/try-wide-residual-net\n",
        "def computational_graph(class_size):\n",
        "    def ljuxt(*fs):\n",
        "        return rcompose(juxt(*fs), list)\n",
        "\n",
        "    def batch_normalization():\n",
        "        return BatchNormalization()\n",
        "\n",
        "    def relu() -> tf.keras.layers.Activation:\n",
        "        return Activation('relu')\n",
        "\n",
        "    def conv(filter_size: int, kernel_size: int, stride_size: int=1) -> Layer:\n",
        "        return Conv2D(filter_size, kernel_size, strides=stride_size, padding='same', kernel_initializer='he_normal', kernel_regularizer=l2(0.0005), use_bias=False)\n",
        "\n",
        "    def add():\n",
        "        return Add()\n",
        "\n",
        "    def global_average_pooling():\n",
        "        return GlobalAveragePooling2D()\n",
        "\n",
        "    def dense(units: int, activation: str) -> Layer:\n",
        "        return Dense(units, activation=activation, kernel_regularizer=l2(0.0005))\n",
        "\n",
        "    # Define WRN-28-10.\n",
        "    def first_residual_unit(filter_size: int, stride_size: int):\n",
        "        return rcompose(batch_normalization(),\n",
        "                        relu(),\n",
        "                        ljuxt(rcompose(conv(filter_size, 3, stride_size),\n",
        "                                       batch_normalization(),\n",
        "                                       relu(),\n",
        "                                       conv(filter_size, 3, 1)),\n",
        "                              rcompose(conv(filter_size, 1, stride_size))),\n",
        "                        add())\n",
        "\n",
        "    def residual_unit(filter_size):\n",
        "        return rcompose(ljuxt(rcompose(batch_normalization(),\n",
        "                                       relu(),\n",
        "                                       conv(filter_size, 3),\n",
        "                                       batch_normalization(),\n",
        "                                       relu(),\n",
        "                                       conv(filter_size, 3)),\n",
        "                              identity),\n",
        "                        add())\n",
        "\n",
        "    def residual_block(filter_size, stride_size, unit_size):\n",
        "        return rcompose(first_residual_unit(filter_size, stride_size),\n",
        "                        rcompose(*repeatedly(partial(residual_unit, filter_size), unit_size - 1)))\n",
        "\n",
        "    k = 10\n",
        "    n =  4\n",
        "    return rcompose(conv(16, 3),\n",
        "                    residual_block(16 * k, 1, n),\n",
        "                    residual_block(32 * k, 2, n),\n",
        "                    residual_block(64 * k, 2, n),\n",
        "                    batch_normalization(),\n",
        "                    relu(),\n",
        "                    global_average_pooling(),\n",
        "                    dense(class_size, 'softmax'))"
      ],
      "execution_count": 0,
      "outputs": []
    },
    {
      "metadata": {
        "id": "aAKWy_dh1qf5",
        "colab_type": "code",
        "outputId": "11ac1381-370c-4669-ce3a-82037b0247a3",
        "colab": {
          "base_uri": "https://localhost:8080/",
          "height": 52
        }
      },
      "cell_type": "code",
      "source": [
        "(x_train, y_train), (x_validation, y_validation) = load_data()"
      ],
      "execution_count": 7,
      "outputs": [
        {
          "output_type": "stream",
          "text": [
            "Downloading data from http://www.cs.toronto.edu/~kriz/cifar-10-python.tar.gz\n",
            "170500096/170498071 [==============================] - 24s 0us/step\n"
          ],
          "name": "stdout"
        }
      ]
    },
    {
      "metadata": {
        "id": "HVHi7FwKhYts",
        "colab_type": "code",
        "colab": {}
      },
      "cell_type": "code",
      "source": [
        "# This is a super heavily modified version of: https://github.com/Zahlii/colab-tf-utils\n",
        "GDriveItem = namedtuple('GDriveItem', ['name', 'fid'])  # A Folder or File in your Google Drive\n",
        "EpochData = namedtuple('EpochData', ['epoch', 'losses'])  # Epoch information as returned from keras\n",
        "\n",
        "\n",
        "class GDriveSync:\n",
        "    # Simple up/downloading functionality to move local files into the cloud and vice versa.\n",
        "    def __init__(self):\n",
        "        auth.authenticate_user()  # prompt the user to access his Google Drive via the API\n",
        "        self.drive_service = build('drive', 'v3')\n",
        "        self.default_folder = self.find_items('Colab Notebooks')[0]\n",
        "\n",
        "    def find_items(self, name: str) -> List[str]:\n",
        "        \"\"\"\n",
        "        Find folders or files based on their name. This always searches the full Google Drive tree!\n",
        "        :param name: Term to be searched. All files containing this search term are returned.\n",
        "        \"\"\"\n",
        "        folder_list = self.drive_service.files().list(q='name contains \"%s\"' % name).execute()\n",
        "        folders = []\n",
        "        for folder in folder_list['files']:\n",
        "            folders.append(GDriveItem(folder['name'], folder['id']))\n",
        "        return folders\n",
        "\n",
        "    def upload_file_to_folder(self, local_file: str, folder=None) -> None:\n",
        "        \"\"\"\n",
        "        Upload a local file, optionally to a specific folder in Google Drive\n",
        "        :param local_file: Path to the local file\n",
        "        :param folder: (Option) GDriveItem which should be the parent.\n",
        "        \"\"\"\n",
        "        if folder is not None:\n",
        "            assert type(folder) == GDriveItem\t\n",
        "\n",
        "        file_metadata = {\n",
        "            'title': local_file,\n",
        "            'name': local_file\n",
        "        }\n",
        "\n",
        "        if folder is not None:\n",
        "            file_metadata['parents'] = [folder.fid]\n",
        "\n",
        "        media = MediaFileUpload(local_file, resumable=True)\n",
        "        created = self.drive_service.files().create(body=file_metadata,\n",
        "                                                    media_body=media,\n",
        "                                                    fields='id')\n",
        "        if folder is not None:\n",
        "            d = 'Uploading file %s to folder %s' % (local_file, folder.name)\n",
        "        else:\n",
        "            d = 'Uploading file %s' % local_file\n",
        "\n",
        "        response = None\n",
        "        while response is None:\n",
        "            status, response = created.next_chunk()\n",
        "                \n",
        "    def download_file_to_folder(self, \n",
        "                                remote_file: GDriveItem, \n",
        "                                path: str) -> None:\n",
        "        assert type(remote_file) == GDriveItem\n",
        "        request = self.drive_service.files().get_media(fileId=remote_file.fid)\n",
        "\n",
        "        with open(path, 'wb') as fh:\n",
        "            downloader = MediaIoBaseDownload(fh, request)\n",
        "            done = False\n",
        "            while done is False:\n",
        "                status, done = downloader.next_chunk()\n",
        "\n",
        "    def delete_file(self, file: GDriveItem) -> None:\n",
        "        assert type(file) == GDriveItem\n",
        "        request = self.drive_service.files().delete(fileId=file.fid)\n",
        "        request.execute()\n",
        "\n",
        "\n",
        "class GDriveCheckpointer(tf.keras.callbacks.Callback):\n",
        "    \"\"\"\n",
        "    Keras Callback that automatically saves models into your Google Drive.\n",
        "    Outdated checkpoints are automatically deleted remotely to prevent GDrive from filling up.\n",
        "    Checkpointing is controlled by two functions:\n",
        "        compare_fn(best_epoch: EpochData, current_epoch: EpochData) -> bool\n",
        "        - If this function returns true, the current_epoch is assumed to have better performance than the older best_epoch.\n",
        "        - e.g. return best_epoch.losses['val_acc'] < current_epoch.losses['val_acc']\n",
        "        filepath_fn(epoch: EpochData) -> Union[String, None]\n",
        "        - If this function returns None, the checkpoint is skipped. This can be used to skip backing up early epochs.\n",
        "          If it returns a String path, the model is uploaded into the default GDrive folder with the given file name.\n",
        "    \"\"\"\n",
        "    def __init__(self, \n",
        "                 compare_fn: Callable, \n",
        "                 filepath_fn: Callable, \n",
        "                 save_optimizer=False):\n",
        "        assert compare_fn is not None, 'Need a compare function which gets all the losses and evaluation data of two epochs and which needs to return True if the second one is better.'\n",
        "        assert filepath_fn is not None, 'Need a function that derives a file path based on a dictionary of losses and metrics.'\n",
        "\n",
        "        restart_from_backup = False\n",
        "        super(GDriveCheckpointer, self).__init__()\n",
        "        self.saver = GDriveSync()\n",
        "        self.compare_fn = compare_fn\n",
        "        self.filepath_fn = filepath_fn\n",
        "        self.best_epoch = None\n",
        "        self.best_filename = None\n",
        "        self.save_optimizer = save_optimizer\n",
        "\n",
        "    def on_epoch_end(self, epoch: int, logs={}):\n",
        "        losses = dict(logs)\n",
        "        epoch_data = EpochData(epoch, losses)\n",
        "        if self.best_epoch is None or self.compare_fn(self.best_epoch, epoch_data):\n",
        "            self.best_epoch = copy.deepcopy(epoch_data)\n",
        "            fn = self.filepath_fn(epoch_data)\n",
        "            if fn is not None and fn:\n",
        "                if self.best_filename:\n",
        "                    os.remove(self.best_filename)\n",
        "                    all_found = self.saver.find_items(self.best_filename)\n",
        "                    old_file = all_found[0]\n",
        "                    print('Removing old cloud file %s' % old_file.name)\n",
        "                    self.saver.delete_file(old_file)\n",
        "                self.best_filename = fn\n",
        "                self._save_checkpoint()\n",
        "            else:\n",
        "                print('Skipping upload because path function returned no path.')\n",
        "        else:\n",
        "            pass\n",
        "\n",
        "    def _save_checkpoint(self):\n",
        "        print('Saving {}'.format(self.best_filename))\n",
        "        self.model.save(self.best_filename)\n",
        "        print('Uploading to {}'.format(self.saver.default_folder))\n",
        "        self.saver.upload_file_to_folder(self.best_filename, self.saver.default_folder)\n",
        "        "
      ],
      "execution_count": 0,
      "outputs": []
    },
    {
      "metadata": {
        "id": "hfTNTdhRng3r",
        "colab_type": "code",
        "colab": {}
      },
      "cell_type": "code",
      "source": [
        "def filepath_fn_unbound(filebase: str, \n",
        "                        x: EpochData) -> Union[str, None]:\n",
        "    filepath = '{}_{:04d}'.format(filebase, x.epoch)\n",
        "    return filepath\n",
        "  \n",
        "\n",
        "def compare_fn(best_epoch: EpochData, \n",
        "               current_epoch: EpochData) -> bool:\n",
        "    save_every = 10\n",
        "    save = 0 == current_epoch.epoch % save_every\n",
        "    return save\n",
        "  \n",
        "\n",
        "# filebase = 'wide_res_net'\n",
        "# filebase = 'autoaugment'\n",
        "filebase = 'jonathan'\n",
        "filepath_fn = lambda x: filepath_fn_unbound(filebase, x)"
      ],
      "execution_count": 0,
      "outputs": []
    },
    {
      "metadata": {
        "id": "wLizRtbkgRVL",
        "colab_type": "code",
        "colab": {
          "base_uri": "https://localhost:8080/",
          "height": 645
        },
        "outputId": "96099310-4861-467a-e4cc-644ed3bcecc5"
      },
      "cell_type": "code",
      "source": [
        "# this one prompts for authorisation\n",
        "gdcp = GDriveCheckpointer(compare_fn, filepath_fn)\n",
        "# gdcp"
      ],
      "execution_count": 10,
      "outputs": [
        {
          "output_type": "stream",
          "text": [
            "2018-12-05 02:03:34,362 73 140508486915968: Making request: POST https://accounts.google.com/o/oauth2/token\n",
            "2018-12-05 02:03:34,370 73 140508486915968: Starting new HTTPS connection (1): accounts.google.com\n",
            "2018-12-05 02:03:34,416 73 140508486915968: https://accounts.google.com:443 \"POST /o/oauth2/token HTTP/1.1\" 200 None\n",
            "2018-12-05 02:03:34,429 73 140508486915968: file_cache is unavailable when using oauth2client >= 4.0.0\n",
            "Traceback (most recent call last):\n",
            "  File \"/usr/local/lib/python3.6/dist-packages/googleapiclient/discovery_cache/__init__.py\", line 36, in autodetect\n",
            "    from google.appengine.api import memcache\n",
            "ModuleNotFoundError: No module named 'google.appengine'\n",
            "\n",
            "During handling of the above exception, another exception occurred:\n",
            "\n",
            "Traceback (most recent call last):\n",
            "  File \"/usr/local/lib/python3.6/dist-packages/googleapiclient/discovery_cache/file_cache.py\", line 33, in <module>\n",
            "    from oauth2client.contrib.locked_file import LockedFile\n",
            "ModuleNotFoundError: No module named 'oauth2client.contrib.locked_file'\n",
            "\n",
            "During handling of the above exception, another exception occurred:\n",
            "\n",
            "Traceback (most recent call last):\n",
            "  File \"/usr/local/lib/python3.6/dist-packages/googleapiclient/discovery_cache/file_cache.py\", line 37, in <module>\n",
            "    from oauth2client.locked_file import LockedFile\n",
            "ModuleNotFoundError: No module named 'oauth2client.locked_file'\n",
            "\n",
            "During handling of the above exception, another exception occurred:\n",
            "\n",
            "Traceback (most recent call last):\n",
            "  File \"/usr/local/lib/python3.6/dist-packages/googleapiclient/discovery_cache/__init__.py\", line 41, in autodetect\n",
            "    from . import file_cache\n",
            "  File \"/usr/local/lib/python3.6/dist-packages/googleapiclient/discovery_cache/file_cache.py\", line 41, in <module>\n",
            "    'file_cache is unavailable when using oauth2client >= 4.0.0')\n",
            "ImportError: file_cache is unavailable when using oauth2client >= 4.0.0\n",
            "2018-12-05 02:03:34,432 73 140508486915968: URL being requested: GET https://www.googleapis.com/discovery/v1/apis/drive/v3/rest\n",
            "2018-12-05 02:03:34,534 73 140508486915968: No project ID could be determined. Consider running `gcloud config set project` or setting the GOOGLE_CLOUD_PROJECT environment variable\n",
            "2018-12-05 02:03:34,546 73 140508486915968: URL being requested: GET https://www.googleapis.com/drive/v3/files?q=name+contains+%22Colab+Notebooks%22&alt=json\n",
            "2018-12-05 02:03:34,548 73 140508486915968: Making request: POST https://accounts.google.com/o/oauth2/token\n"
          ],
          "name": "stdout"
        }
      ]
    },
    {
      "metadata": {
        "id": "NcH_ki4r-NBa",
        "colab_type": "code",
        "colab": {
          "base_uri": "https://localhost:8080/",
          "height": 106
        },
        "outputId": "d575cab8-a4bf-4fdb-82e8-58c1b6de9e02"
      },
      "cell_type": "code",
      "source": [
        "def get_last_filename(filebase: str) -> str:\n",
        "    remote_files = gdcp.saver.find_items(filebase)\n",
        "    sorted_filenames = sorted([x.name for x in remote_files])\n",
        "    if len(sorted_filenames) > 0:\n",
        "        last_filename = sorted_filenames[-1]\n",
        "    else:\n",
        "        last_filename = None\n",
        "    return last_filename\n",
        "\n",
        "attempt_reload_from_drive = True\n",
        "reload_from = '0290'\n",
        "last_filename = get_last_filename(filebase)\n",
        "\n",
        "if attempt_reload_from_drive and (last_filename is not None):\n",
        "    remote_files = gdcp.saver.find_items(last_filename)\n",
        "    remote_file = remote_files[0]\n",
        "    local_best_model_fn = remote_file.name\n",
        "    logger.info(\"Loading from {}\".format(local_best_model_fn))\n",
        "    gdcp.saver.download_file_to_folder(remote_file, local_best_model_fn)\n",
        "    model = load_model(local_best_model_fn)\n",
        "    initial_epoch = int(remote_file.name.split('_')[-1])\n",
        "else:\n",
        "    xshape = x_train.shape[1:]\n",
        "    yshape = y_train.shape[1]\n",
        "    model = Model(*juxt(identity, computational_graph(yshape))(Input(shape=xshape)))\n",
        "    optimizer = SGD(momentum=0.9)\n",
        "    model.compile(loss='categorical_crossentropy', optimizer=optimizer, metrics=['accuracy'])  # nesterov=True\n",
        "    initial_epoch = 0"
      ],
      "execution_count": 11,
      "outputs": [
        {
          "output_type": "stream",
          "text": [
            "2018-12-05 02:03:34,962 73 140508486915968: URL being requested: GET https://www.googleapis.com/drive/v3/files?q=name+contains+%22jonathan%22&alt=json\n",
            "2018-12-05 02:03:35,179 73 140508486915968: URL being requested: GET https://www.googleapis.com/drive/v3/files?q=name+contains+%22jonathan_0210%22&alt=json\n",
            "2018-12-05 02:03:35,351 73 140508486915968: Loading from jonathan_0210\n",
            "2018-12-05 02:03:35,355 73 140508486915968: URL being requested: GET https://www.googleapis.com/drive/v3/files/1LYXVc9BAJng-3guY9vmGIgFNuKgKPwFi?alt=media\n"
          ],
          "name": "stdout"
        }
      ]
    },
    {
      "metadata": {
        "id": "8GaFv9bBsyc1",
        "colab_type": "code",
        "colab": {
          "base_uri": "https://localhost:8080/",
          "height": 54
        },
        "outputId": "c130a391-e004-4c7d-efdb-b6054b6e29f8"
      },
      "cell_type": "code",
      "source": [
        "remote_files = gdcp.saver.find_items(filebase)\n",
        "sorted_filenames = sorted([x.name for x in remote_files])\n",
        "if len(sorted_filenames) > 0:\n",
        "    last_filename = sorted_filenames[-1]\n",
        "else:\n",
        "    last_filename = None"
      ],
      "execution_count": 12,
      "outputs": [
        {
          "output_type": "stream",
          "text": [
            "2018-12-05 02:03:41,966 73 140508486915968: URL being requested: GET https://www.googleapis.com/drive/v3/files?q=name+contains+%22jonathan%22&alt=json\n"
          ],
          "name": "stdout"
        }
      ]
    },
    {
      "metadata": {
        "id": "z0ia8YPhk_Yn",
        "colab_type": "code",
        "colab": {}
      },
      "cell_type": "code",
      "source": [
        "def return_good_policies() -> List[tuple]:\n",
        "    \"\"\"AutoAugment policies found on analysis.\"\"\"\n",
        "    exp0_0 = [\n",
        "      [('FlipLR', 0.5, 5)],\n",
        "      [('TranslateY', 0.5, 5)],\n",
        "      [('TranslateX', 0.5, 5)],\n",
        "      [('ShearY', 0.5, 5)],\n",
        "      [('Solarize', 0.5, 5)],\n",
        "      [('Rotate', 0.5, 5)]\n",
        "    ]\n",
        "    return exp0_0\n",
        "\n",
        "good_policies = return_good_policies()\n",
        "\n",
        "\n",
        "epoch_policy = good_policies[np.random.choice(len(good_policies))]\n",
        "            \n",
        "# def apply_good_policy() -> np.ndarray:\n",
        "#     epoch_policy = good_policies[np.random.choice(len(good_policies))]\n",
        "#     final_img = augmentation_transforms.apply_policy(epoch_policy, data)\n",
        "#     final_img = augmentation_transforms.random_flip(augmentation_transforms.zero_pad_and_crop(final_img, 4))\n",
        "#     final_img = augmentation_transforms.cutout_numpy(final_img)  # Apply cutout\n",
        "  \n",
        "# print(epoch_policy)"
      ],
      "execution_count": 0,
      "outputs": []
    },
    {
      "metadata": {
        "id": "8dXO3DmuzsPH",
        "colab_type": "code",
        "colab": {}
      },
      "cell_type": "code",
      "source": [
        "# https://software.intel.com/en-us/articles/hands-on-ai-part-14-image-data-preprocessing-and-augmentation\n",
        "def return_good_policies() -> List[tuple]:\n",
        "    \"\"\"AutoAugment policies found on analysis.\"\"\"\n",
        "    exp0_0 = [\n",
        "      [('FlipLR', 0.5, 5)],\n",
        "      [('TranslateY', 0.5, 5)],\n",
        "      [('TranslateX', 0.5, 5)],\n",
        "      [('ShearY', 0.5, 5)],\n",
        "      [('Solarize', 0.5, 5)],\n",
        "      [('Rotate', 0.5, 5)]\n",
        "    ]\n",
        "    return exp0_0\n",
        "\n",
        "good_policies = return_good_policies()\n",
        "batch_size = 128\n",
        "checkpoint_period = 10\n",
        "\n",
        "    \n",
        "def autoaugment(x: np.ndarray) -> np.ndarray:\n",
        "    epoch_policy = good_policies[np.random.choice(len(good_policies))]\n",
        "    x = augmentation_transforms.apply_policy(epoch_policy, x)\n",
        "    return x\n",
        "  \n",
        "\n",
        "if filebase == 'jonathan' or filebase == 'autoaugment':\n",
        "    def preprocessing_function(x: np.ndarray) -> np.ndarray:\n",
        "        x = autoaugment(x)\n",
        "        x = augmentation_transforms.random_flip(augmentation_transforms.zero_pad_and_crop(x, 4))\n",
        "        x = augmentation_transforms.cutout_numpy(x)\n",
        "        return x\n",
        "\n",
        "    horizontal_flip = False\n",
        "    width_shift_range = 0.0\n",
        "    height_shift_range = 0.0\n",
        "    epochs = 300\n",
        "elif filebase == 'wide_res_net':\n",
        "    def preprocessing_function(x: np.ndarray) -> np.ndarray:\n",
        "        return x\n",
        "    epochs = 200\n",
        "    width_shift_range = 0.125\n",
        "    height_shift_range = 0.125\n",
        "    horizontal_flip = True"
      ],
      "execution_count": 0,
      "outputs": []
    },
    {
      "metadata": {
        "id": "GwTVXXHQ0O6y",
        "colab_type": "code",
        "colab": {}
      },
      "cell_type": "code",
      "source": [
        "# import models.research.autoaugment.augmentation_transforms as augmentation_transforms"
      ],
      "execution_count": 0,
      "outputs": []
    },
    {
      "metadata": {
        "id": "56AvWfTKCuBG",
        "colab_type": "code",
        "colab": {
          "base_uri": "https://localhost:8080/",
          "height": 379
        },
        "outputId": "e4c12e6b-1e1d-4923-f118-a049cb0c25fb"
      },
      "cell_type": "code",
      "source": [
        "CLASS_LABELS = np.array(['plane', 'car', 'bird', 'cat', 'deer', 'dog', 'frog', 'horse', 'ship', 'truck'])\n",
        "\n",
        "train_set_size = x_train.shape[0]\n",
        "# idx = 1000\n",
        "idx = np.random.randint(train_set_size)\n",
        "# idx = 2395\n",
        "label = CLASS_LABELS[y_train[idx, :].astype(bool)]\n",
        "plt.imshow(x_train[idx, :, :, :])\n",
        "plt.title(label)\n"
      ],
      "execution_count": 16,
      "outputs": [
        {
          "output_type": "execute_result",
          "data": {
            "text/plain": [
              "Text(0.5,1,\"['deer']\")"
            ]
          },
          "metadata": {
            "tags": []
          },
          "execution_count": 16
        },
        {
          "output_type": "display_data",
          "data": {
            "image/png": "[encoded data removed]",
            "text/plain": [
              "<matplotlib.figure.Figure at 0x7fca76ba26a0>"
            ]
          },
          "metadata": {
            "tags": []
          }
        }
      ]
    },
    {
      "metadata": {
        "id": "dcDHEgy6Cv_Q",
        "colab_type": "code",
        "colab": {
          "base_uri": "https://localhost:8080/",
          "height": 364
        },
        "outputId": "c662ba1f-b6db-48b3-a1f3-d6f501bb8fb7"
      },
      "cell_type": "code",
      "source": [
        "# !ls models/research/autoaugment\n",
        "plt.imshow(preprocessing_function(x_train[idx, :, :, :]))"
      ],
      "execution_count": 17,
      "outputs": [
        {
          "output_type": "execute_result",
          "data": {
            "text/plain": [
              "<matplotlib.image.AxesImage at 0x7fca6f239ac8>"
            ]
          },
          "metadata": {
            "tags": []
          },
          "execution_count": 17
        },
        {
          "output_type": "display_data",
          "data": {
            "image/png": "[encoded data removed]",
            "text/plain": [
              "<matplotlib.figure.Figure at 0x7fca76b8b668>"
            ]
          },
          "metadata": {
            "tags": []
          }
        }
      ]
    },
    {
      "metadata": {
        "id": "hUiPj-S-yHT0",
        "colab_type": "code",
        "colab": {
          "base_uri": "https://localhost:8080/",
          "height": 732
        },
        "outputId": "a3e6c087-381c-4ee4-e21a-a58556c685b3"
      },
      "cell_type": "code",
      "source": [
        "if use_tpu:\n",
        "    TPU_WORKER = 'grpc://' + os.environ['COLAB_TPU_ADDR']\n",
        "    using_single_core = False\n",
        "    tpu_cluster_resolver = tf.contrib.cluster_resolver.TPUClusterResolver(TPU_WORKER)\n",
        "    strategy = tf.contrib.tpu.TPUDistributionStrategy(tpu_cluster_resolver, using_single_core=using_single_core)\n",
        "    model = tf.contrib.tpu.keras_to_tpu_model(model, strategy=strategy)\n",
        "\n",
        "train_data = ImageDataGenerator(featurewise_center=True, \n",
        "                                featurewise_std_normalization=True, \n",
        "                                width_shift_range=width_shift_range, \n",
        "                                height_shift_range=height_shift_range, \n",
        "                                horizontal_flip=horizontal_flip,\n",
        "                                preprocessing_function=preprocessing_function)\n",
        "validation_data = ImageDataGenerator(featurewise_center=True, featurewise_std_normalization=True)\n",
        "test_data = ImageDataGenerator(featurewise_center=True, featurewise_std_normalization=True)\n",
        "\n",
        "for data in (train_data, validation_data, test_data):\n",
        "    data.fit(x_train)\n",
        "\n",
        "learning_rate_callback = LearningRateScheduler(partial(getitem, tuple(take(epochs, concat(repeat(0.1, 60), repeat(0.02, 60), repeat(0.004, 40), repeat(0.0008))))))\n",
        "tensorboard_callback = tf.keras.callbacks.TensorBoard(log_dir='./Graph', histogram_freq=0, write_graph=True, write_images=True)\n",
        "callbacks = [gdcp, learning_rate_callback]"
      ],
      "execution_count": 18,
      "outputs": [
        {
          "output_type": "stream",
          "text": [
            "INFO:tensorflow:Querying Tensorflow master (b'grpc://10.113.23.146:8470') for TPU system metadata.\n",
            "2018-12-05 02:03:52,739 73 140508486915968: Querying Tensorflow master (b'grpc://10.113.23.146:8470') for TPU system metadata.\n",
            "INFO:tensorflow:Found TPU system:\n",
            "2018-12-05 02:03:52,766 73 140508486915968: Found TPU system:\n",
            "INFO:tensorflow:*** Num TPU Cores: 8\n",
            "2018-12-05 02:03:52,772 73 140508486915968: *** Num TPU Cores: 8\n",
            "INFO:tensorflow:*** Num TPU Workers: 1\n",
            "2018-12-05 02:03:52,779 73 140508486915968: *** Num TPU Workers: 1\n",
            "INFO:tensorflow:*** Num TPU Cores Per Worker: 8\n",
            "2018-12-05 02:03:52,782 73 140508486915968: *** Num TPU Cores Per Worker: 8\n",
            "INFO:tensorflow:*** Available Device: _DeviceAttributes(/job:worker/replica:0/task:0/device:CPU:0, CPU, -1, 14275096747165867063)\n",
            "2018-12-05 02:03:52,787 73 140508486915968: *** Available Device: _DeviceAttributes(/job:worker/replica:0/task:0/device:CPU:0, CPU, -1, 14275096747165867063)\n",
            "INFO:tensorflow:*** Available Device: _DeviceAttributes(/job:worker/replica:0/task:0/device:XLA_CPU:0, XLA_CPU, 17179869184, 9773428442285141478)\n",
            "2018-12-05 02:03:52,793 73 140508486915968: *** Available Device: _DeviceAttributes(/job:worker/replica:0/task:0/device:XLA_CPU:0, XLA_CPU, 17179869184, 9773428442285141478)\n",
            "INFO:tensorflow:*** Available Device: _DeviceAttributes(/job:worker/replica:0/task:0/device:XLA_GPU:0, XLA_GPU, 17179869184, 12303198765412992172)\n",
            "2018-12-05 02:03:52,797 73 140508486915968: *** Available Device: _DeviceAttributes(/job:worker/replica:0/task:0/device:XLA_GPU:0, XLA_GPU, 17179869184, 12303198765412992172)\n",
            "INFO:tensorflow:*** Available Device: _DeviceAttributes(/job:worker/replica:0/task:0/device:TPU:0, TPU, 17179869184, 15828786215294047655)\n",
            "2018-12-05 02:03:52,802 73 140508486915968: *** Available Device: _DeviceAttributes(/job:worker/replica:0/task:0/device:TPU:0, TPU, 17179869184, 15828786215294047655)\n",
            "INFO:tensorflow:*** Available Device: _DeviceAttributes(/job:worker/replica:0/task:0/device:TPU:1, TPU, 17179869184, 14917660215946965693)\n",
            "2018-12-05 02:03:52,806 73 140508486915968: *** Available Device: _DeviceAttributes(/job:worker/replica:0/task:0/device:TPU:1, TPU, 17179869184, 14917660215946965693)\n",
            "INFO:tensorflow:*** Available Device: _DeviceAttributes(/job:worker/replica:0/task:0/device:TPU:2, TPU, 17179869184, 11868655315999730513)\n",
            "2018-12-05 02:03:52,810 73 140508486915968: *** Available Device: _DeviceAttributes(/job:worker/replica:0/task:0/device:TPU:2, TPU, 17179869184, 11868655315999730513)\n",
            "INFO:tensorflow:*** Available Device: _DeviceAttributes(/job:worker/replica:0/task:0/device:TPU:3, TPU, 17179869184, 16842396599518744470)\n",
            "2018-12-05 02:03:52,815 73 140508486915968: *** Available Device: _DeviceAttributes(/job:worker/replica:0/task:0/device:TPU:3, TPU, 17179869184, 16842396599518744470)\n",
            "INFO:tensorflow:*** Available Device: _DeviceAttributes(/job:worker/replica:0/task:0/device:TPU:4, TPU, 17179869184, 521735966776209865)\n",
            "2018-12-05 02:03:52,817 73 140508486915968: *** Available Device: _DeviceAttributes(/job:worker/replica:0/task:0/device:TPU:4, TPU, 17179869184, 521735966776209865)\n",
            "INFO:tensorflow:*** Available Device: _DeviceAttributes(/job:worker/replica:0/task:0/device:TPU:5, TPU, 17179869184, 15097144644486947910)\n",
            "2018-12-05 02:03:52,819 73 140508486915968: *** Available Device: _DeviceAttributes(/job:worker/replica:0/task:0/device:TPU:5, TPU, 17179869184, 15097144644486947910)\n",
            "INFO:tensorflow:*** Available Device: _DeviceAttributes(/job:worker/replica:0/task:0/device:TPU:6, TPU, 17179869184, 17221562897253107106)\n",
            "2018-12-05 02:03:52,824 73 140508486915968: *** Available Device: _DeviceAttributes(/job:worker/replica:0/task:0/device:TPU:6, TPU, 17179869184, 17221562897253107106)\n",
            "INFO:tensorflow:*** Available Device: _DeviceAttributes(/job:worker/replica:0/task:0/device:TPU:7, TPU, 17179869184, 14693599926820767922)\n",
            "2018-12-05 02:03:52,828 73 140508486915968: *** Available Device: _DeviceAttributes(/job:worker/replica:0/task:0/device:TPU:7, TPU, 17179869184, 14693599926820767922)\n",
            "INFO:tensorflow:*** Available Device: _DeviceAttributes(/job:worker/replica:0/task:0/device:TPU_SYSTEM:0, TPU_SYSTEM, 17179869184, 6630882786069861242)\n",
            "2018-12-05 02:03:52,831 73 140508486915968: *** Available Device: _DeviceAttributes(/job:worker/replica:0/task:0/device:TPU_SYSTEM:0, TPU_SYSTEM, 17179869184, 6630882786069861242)\n",
            "WARNING:tensorflow:tpu_model (from tensorflow.contrib.tpu.python.tpu.keras_support) is experimental and may change or be removed at any time, and without warning.\n",
            "2018-12-05 02:03:52,837 73 140508486915968: tpu_model (from tensorflow.contrib.tpu.python.tpu.keras_support) is experimental and may change or be removed at any time, and without warning.\n",
            "INFO:tensorflow:Cloning SGD {'lr': 0.0007999999797903001, 'momentum': 0.8999999761581421, 'decay': 0.0, 'nesterov': False}\n",
            "2018-12-05 02:04:03,101 73 140508486915968: Cloning SGD {'lr': 0.0007999999797903001, 'momentum': 0.8999999761581421, 'decay': 0.0, 'nesterov': False}\n",
            "INFO:tensorflow:Cloning SGD {'lr': 0.0007999999797903001, 'momentum': 0.8999999761581421, 'decay': 0.0, 'nesterov': False}\n",
            "2018-12-05 02:04:05,686 73 140508486915968: Cloning SGD {'lr': 0.0007999999797903001, 'momentum': 0.8999999761581421, 'decay': 0.0, 'nesterov': False}\n"
          ],
          "name": "stdout"
        }
      ]
    },
    {
      "metadata": {
        "id": "Pa-sMNkf7lgy",
        "colab_type": "code",
        "colab": {
          "base_uri": "https://localhost:8080/",
          "height": 1999
        },
        "outputId": "a89a3179-d9e7-48fe-e989-a8da1be0efee"
      },
      "cell_type": "code",
      "source": [
        "train_generator = train_data.flow(x_train, y_train, batch_size=batch_size)\n",
        "validation_generator = validation_data.flow(x_validation, y_validation, batch_size=batch_size)\n",
        "\n",
        "steps_per_epoch = x_train.shape[0] // batch_size\n",
        "validation_steps = x_validation.shape[0] // batch_size\n",
        "\n",
        "results = model.fit_generator(train_generator,\n",
        "                              steps_per_epoch=steps_per_epoch,\n",
        "                              epochs=epochs,\n",
        "                              initial_epoch=initial_epoch,\n",
        "                              callbacks=callbacks,\n",
        "                              validation_data=validation_generator,\n",
        "                              validation_steps=validation_steps)"
      ],
      "execution_count": 0,
      "outputs": [
        {
          "output_type": "stream",
          "text": [
            "Epoch 211/300\n",
            "INFO:tensorflow:New input shapes; (re-)compiling: mode=train (# of cores 8), [TensorSpec(shape=(16,), dtype=tf.int32, name='core_id0'), TensorSpec(shape=(16, 32, 32, 3), dtype=tf.float32, name='input_1_10'), TensorSpec(shape=(16, 10), dtype=tf.float32, name='dense_target_30')]\n",
            "2018-12-05 02:04:13,501 73 140508486915968: New input shapes; (re-)compiling: mode=train (# of cores 8), [TensorSpec(shape=(16,), dtype=tf.int32, name='core_id0'), TensorSpec(shape=(16, 32, 32, 3), dtype=tf.float32, name='input_1_10'), TensorSpec(shape=(16, 10), dtype=tf.float32, name='dense_target_30')]\n",
            "INFO:tensorflow:Overriding default placeholder.\n",
            "2018-12-05 02:04:13,557 73 140508486915968: Overriding default placeholder.\n",
            "INFO:tensorflow:Cloning SGD {'lr': 0.0007999999797903001, 'momentum': 0.8999999761581421, 'decay': 0.0, 'nesterov': False}\n",
            "2018-12-05 02:04:13,846 73 140508486915968: Cloning SGD {'lr': 0.0007999999797903001, 'momentum': 0.8999999761581421, 'decay': 0.0, 'nesterov': False}\n",
            "INFO:tensorflow:Remapping placeholder for input_1\n",
            "2018-12-05 02:04:13,928 73 140508486915968: Remapping placeholder for input_1\n",
            "INFO:tensorflow:KerasCrossShard: <tensorflow.python.keras.optimizers.SGD object at 0x7fca6551d748> []\n",
            "2018-12-05 02:04:23,034 73 140508486915968: KerasCrossShard: <tensorflow.python.keras.optimizers.SGD object at 0x7fca6551d748> []\n",
            "INFO:tensorflow:Started compiling\n",
            "2018-12-05 02:04:28,337 73 140508486915968: Started compiling\n",
            "INFO:tensorflow:Finished compiling. Time elapsed: 31.888811111450195 secs\n",
            "2018-12-05 02:05:00,228 73 140508486915968: Finished compiling. Time elapsed: 31.888811111450195 secs\n",
            "INFO:tensorflow:Setting weights on TPU model.\n",
            "2018-12-05 02:05:00,802 73 140508486915968: Setting weights on TPU model.\n",
            "INFO:tensorflow:CPU -> TPU lr: 0.0007999999797903001 {0.0008}\n",
            "2018-12-05 02:05:06,624 73 140508486915968: CPU -> TPU lr: 0.0007999999797903001 {0.0008}\n",
            "INFO:tensorflow:CPU -> TPU momentum: 0.8999999761581421 {0.9}\n",
            "2018-12-05 02:05:08,306 73 140508486915968: CPU -> TPU momentum: 0.8999999761581421 {0.9}\n",
            "INFO:tensorflow:CPU -> TPU decay: 0.0 {0.0}\n",
            "2018-12-05 02:05:09,989 73 140508486915968: CPU -> TPU decay: 0.0 {0.0}\n",
            "WARNING:tensorflow:Cannot update non-variable config: nesterov\n",
            "2018-12-05 02:05:11,393 73 140508486915968: Cannot update non-variable config: nesterov\n",
            "315/390 [=======================>......] - ETA: 27s - loss: 0.2019 - acc: 0.9885INFO:tensorflow:New input shapes; (re-)compiling: mode=train (# of cores 8), [TensorSpec(shape=(10,), dtype=tf.int32, name='core_id0'), TensorSpec(shape=(10, 32, 32, 3), dtype=tf.float32, name='input_1_10'), TensorSpec(shape=(10, 10), dtype=tf.float32, name='dense_target_30')]\n",
            "2018-12-05 02:06:07,422 73 140508486915968: New input shapes; (re-)compiling: mode=train (# of cores 8), [TensorSpec(shape=(10,), dtype=tf.int32, name='core_id0'), TensorSpec(shape=(10, 32, 32, 3), dtype=tf.float32, name='input_1_10'), TensorSpec(shape=(10, 10), dtype=tf.float32, name='dense_target_30')]\n",
            "INFO:tensorflow:Overriding default placeholder.\n",
            "2018-12-05 02:06:07,460 73 140508486915968: Overriding default placeholder.\n",
            "INFO:tensorflow:Remapping placeholder for input_1\n",
            "2018-12-05 02:06:07,475 73 140508486915968: Remapping placeholder for input_1\n",
            "INFO:tensorflow:KerasCrossShard: <tensorflow.python.keras.optimizers.SGD object at 0x7fca6551d748> [<tf.Variable 'tpu_140507309849568/SGD/iterations:0' shape=() dtype=int64>, <tensorflow.contrib.tpu.python.tpu.keras_tpu_variables.ReplicatedVariable object at 0x7fca5fb38eb8>, <tensorflow.contrib.tpu.python.tpu.keras_tpu_variables.ReplicatedVariable object at 0x7fca5faca3c8>, <tensorflow.contrib.tpu.python.tpu.keras_tpu_variables.ReplicatedVariable object at 0x7fca5faca518>, <tensorflow.contrib.tpu.python.tpu.keras_tpu_variables.ReplicatedVariable object at 0x7fca5facaeb8>, <tensorflow.contrib.tpu.python.tpu.keras_tpu_variables.ReplicatedVariable object at 0x7fca5faa8e10>, <tensorflow.contrib.tpu.python.tpu.keras_tpu_variables.ReplicatedVariable object at 0x7fca5fa71eb8>, <tensorflow.contrib.tpu.python.tpu.keras_tpu_variables.ReplicatedVariable object at 0x7fca5fa1cda0>, <tensorflow.contrib.tpu.python.tpu.keras_tpu_variables.ReplicatedVariable object at 0x7fca5f989f60>, <tensorflow.contrib.tpu.python.tpu.keras_tpu_variables.ReplicatedVariable object at 0x7fca5f979748>, <tensorflow.contrib.tpu.python.tpu.keras_tpu_variables.ReplicatedVariable object at 0x7fca5f91fda0>, <tensorflow.contrib.tpu.python.tpu.keras_tpu_variables.ReplicatedVariable object at 0x7fca5f8c3c88>, <tensorflow.contrib.tpu.python.tpu.keras_tpu_variables.ReplicatedVariable object at 0x7fca5f8b4f28>, <tensorflow.contrib.tpu.python.tpu.keras_tpu_variables.ReplicatedVariable object at 0x7fca5f801fd0>, <tensorflow.contrib.tpu.python.tpu.keras_tpu_variables.ReplicatedVariable object at 0x7fca5f828da0>, <tensorflow.contrib.tpu.python.tpu.keras_tpu_variables.ReplicatedVariable object at 0x7fca5f79dc50>, <tensorflow.contrib.tpu.python.tpu.keras_tpu_variables.ReplicatedVariable object at 0x7fca5f765cc0>, <tensorflow.contrib.tpu.python.tpu.keras_tpu_variables.ReplicatedVariable object at 0x7fca5f70ccf8>, <tensorflow.contrib.tpu.python.tpu.keras_tpu_variables.ReplicatedVariable object at 0x7fca5f6f9be0>, <tensorflow.contrib.tpu.python.tpu.keras_tpu_variables.ReplicatedVariable object at 0x7fca5f644f28>, <tensorflow.contrib.tpu.python.tpu.keras_tpu_variables.ReplicatedVariable object at 0x7fca5f60e240>, <tensorflow.contrib.tpu.python.tpu.keras_tpu_variables.ReplicatedVariable object at 0x7fca5f583e80>, <tensorflow.contrib.tpu.python.tpu.keras_tpu_variables.ReplicatedVariable object at 0x7fca5f5a7fd0>, <tensorflow.contrib.tpu.python.tpu.keras_tpu_variables.ReplicatedVariable object at 0x7fca5f571b70>, <tensorflow.contrib.tpu.python.tpu.keras_tpu_variables.ReplicatedVariable object at 0x7fca5f4e4f28>, <tensorflow.contrib.tpu.python.tpu.keras_tpu_variables.ReplicatedVariable object at 0x7fca5f488128>, <tensorflow.contrib.tpu.python.tpu.keras_tpu_variables.ReplicatedVariable object at 0x7fca5f457940>, <tensorflow.contrib.tpu.python.tpu.keras_tpu_variables.ReplicatedVariable object at 0x7fca5f3c3eb8>, <tensorflow.contrib.tpu.python.tpu.keras_tpu_variables.ReplicatedVariable object at 0x7fca5f3ead68>, <tensorflow.contrib.tpu.python.tpu.keras_tpu_variables.ReplicatedVariable object at 0x7fca5f3b5e80>, <tensorflow.contrib.tpu.python.tpu.keras_tpu_variables.ReplicatedVariable object at 0x7fca5f324c88>, <tensorflow.contrib.tpu.python.tpu.keras_tpu_variables.ReplicatedVariable object at 0x7fca5f2f3f28>, <tensorflow.contrib.tpu.python.tpu.keras_tpu_variables.ReplicatedVariable object at 0x7fca5f298c18>, <tensorflow.contrib.tpu.python.tpu.keras_tpu_variables.ReplicatedVariable object at 0x7fca5f204e10>, <tensorflow.contrib.tpu.python.tpu.keras_tpu_variables.ReplicatedVariable object at 0x7fca5f1f75c0>, <tensorflow.contrib.tpu.python.tpu.keras_tpu_variables.ReplicatedVariable object at 0x7fca5f19eef0>, <tensorflow.contrib.tpu.python.tpu.keras_tpu_variables.ReplicatedVariable object at 0x7fca5f142fd0>, <tensorflow.contrib.tpu.python.tpu.keras_tpu_variables.ReplicatedVariable object at 0x7fca5f130dd8>, <tensorflow.contrib.tpu.python.tpu.keras_tpu_variables.ReplicatedVariable object at 0x7fca5f0fdd68>, <tensorflow.contrib.tpu.python.tpu.keras_tpu_variables.ReplicatedVariable object at 0x7fca5f0a3c88>, <tensorflow.contrib.tpu.python.tpu.keras_tpu_variables.ReplicatedVariable object at 0x7fca5f017f28>, <tensorflow.contrib.tpu.python.tpu.keras_tpu_variables.ReplicatedVariable object at 0x7fca5efe1d30>, <tensorflow.contrib.tpu.python.tpu.keras_tpu_variables.ReplicatedVariable object at 0x7fca5ef85da0>, <tensorflow.contrib.tpu.python.tpu.keras_tpu_variables.ReplicatedVariable object at 0x7fca5ef77c50>, <tensorflow.contrib.tpu.python.tpu.keras_tpu_variables.ReplicatedVariable object at 0x7fca5eec4fd0>, <tensorflow.contrib.tpu.python.tpu.keras_tpu_variables.ReplicatedVariable object at 0x7fca5eeebcf8>, <tensorflow.contrib.tpu.python.tpu.keras_tpu_variables.ReplicatedVariable object at 0x7fca5ee59be0>, <tensorflow.contrib.tpu.python.tpu.keras_tpu_variables.ReplicatedVariable object at 0x7fca5ee21ef0>, <tensorflow.contrib.tpu.python.tpu.keras_tpu_variables.ReplicatedVariable object at 0x7fca5eded240>, <tensorflow.contrib.tpu.python.tpu.keras_tpu_variables.ReplicatedVariable object at 0x7fca5ed61e80>, <tensorflow.contrib.tpu.python.tpu.keras_tpu_variables.ReplicatedVariable object at 0x7fca5ed05fd0>, <tensorflow.contrib.tpu.python.tpu.keras_tpu_variables.ReplicatedVariable object at 0x7fca5eccfb70>, <tensorflow.contrib.tpu.python.tpu.keras_tpu_variables.ReplicatedVariable object at 0x7fca5ec40f28>, <tensorflow.contrib.tpu.python.tpu.keras_tpu_variables.ReplicatedVariable object at 0x7fca5ec68128>, <tensorflow.contrib.tpu.python.tpu.keras_tpu_variables.ReplicatedVariable object at 0x7fca5ec33940>, <tensorflow.contrib.tpu.python.tpu.keras_tpu_variables.ReplicatedVariable object at 0x7fca5eba2eb8>, <tensorflow.contrib.tpu.python.tpu.keras_tpu_variables.ReplicatedVariable object at 0x7fca5eb46d68>, <tensorflow.contrib.tpu.python.tpu.keras_tpu_variables.ReplicatedVariable object at 0x7fca5eb14e80>, <tensorflow.contrib.tpu.python.tpu.keras_tpu_variables.ReplicatedVariable object at 0x7fca5ea82c88>, <tensorflow.contrib.tpu.python.tpu.keras_tpu_variables.ReplicatedVariable object at 0x7fca5ea74240>, <tensorflow.contrib.tpu.python.tpu.keras_tpu_variables.ReplicatedVariable object at 0x7fca5ea19f28>, <tensorflow.contrib.tpu.python.tpu.keras_tpu_variables.ReplicatedVariable object at 0x7fca5e9c2e48>, <tensorflow.contrib.tpu.python.tpu.keras_tpu_variables.ReplicatedVariable object at 0x7fca5e9b1d30>, <tensorflow.contrib.tpu.python.tpu.keras_tpu_variables.ReplicatedVariable object at 0x7fca5e97eef0>, <tensorflow.contrib.tpu.python.tpu.keras_tpu_variables.ReplicatedVariable object at 0x7fca5e923f98>, <tensorflow.contrib.tpu.python.tpu.keras_tpu_variables.ReplicatedVariable object at 0x7fca5e890dd8>, <tensorflow.contrib.tpu.python.tpu.keras_tpu_variables.ReplicatedVariable object at 0x7fca5e85cd68>, <tensorflow.contrib.tpu.python.tpu.keras_tpu_variables.ReplicatedVariable object at 0x7fca5e802c88>, <tensorflow.contrib.tpu.python.tpu.keras_tpu_variables.ReplicatedVariable object at 0x7fca5e7f3f28>, <tensorflow.contrib.tpu.python.tpu.keras_tpu_variables.ReplicatedVariable object at 0x7fca5e740d30>, <tensorflow.contrib.tpu.python.tpu.keras_tpu_variables.ReplicatedVariable object at 0x7fca5e762da0>, <tensorflow.contrib.tpu.python.tpu.keras_tpu_variables.ReplicatedVariable object at 0x7fca5e6d7c50>, <tensorflow.contrib.tpu.python.tpu.keras_tpu_variables.ReplicatedVariable object at 0x7fca5e6a2fd0>, <tensorflow.contrib.tpu.python.tpu.keras_tpu_variables.ReplicatedVariable object at 0x7fca5e647cf8>, <tensorflow.contrib.tpu.python.tpu.keras_tpu_variables.ReplicatedVariable object at 0x7fca5e634be0>, <tensorflow.contrib.tpu.python.tpu.keras_tpu_variables.ReplicatedVariable object at 0x7fca5e581ef0>, <tensorflow.contrib.tpu.python.tpu.keras_tpu_variables.ReplicatedVariable object at 0x7fca5e54c240>, <tensorflow.contrib.tpu.python.tpu.keras_tpu_variables.ReplicatedVariable object at 0x7fca5e4bfe80>, <tensorflow.contrib.tpu.python.tpu.keras_tpu_variables.ReplicatedVariable object at 0x7fca5e4e2fd0>, <tensorflow.contrib.tpu.python.tpu.keras_tpu_variables.ReplicatedVariable object at 0x7fca5e4b0b70>, <tensorflow.contrib.tpu.python.tpu.keras_tpu_variables.ReplicatedVariable object at 0x7fca5e454ba8>]\n",
            "2018-12-05 02:06:11,449 73 140508486915968: KerasCrossShard: <tensorflow.python.keras.optimizers.SGD object at 0x7fca6551d748> [<tf.Variable 'tpu_140507309849568/SGD/iterations:0' shape=() dtype=int64>, <tensorflow.contrib.tpu.python.tpu.keras_tpu_variables.ReplicatedVariable object at 0x7fca5fb38eb8>, <tensorflow.contrib.tpu.python.tpu.keras_tpu_variables.ReplicatedVariable object at 0x7fca5faca3c8>, <tensorflow.contrib.tpu.python.tpu.keras_tpu_variables.ReplicatedVariable object at 0x7fca5faca518>, <tensorflow.contrib.tpu.python.tpu.keras_tpu_variables.ReplicatedVariable object at 0x7fca5facaeb8>, <tensorflow.contrib.tpu.python.tpu.keras_tpu_variables.ReplicatedVariable object at 0x7fca5faa8e10>, <tensorflow.contrib.tpu.python.tpu.keras_tpu_variables.ReplicatedVariable object at 0x7fca5fa71eb8>, <tensorflow.contrib.tpu.python.tpu.keras_tpu_variables.ReplicatedVariable object at 0x7fca5fa1cda0>, <tensorflow.contrib.tpu.python.tpu.keras_tpu_variables.ReplicatedVariable object at 0x7fca5f989f60>, <tensorflow.contrib.tpu.python.tpu.keras_tpu_variables.ReplicatedVariable object at 0x7fca5f979748>, <tensorflow.contrib.tpu.python.tpu.keras_tpu_variables.ReplicatedVariable object at 0x7fca5f91fda0>, <tensorflow.contrib.tpu.python.tpu.keras_tpu_variables.ReplicatedVariable object at 0x7fca5f8c3c88>, <tensorflow.contrib.tpu.python.tpu.keras_tpu_variables.ReplicatedVariable object at 0x7fca5f8b4f28>, <tensorflow.contrib.tpu.python.tpu.keras_tpu_variables.ReplicatedVariable object at 0x7fca5f801fd0>, <tensorflow.contrib.tpu.python.tpu.keras_tpu_variables.ReplicatedVariable object at 0x7fca5f828da0>, <tensorflow.contrib.tpu.python.tpu.keras_tpu_variables.ReplicatedVariable object at 0x7fca5f79dc50>, <tensorflow.contrib.tpu.python.tpu.keras_tpu_variables.ReplicatedVariable object at 0x7fca5f765cc0>, <tensorflow.contrib.tpu.python.tpu.keras_tpu_variables.ReplicatedVariable object at 0x7fca5f70ccf8>, <tensorflow.contrib.tpu.python.tpu.keras_tpu_variables.ReplicatedVariable object at 0x7fca5f6f9be0>, <tensorflow.contrib.tpu.python.tpu.keras_tpu_variables.ReplicatedVariable object at 0x7fca5f644f28>, <tensorflow.contrib.tpu.python.tpu.keras_tpu_variables.ReplicatedVariable object at 0x7fca5f60e240>, <tensorflow.contrib.tpu.python.tpu.keras_tpu_variables.ReplicatedVariable object at 0x7fca5f583e80>, <tensorflow.contrib.tpu.python.tpu.keras_tpu_variables.ReplicatedVariable object at 0x7fca5f5a7fd0>, <tensorflow.contrib.tpu.python.tpu.keras_tpu_variables.ReplicatedVariable object at 0x7fca5f571b70>, <tensorflow.contrib.tpu.python.tpu.keras_tpu_variables.ReplicatedVariable object at 0x7fca5f4e4f28>, <tensorflow.contrib.tpu.python.tpu.keras_tpu_variables.ReplicatedVariable object at 0x7fca5f488128>, <tensorflow.contrib.tpu.python.tpu.keras_tpu_variables.ReplicatedVariable object at 0x7fca5f457940>, <tensorflow.contrib.tpu.python.tpu.keras_tpu_variables.ReplicatedVariable object at 0x7fca5f3c3eb8>, <tensorflow.contrib.tpu.python.tpu.keras_tpu_variables.ReplicatedVariable object at 0x7fca5f3ead68>, <tensorflow.contrib.tpu.python.tpu.keras_tpu_variables.ReplicatedVariable object at 0x7fca5f3b5e80>, <tensorflow.contrib.tpu.python.tpu.keras_tpu_variables.ReplicatedVariable object at 0x7fca5f324c88>, <tensorflow.contrib.tpu.python.tpu.keras_tpu_variables.ReplicatedVariable object at 0x7fca5f2f3f28>, <tensorflow.contrib.tpu.python.tpu.keras_tpu_variables.ReplicatedVariable object at 0x7fca5f298c18>, <tensorflow.contrib.tpu.python.tpu.keras_tpu_variables.ReplicatedVariable object at 0x7fca5f204e10>, <tensorflow.contrib.tpu.python.tpu.keras_tpu_variables.ReplicatedVariable object at 0x7fca5f1f75c0>, <tensorflow.contrib.tpu.python.tpu.keras_tpu_variables.ReplicatedVariable object at 0x7fca5f19eef0>, <tensorflow.contrib.tpu.python.tpu.keras_tpu_variables.ReplicatedVariable object at 0x7fca5f142fd0>, <tensorflow.contrib.tpu.python.tpu.keras_tpu_variables.ReplicatedVariable object at 0x7fca5f130dd8>, <tensorflow.contrib.tpu.python.tpu.keras_tpu_variables.ReplicatedVariable object at 0x7fca5f0fdd68>, <tensorflow.contrib.tpu.python.tpu.keras_tpu_variables.ReplicatedVariable object at 0x7fca5f0a3c88>, <tensorflow.contrib.tpu.python.tpu.keras_tpu_variables.ReplicatedVariable object at 0x7fca5f017f28>, <tensorflow.contrib.tpu.python.tpu.keras_tpu_variables.ReplicatedVariable object at 0x7fca5efe1d30>, <tensorflow.contrib.tpu.python.tpu.keras_tpu_variables.ReplicatedVariable object at 0x7fca5ef85da0>, <tensorflow.contrib.tpu.python.tpu.keras_tpu_variables.ReplicatedVariable object at 0x7fca5ef77c50>, <tensorflow.contrib.tpu.python.tpu.keras_tpu_variables.ReplicatedVariable object at 0x7fca5eec4fd0>, <tensorflow.contrib.tpu.python.tpu.keras_tpu_variables.ReplicatedVariable object at 0x7fca5eeebcf8>, <tensorflow.contrib.tpu.python.tpu.keras_tpu_variables.ReplicatedVariable object at 0x7fca5ee59be0>, <tensorflow.contrib.tpu.python.tpu.keras_tpu_variables.ReplicatedVariable object at 0x7fca5ee21ef0>, <tensorflow.contrib.tpu.python.tpu.keras_tpu_variables.ReplicatedVariable object at 0x7fca5eded240>, <tensorflow.contrib.tpu.python.tpu.keras_tpu_variables.ReplicatedVariable object at 0x7fca5ed61e80>, <tensorflow.contrib.tpu.python.tpu.keras_tpu_variables.ReplicatedVariable object at 0x7fca5ed05fd0>, <tensorflow.contrib.tpu.python.tpu.keras_tpu_variables.ReplicatedVariable object at 0x7fca5eccfb70>, <tensorflow.contrib.tpu.python.tpu.keras_tpu_variables.ReplicatedVariable object at 0x7fca5ec40f28>, <tensorflow.contrib.tpu.python.tpu.keras_tpu_variables.ReplicatedVariable object at 0x7fca5ec68128>, <tensorflow.contrib.tpu.python.tpu.keras_tpu_variables.ReplicatedVariable object at 0x7fca5ec33940>, <tensorflow.contrib.tpu.python.tpu.keras_tpu_variables.ReplicatedVariable object at 0x7fca5eba2eb8>, <tensorflow.contrib.tpu.python.tpu.keras_tpu_variables.ReplicatedVariable object at 0x7fca5eb46d68>, <tensorflow.contrib.tpu.python.tpu.keras_tpu_variables.ReplicatedVariable object at 0x7fca5eb14e80>, <tensorflow.contrib.tpu.python.tpu.keras_tpu_variables.ReplicatedVariable object at 0x7fca5ea82c88>, <tensorflow.contrib.tpu.python.tpu.keras_tpu_variables.ReplicatedVariable object at 0x7fca5ea74240>, <tensorflow.contrib.tpu.python.tpu.keras_tpu_variables.ReplicatedVariable object at 0x7fca5ea19f28>, <tensorflow.contrib.tpu.python.tpu.keras_tpu_variables.ReplicatedVariable object at 0x7fca5e9c2e48>, <tensorflow.contrib.tpu.python.tpu.keras_tpu_variables.ReplicatedVariable object at 0x7fca5e9b1d30>, <tensorflow.contrib.tpu.python.tpu.keras_tpu_variables.ReplicatedVariable object at 0x7fca5e97eef0>, <tensorflow.contrib.tpu.python.tpu.keras_tpu_variables.ReplicatedVariable object at 0x7fca5e923f98>, <tensorflow.contrib.tpu.python.tpu.keras_tpu_variables.ReplicatedVariable object at 0x7fca5e890dd8>, <tensorflow.contrib.tpu.python.tpu.keras_tpu_variables.ReplicatedVariable object at 0x7fca5e85cd68>, <tensorflow.contrib.tpu.python.tpu.keras_tpu_variables.ReplicatedVariable object at 0x7fca5e802c88>, <tensorflow.contrib.tpu.python.tpu.keras_tpu_variables.ReplicatedVariable object at 0x7fca5e7f3f28>, <tensorflow.contrib.tpu.python.tpu.keras_tpu_variables.ReplicatedVariable object at 0x7fca5e740d30>, <tensorflow.contrib.tpu.python.tpu.keras_tpu_variables.ReplicatedVariable object at 0x7fca5e762da0>, <tensorflow.contrib.tpu.python.tpu.keras_tpu_variables.ReplicatedVariable object at 0x7fca5e6d7c50>, <tensorflow.contrib.tpu.python.tpu.keras_tpu_variables.ReplicatedVariable object at 0x7fca5e6a2fd0>, <tensorflow.contrib.tpu.python.tpu.keras_tpu_variables.ReplicatedVariable object at 0x7fca5e647cf8>, <tensorflow.contrib.tpu.python.tpu.keras_tpu_variables.ReplicatedVariable object at 0x7fca5e634be0>, <tensorflow.contrib.tpu.python.tpu.keras_tpu_variables.ReplicatedVariable object at 0x7fca5e581ef0>, <tensorflow.contrib.tpu.python.tpu.keras_tpu_variables.ReplicatedVariable object at 0x7fca5e54c240>, <tensorflow.contrib.tpu.python.tpu.keras_tpu_variables.ReplicatedVariable object at 0x7fca5e4bfe80>, <tensorflow.contrib.tpu.python.tpu.keras_tpu_variables.ReplicatedVariable object at 0x7fca5e4e2fd0>, <tensorflow.contrib.tpu.python.tpu.keras_tpu_variables.ReplicatedVariable object at 0x7fca5e4b0b70>, <tensorflow.contrib.tpu.python.tpu.keras_tpu_variables.ReplicatedVariable object at 0x7fca5e454ba8>]\n",
            "INFO:tensorflow:Started compiling\n",
            "2018-12-05 02:06:16,956 73 140508486915968: Started compiling\n",
            "INFO:tensorflow:Finished compiling. Time elapsed: 28.75658941268921 secs\n",
            "2018-12-05 02:06:45,719 73 140508486915968: Finished compiling. Time elapsed: 28.75658941268921 secs\n",
            "389/390 [============================>.] - ETA: 0s - loss: 0.2023 - acc: 0.9885INFO:tensorflow:New input shapes; (re-)compiling: mode=eval (# of cores 8), [TensorSpec(shape=(16,), dtype=tf.int32, name='core_id_10'), TensorSpec(shape=(16, 32, 32, 3), dtype=tf.float32, name='input_1_10'), TensorSpec(shape=(16, 10), dtype=tf.float32, name='dense_target_30')]\n",
            "2018-12-05 02:06:59,155 73 140508486915968: New input shapes; (re-)compiling: mode=eval (# of cores 8), [TensorSpec(shape=(16,), dtype=tf.int32, name='core_id_10'), TensorSpec(shape=(16, 32, 32, 3), dtype=tf.float32, name='input_1_10'), TensorSpec(shape=(16, 10), dtype=tf.float32, name='dense_target_30')]\n",
            "INFO:tensorflow:Overriding default placeholder.\n",
            "2018-12-05 02:06:59,196 73 140508486915968: Overriding default placeholder.\n",
            "INFO:tensorflow:Cloning SGD {'lr': 0.0007999999797903001, 'momentum': 0.8999999761581421, 'decay': 0.0, 'nesterov': False}\n",
            "2018-12-05 02:07:01,175 73 140508486915968: Cloning SGD {'lr': 0.0007999999797903001, 'momentum': 0.8999999761581421, 'decay': 0.0, 'nesterov': False}\n",
            "INFO:tensorflow:Remapping placeholder for input_1\n",
            "2018-12-05 02:07:01,204 73 140508486915968: Remapping placeholder for input_1\n",
            "INFO:tensorflow:KerasCrossShard: <tensorflow.python.keras.optimizers.SGD object at 0x7fca57627c88> []\n",
            "2018-12-05 02:07:02,126 73 140508486915968: KerasCrossShard: <tensorflow.python.keras.optimizers.SGD object at 0x7fca57627c88> []\n",
            "INFO:tensorflow:Started compiling\n",
            "2018-12-05 02:07:02,454 73 140508486915968: Started compiling\n",
            "INFO:tensorflow:Finished compiling. Time elapsed: 12.421218633651733 secs\n",
            "2018-12-05 02:07:14,877 73 140508486915968: Finished compiling. Time elapsed: 12.421218633651733 secs\n",
            "Saving jonathan_0210\n",
            "INFO:tensorflow:Copying TPU weights to the CPU\n",
            "2018-12-05 02:07:18,694 73 140508486915968: Copying TPU weights to the CPU\n",
            "INFO:tensorflow:TPU -> CPU lr: 0.0007999999797903001\n",
            "2018-12-05 02:07:22,667 73 140508486915968: TPU -> CPU lr: 0.0007999999797903001\n",
            "INFO:tensorflow:TPU -> CPU momentum: 0.8999999761581421\n",
            "2018-12-05 02:07:25,067 73 140508486915968: TPU -> CPU momentum: 0.8999999761581421\n",
            "INFO:tensorflow:TPU -> CPU decay: 0.0\n",
            "2018-12-05 02:07:27,375 73 140508486915968: TPU -> CPU decay: 0.0\n",
            "INFO:tensorflow:TPU -> CPU nesterov: False\n",
            "2018-12-05 02:07:29,728 73 140508486915968: TPU -> CPU nesterov: False\n",
            "WARNING:tensorflow:Cannot update non-variable config: nesterov\n",
            "2018-12-05 02:07:29,734 73 140508486915968: Cannot update non-variable config: nesterov\n",
            "Uploading to GDriveItem(name='Colab Notebooks', fid='1j8jxRjh63biSP-w9NSgp3pinbnviuhR7')\n",
            "2018-12-05 02:07:47,069 73 140508486915968: URL being requested: POST https://www.googleapis.com/upload/drive/v3/files?fields=id&alt=json&uploadType=resumable\n",
            "390/390 [==============================] - 219s 561ms/step - loss: 0.2022 - acc: 0.9885 - val_loss: 0.3028 - val_acc: 0.9676\n",
            "Epoch 212/300\n",
            "390/390 [==============================] - 75s 193ms/step - loss: 0.2021 - acc: 0.9884 - val_loss: 0.3115 - val_acc: 0.9655\n",
            "Epoch 213/300\n",
            "390/390 [==============================] - 74s 190ms/step - loss: 0.2042 - acc: 0.9873 - val_loss: 0.2914 - val_acc: 0.9700\n",
            "Epoch 214/300\n",
            "390/390 [==============================] - 73s 188ms/step - loss: 0.2000 - acc: 0.9882 - val_loss: 0.2941 - val_acc: 0.9684\n",
            "Epoch 215/300\n",
            "390/390 [==============================] - 73s 188ms/step - loss: 0.2009 - acc: 0.9876 - val_loss: 0.2879 - val_acc: 0.9686\n",
            "Epoch 216/300\n",
            "390/390 [==============================] - 74s 189ms/step - loss: 0.2012 - acc: 0.9876 - val_loss: 0.2955 - val_acc: 0.9680\n",
            "Epoch 217/300\n",
            "390/390 [==============================] - 73s 188ms/step - loss: 0.1982 - acc: 0.9882 - val_loss: 0.2920 - val_acc: 0.9668\n",
            "Epoch 218/300\n",
            "390/390 [==============================] - 73s 187ms/step - loss: 0.2017 - acc: 0.9864 - val_loss: 0.2868 - val_acc: 0.9688\n",
            "Epoch 219/300\n",
            "390/390 [==============================] - 73s 187ms/step - loss: 0.1955 - acc: 0.9890 - val_loss: 0.2890 - val_acc: 0.9684\n",
            "Epoch 220/300\n",
            "390/390 [==============================] - 73s 187ms/step - loss: 0.1961 - acc: 0.9878 - val_loss: 0.2938 - val_acc: 0.9679\n",
            "Epoch 221/300\n",
            "389/390 [============================>.] - ETA: 0s - loss: 0.1957 - acc: 0.98762018-12-05 02:20:11,614 73 140508486915968: URL being requested: GET https://www.googleapis.com/drive/v3/files?q=name+contains+%22jonathan_0210%22&alt=json\n",
            "Removing old cloud file jonathan_0210\n",
            "2018-12-05 02:20:12,047 73 140508486915968: URL being requested: DELETE https://www.googleapis.com/drive/v3/files/1XaCbFyVvOxT7AJENZlxMg3ODfJoet-TU?\n",
            "Saving jonathan_0220\n",
            "INFO:tensorflow:Copying TPU weights to the CPU\n",
            "2018-12-05 02:20:12,792 73 140508486915968: Copying TPU weights to the CPU\n",
            "INFO:tensorflow:TPU -> CPU lr: 0.0007999999797903001\n",
            "2018-12-05 02:20:16,622 73 140508486915968: TPU -> CPU lr: 0.0007999999797903001\n",
            "INFO:tensorflow:TPU -> CPU momentum: 0.8999999761581421\n",
            "2018-12-05 02:20:18,937 73 140508486915968: TPU -> CPU momentum: 0.8999999761581421\n",
            "INFO:tensorflow:TPU -> CPU decay: 0.0\n",
            "2018-12-05 02:20:21,388 73 140508486915968: TPU -> CPU decay: 0.0\n",
            "INFO:tensorflow:TPU -> CPU nesterov: False\n",
            "2018-12-05 02:20:23,829 73 140508486915968: TPU -> CPU nesterov: False\n",
            "WARNING:tensorflow:Cannot update non-variable config: nesterov\n",
            "2018-12-05 02:20:23,831 73 140508486915968: Cannot update non-variable config: nesterov\n",
            "Uploading to GDriveItem(name='Colab Notebooks', fid='1j8jxRjh63biSP-w9NSgp3pinbnviuhR7')\n",
            "2018-12-05 02:20:24,539 73 140508486915968: URL being requested: POST https://www.googleapis.com/upload/drive/v3/files?fields=id&alt=json&uploadType=resumable\n",
            "390/390 [==============================] - 92s 236ms/step - loss: 0.1957 - acc: 0.9877 - val_loss: 0.2882 - val_acc: 0.9677\n",
            "Epoch 222/300\n",
            "390/390 [==============================] - 73s 187ms/step - loss: 0.1952 - acc: 0.9880 - val_loss: 0.2895 - val_acc: 0.9665\n",
            "Epoch 223/300\n",
            "390/390 [==============================] - 73s 187ms/step - loss: 0.1937 - acc: 0.9880 - val_loss: 0.2937 - val_acc: 0.9665\n",
            "Epoch 224/300\n",
            "390/390 [==============================] - 73s 186ms/step - loss: 0.1955 - acc: 0.9873 - val_loss: 0.2957 - val_acc: 0.9666\n",
            "Epoch 225/300\n",
            "231/390 [================>.............] - ETA: 28s - loss: 0.1923 - acc: 0.9877"
          ],
          "name": "stdout"
        }
      ]
    },
    {
      "metadata": {
        "id": "hCxz3qkRv8Qk",
        "colab_type": "code",
        "colab": {}
      },
      "cell_type": "code",
      "source": [
        "plt.plot(results.history['val_acc'])\n",
        "plt.title('model accuracy')\n",
        "plt.ylabel('accuracy')\n",
        "plt.xlabel('epoch')\n",
        "plt.legend(['train', 'test'], loc='upper left')\n",
        "plt.show()\n",
        "\n",
        "plt.plot(results.history['loss'])\n",
        "plt.plot(results.history['val_loss'])\n",
        "plt.title('model loss')\n",
        "plt.ylabel('loss')\n",
        "plt.xlabel('epoch')\n",
        "plt.legend(['train', 'test'], loc='upper left')\n",
        "plt.show()"
      ],
      "execution_count": 0,
      "outputs": []
    },
    {
      "metadata": {
        "id": "eSrIbTe1x9jF",
        "colab_type": "code",
        "colab": {}
      },
      "cell_type": "code",
      "source": [
        "\n",
        "cifar101_data = np.load('CIFAR-10.1/datasets/cifar10.1_v6_data.npy')\n",
        "cifar101_labels = np.load('CIFAR-10.1/datasets/cifar10.1_v6_labels.npy')\n",
        "cifar101_set_size = len(cifar101_labels)\n",
        "  \n",
        "y_test = tf.keras.utils.to_categorical(cifar101_labels)\n",
        "x_test = cifar101_data / 255"
      ],
      "execution_count": 0,
      "outputs": []
    },
    {
      "metadata": {
        "id": "_Kylh1aKuWtb",
        "colab_type": "code",
        "colab": {}
      },
      "cell_type": "code",
      "source": [
        "train_generator = train_data.flow(x_train, y_train, batch_size=batch_size)\n",
        "validation_generator = validation_data.flow(x_validation, y_validation, batch_size=batch_size)\n",
        "test_generator = test_data.flow(x_test, y_test, batch_size=batch_size)\n",
        "\n",
        "loss, acc = model.evaluate_generator(train_generator)\n",
        "logger.info(\"Train: Loss={}, acc={}\".format(loss, acc))\n",
        "\n",
        "loss, acc = model.evaluate_generator(validation_generator)\n",
        "logger.info(\"Validation: Loss={}, acc={}\".format(loss, acc))\n",
        "\n",
        "loss, acc = model.evaluate_generator(test_generator)\n",
        "logger.info(\"Test: Loss={}, acc={}\".format(loss, acc))"
      ],
      "execution_count": 0,
      "outputs": []
    },
    {
      "metadata": {
        "id": "QcZOvhvpwQLj",
        "colab_type": "code",
        "colab": {}
      },
      "cell_type": "code",
      "source": [
        "test_set_size = x_test.shape[0]\n",
        "idx = np.random.randint(test_set_size)\n",
        "# idx = 1113\n",
        "label = CLASS_LABELS[y_test[idx, :].astype(bool)]\n",
        "tit = \"{}: {}\".format(idx, label)\n",
        "plt.figure(figsize=(3,4))\n",
        "plt.imshow(x_test[idx, :, :, :])\n",
        "plt.title(tit)"
      ],
      "execution_count": 0,
      "outputs": []
    },
    {
      "metadata": {
        "id": "4VBIZMUaMzpU",
        "colab_type": "code",
        "colab": {}
      },
      "cell_type": "code",
      "source": [
        "predictions = model.predict(x=x_test)"
      ],
      "execution_count": 0,
      "outputs": []
    },
    {
      "metadata": {
        "id": "-jk07ETIOW3X",
        "colab_type": "code",
        "colab": {}
      },
      "cell_type": "code",
      "source": [
        "from collections import Counter\n",
        "_ = np.argmax(predictions, axis=1)\n",
        "Counter(_)\n",
        "Counter(cifar101_labels)"
      ],
      "execution_count": 0,
      "outputs": []
    },
    {
      "metadata": {
        "id": "We2C1GXUWeVP",
        "colab_type": "code",
        "colab": {}
      },
      "cell_type": "code",
      "source": [
        "checkpoint_dir \n",
        "latest = tf.train.latest_checkpoint(checkpoint_dir)\n",
        "print(latest)\n",
        "!ls -ltra $checkpoint_dir"
      ],
      "execution_count": 0,
      "outputs": []
    },
    {
      "metadata": {
        "id": "r5vBJMBC5HUR",
        "colab_type": "code",
        "colab": {}
      },
      "cell_type": "code",
      "source": [
        "# with open('./results/history.pickle', 'wb') as f:\n",
        "#     pickle.dump(results.history, f)\n",
        "\n",
        "# save_model(model, './results/model.h5')\n",
        "# del model"
      ],
      "execution_count": 0,
      "outputs": []
    }
  ]
}