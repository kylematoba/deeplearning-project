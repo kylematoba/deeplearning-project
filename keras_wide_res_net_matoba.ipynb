{
  "nbformat": 4,
  "nbformat_minor": 0,
  "metadata": {
    "colab": {
      "name": "keras_wide_res_net_matoba.ipynb",
      "version": "0.3.2",
      "provenance": [],
      "collapsed_sections": [],
      "include_colab_link": true
    },
    "kernelspec": {
      "name": "python3",
      "display_name": "Python 3"
    },
    "accelerator": "TPU"
  },
  "cells": [
    {
      "cell_type": "markdown",
      "metadata": {
        "id": "view-in-github",
        "colab_type": "text"
      },
      "source": [
        "<a href=\"https://colab.research.google.com/github/kylematoba/deeplearning-project/blob/master/keras_wide_res_net_matoba.ipynb\" target=\"_parent\"><img src=\"https://colab.research.google.com/assets/colab-badge.svg\" alt=\"Open In Colab\"/></a>"
      ]
    },
    {
      "metadata": {
        "id": "fr2z4dXiyJfj",
        "colab_type": "code",
        "outputId": "8320e552-2621-478b-ec6b-70c3f6462288",
        "colab": {
          "base_uri": "https://localhost:8080/",
          "height": 34
        }
      },
      "cell_type": "code",
      "source": [
        "# A heavily modified version of https://github.com/tail-island/try-wide-residual-net\n",
        "!pip3 install funcy\n",
        "# !pip3 install tqdm\n",
        "# !pip3 install tensorboard\n",
        "# !pip3 install npm\n",
        "# !pip3 install tensorboardcolab\n",
        "\n",
        "# !pip3 install pydot\n",
        "# !pip3 install pydot_ng\n",
        "# !pip3 install pydotplus\n",
        "# !pip3 install graphviz"
      ],
      "execution_count": 36,
      "outputs": [
        {
          "output_type": "stream",
          "text": [
            "Requirement already satisfied: funcy in /usr/local/lib/python3.6/dist-packages (1.11)\n"
          ],
          "name": "stdout"
        }
      ]
    },
    {
      "metadata": {
        "colab_type": "code",
        "id": "q2xKxjcmIIx5",
        "colab": {}
      },
      "cell_type": "code",
      "source": [
        "# !ls\n",
        "# from tensorboardcolab import *\n",
        "# tbc = TensorBoardColab()\n",
        "# tbc = TensorBoardColab(startup_waiting_time=8)"
      ],
      "execution_count": 0,
      "outputs": []
    },
    {
      "metadata": {
        "id": "_MvMJmyKEekN",
        "colab_type": "code",
        "colab": {}
      },
      "cell_type": "code",
      "source": [
        "import os\n",
        "import sys\n",
        "import shutil\n",
        "import pickle\n",
        "import copy\n",
        "import functools\n",
        "import logging\n",
        "\n",
        "from typing import Any, Callable, List, Tuple, Union\n",
        "from operator import getitem, attrgetter\n",
        "from collections import namedtuple\n",
        "\n",
        "import matplotlib.pyplot as plt\n",
        "import numpy as np\n",
        "import tensorflow as tf\n",
        "\n",
        "from PIL import ImageOps\n",
        "from PIL import ImageEnhance\n",
        "from PIL import ImageFilter\n",
        "from PIL import Image\n",
        "\n",
        "from tensorflow.keras.callbacks import LearningRateScheduler\n",
        "from tensorflow.keras.layers import Activation, Add, BatchNormalization, Conv2D, Dense, GlobalAveragePooling2D, Input, Layer\n",
        "from tensorflow.keras.models import Model, save_model, load_model\n",
        "from tensorflow.keras.optimizers import SGD\n",
        "from tensorflow.keras.preprocessing.image import ImageDataGenerator\n",
        "from tensorflow.keras.regularizers import l2\n",
        "# from tensorflow.keras.utils import plot_model\n",
        "\n",
        "# from tqdm import tqdm\n",
        "from funcy import concat, identity, juxt, partial, rcompose, repeat, repeatedly, take\n",
        "\n",
        "# from google.colab import drive\n",
        "# import google.colab\n",
        "# import google.appengine\n",
        "from google.colab import auth\n",
        "from googleapiclient.discovery import build\n",
        "from googleapiclient.http import MediaFileUpload, MediaIoBaseDownload"
      ],
      "execution_count": 0,
      "outputs": []
    },
    {
      "metadata": {
        "id": "hnbyYOOQH4po",
        "colab_type": "code",
        "outputId": "c7f2c8db-a772-43fe-d059-8f004d8b318d",
        "colab": {
          "base_uri": "https://localhost:8080/",
          "height": 121
        }
      },
      "cell_type": "code",
      "source": [
        "FORMAT = \"%(asctime)s %(process)s %(thread)s: %(message)s\"\n",
        "logging.basicConfig(level=logging.DEBUG, format=FORMAT, stream=sys.stdout)\n",
        "logger = logging.getLogger(__name__)\n",
        "\n",
        "environ_dict = dict(os.environ)\n",
        "use_tpu = 'COLAB_TPU_ADDR' in environ_dict.keys()\n",
        "\n",
        "logger.info(sys.version)\n",
        "logger.info(\"{}\".format(\"Running in ipython\" if 'ipykernel' in sys.modules else \"\"))\n",
        "logger.info(\"Numpy version {}\".format(np.__version__))\n",
        "logger.info(\"TensorFlow version {}\".format(tf.__version__))\n",
        "# logger.info(\"Keras version {}\".format(keras.__version__))\n",
        "if use_tpu:\n",
        "    logger.info(\"Running on TPU\")"
      ],
      "execution_count": 39,
      "outputs": [
        {
          "output_type": "stream",
          "text": [
            "2018-12-04 15:12:21,403 225 139984283502464: 3.6.7 (default, Oct 22 2018, 11:32:17) \n",
            "[GCC 8.2.0]\n",
            "2018-12-04 15:12:21,405 225 139984283502464: Running in ipython\n",
            "2018-12-04 15:12:21,406 225 139984283502464: Numpy version 1.14.6\n",
            "2018-12-04 15:12:21,408 225 139984283502464: TensorFlow version 1.12.0\n",
            "2018-12-04 15:12:21,409 225 139984283502464: Running on TPU\n"
          ],
          "name": "stdout"
        }
      ]
    },
    {
      "metadata": {
        "id": "V6DGhtaGbv5n",
        "colab_type": "code",
        "colab": {}
      },
      "cell_type": "code",
      "source": [
        "np.random.seed(0)"
      ],
      "execution_count": 0,
      "outputs": []
    },
    {
      "metadata": {
        "id": "lzcguFhGyByy",
        "colab_type": "code",
        "colab": {}
      },
      "cell_type": "code",
      "source": [
        "def download_data() -> None:\n",
        "    url = 'http://www.cs.toronto.edu/~kriz/cifar-10-python.tar.gz'\n",
        "    shutil.copytree(tf.keras.utils.get_file('cifar-10-batches-py', origin=url, untar=True), './data')\n",
        "\n",
        "    \n",
        "def load_batch(batch_path: str) -> Tuple[np.ndarray, np.ndarray]:\n",
        "    with open(batch_path, 'rb') as f:\n",
        "        batch = pickle.load(f, encoding='bytes')\n",
        "    data_np = np.array(batch[b'data'])\n",
        "    labels_np = np.array(batch[b'labels'])\n",
        "    batch_data = data_np.reshape(data_np.shape[0], 3, 32, 32).transpose(0, 2, 3, 1) / 255\n",
        "    batch_labels = tf.keras.utils.to_categorical(labels_np)\n",
        "    return (batch_data, batch_labels)\n",
        "\n",
        "\n",
        "def load_batches(paths: List[str]):\n",
        "    return tuple(map(np.concatenate, zip(*map(load_batch, paths))))\n",
        "\n",
        "\n",
        "def load_data(data_path='./data') -> Tuple[np.ndarray, np.ndarray]:\n",
        "    if not os.path.exists('./data'):\n",
        "        download_data()\n",
        "    paths = sorted(map(attrgetter('path'), filter(lambda directory_entry: directory_entry.name.startswith('data_batch_'), os.scandir(data_path))))\n",
        "    xy_train = load_batches(paths)\n",
        "    xy_validation = load_batch('{0}/test_batch'.format(data_path))\n",
        "    return (xy_train, xy_validation)"
      ],
      "execution_count": 0,
      "outputs": []
    },
    {
      "metadata": {
        "id": "QwfLMkmHx2iO",
        "colab_type": "code",
        "colab": {}
      },
      "cell_type": "code",
      "source": [
        "def computational_graph(class_size):\n",
        "    def ljuxt(*fs):\n",
        "        return rcompose(juxt(*fs), list)\n",
        "\n",
        "    def batch_normalization():\n",
        "        return BatchNormalization()\n",
        "\n",
        "    def relu() -> tf.keras.layers.Activation:\n",
        "        return Activation('relu')\n",
        "\n",
        "    def conv(filter_size: int, kernel_size: int, stride_size: int=1) -> Layer:\n",
        "        return Conv2D(filter_size, kernel_size, strides=stride_size, padding='same', kernel_initializer='he_normal', kernel_regularizer=l2(0.0005), use_bias=False)\n",
        "\n",
        "    def add():\n",
        "        return Add()\n",
        "\n",
        "    def global_average_pooling():\n",
        "        return GlobalAveragePooling2D()\n",
        "\n",
        "    def dense(units: int, activation: str) -> Layer:\n",
        "        return Dense(units, activation=activation, kernel_regularizer=l2(0.0005))\n",
        "\n",
        "    # Define WRN-28-10.\n",
        "    def first_residual_unit(filter_size: int, stride_size: int):\n",
        "        return rcompose(batch_normalization(),\n",
        "                        relu(),\n",
        "                        ljuxt(rcompose(conv(filter_size, 3, stride_size),\n",
        "                                       batch_normalization(),\n",
        "                                       relu(),\n",
        "                                       conv(filter_size, 3, 1)),\n",
        "                              rcompose(conv(filter_size, 1, stride_size))),\n",
        "                        add())\n",
        "\n",
        "    def residual_unit(filter_size):\n",
        "        return rcompose(ljuxt(rcompose(batch_normalization(),\n",
        "                                       relu(),\n",
        "                                       conv(filter_size, 3),\n",
        "                                       batch_normalization(),\n",
        "                                       relu(),\n",
        "                                       conv(filter_size, 3)),\n",
        "                              identity),\n",
        "                        add())\n",
        "\n",
        "    def residual_block(filter_size, stride_size, unit_size):\n",
        "        return rcompose(first_residual_unit(filter_size, stride_size),\n",
        "                        rcompose(*repeatedly(partial(residual_unit, filter_size), unit_size - 1)))\n",
        "\n",
        "    k = 10\n",
        "    n =  4\n",
        "    return rcompose(conv(16, 3),\n",
        "                    residual_block(16 * k, 1, n),\n",
        "                    residual_block(32 * k, 2, n),\n",
        "                    residual_block(64 * k, 2, n),\n",
        "                    batch_normalization(),\n",
        "                    relu(),\n",
        "                    global_average_pooling(),\n",
        "                    dense(class_size, 'softmax'))"
      ],
      "execution_count": 0,
      "outputs": []
    },
    {
      "metadata": {
        "id": "aAKWy_dh1qf5",
        "colab_type": "code",
        "colab": {}
      },
      "cell_type": "code",
      "source": [
        "\n",
        "(x_train, y_train), (x_validation, y_validation) = load_data()\n",
        "# print(x_train.shape)\n",
        "# print(x_validation.shape)"
      ],
      "execution_count": 0,
      "outputs": []
    },
    {
      "metadata": {
        "id": "HVHi7FwKhYts",
        "colab_type": "code",
        "colab": {}
      },
      "cell_type": "code",
      "source": [
        "# Represents a Folder or File in your Google Drive\n",
        "GDriveItem = namedtuple('GDriveItem', ['name', 'fid'])\n",
        "\n",
        "# Represents Epoch information as returned from keras\n",
        "EpochData = namedtuple('EpochData', ['epoch', 'losses'])\n",
        "\n",
        "\n",
        "class GDriveSync:\n",
        "    \"\"\"\n",
        "    Simple up/downloading functionality to move local files into the cloud and vice versa.\n",
        "    Provides progress bars for both up- and download.\n",
        "    \"\"\"\n",
        "    def __init__(self):\n",
        "        auth.authenticate_user()  # prompt the user to access his Google Drive via the API\n",
        "        self.drive_service = build('drive', 'v3')\n",
        "        self.default_folder = self.find_items('Colab Notebooks')[0]\n",
        "\n",
        "    def find_items(self, name: str) -> List[str]:\n",
        "        \"\"\"\n",
        "        Find folders or files based on their name. This always searches the full Google Drive tree!\n",
        "        :param name: Term to be searched. All files containing this search term are returned.\n",
        "        \"\"\"\n",
        "        folder_list = self.drive_service.files().list(q='name contains \"%s\"' % name).execute()\n",
        "        folders = []\n",
        "        for folder in folder_list['files']:\n",
        "            folders.append(GDriveItem(folder['name'], folder['id']))\n",
        "        return folders\n",
        "\n",
        "    def upload_file_to_folder(self, local_file: str, folder=None) -> None:\n",
        "        \"\"\"\n",
        "        Upload a local file, optionally to a specific folder in Google Drive\n",
        "        :param local_file: Path to the local file\n",
        "        :param folder: (Option) GDriveItem which should be the parent.\n",
        "        \"\"\"\n",
        "        if folder is not None:\n",
        "            assert type(folder) == GDriveItem\t\n",
        "\n",
        "        file_metadata = {\n",
        "            'title': local_file,\n",
        "            'name': local_file\n",
        "        }\n",
        "\n",
        "        if folder is not None:\n",
        "            file_metadata['parents'] = [folder.fid]\n",
        "\n",
        "        media = MediaFileUpload(local_file, resumable=True)\n",
        "        created = self.drive_service.files().create(body=file_metadata,\n",
        "                                                    media_body=media,\n",
        "                                                    fields='id')\n",
        "        if folder is not None:\n",
        "            d = 'Uploading file %s to folder %s' % (local_file, folder.name)\n",
        "        else:\n",
        "            d = 'Uploading file %s' % local_file\n",
        "\n",
        "        response = None\n",
        "        while response is None:\n",
        "            status, response = created.next_chunk()\n",
        "                \n",
        "    def download_file_to_folder(self, \n",
        "                                remote_file: GDriveItem, \n",
        "                                path: str) -> None:\n",
        "        assert type(remote_file) == GDriveItem\n",
        "        request = self.drive_service.files().get_media(fileId=remote_file.fid)\n",
        "\n",
        "        with open(path, 'wb') as fh:\n",
        "            downloader = MediaIoBaseDownload(fh, request)\n",
        "            done = False\n",
        "            while done is False:\n",
        "                status, done = downloader.next_chunk()\n",
        "\n",
        "    def delete_file(self, file: GDriveItem) -> None:\n",
        "        assert type(file) == GDriveItem\n",
        "        request = self.drive_service.files().delete(fileId=file.fid)\n",
        "        request.execute()\n",
        "\n",
        "\n",
        "class GDriveCheckpointer(tf.keras.callbacks.Callback):\n",
        "    \"\"\"\n",
        "    Keras Callback that automatically saves models into your Google Drive.\n",
        "    Outdated checkpoints are automatically deleted remotely to prevent GDrive from filling up.\n",
        "    Checkpointing is controlled by two functions:\n",
        "        compare_fn(best_epoch: EpochData, current_epoch: EpochData) -> bool\n",
        "        - If this function returns true, the current_epoch is assumed to have better performance than the older best_epoch.\n",
        "        - e.g. return best_epoch.losses['val_acc'] < current_epoch.losses['val_acc']\n",
        "        filepath_fn(epoch: EpochData) -> Union[String, None]\n",
        "        - If this function returns None, the checkpoint is skipped. This can be used to skip backing up early epochs.\n",
        "          If it returns a String path, the model is uploaded into the default GDrive folder with the given file name.\n",
        "    \"\"\"\n",
        "    def __init__(self, \n",
        "                 compare_fn: Callable, \n",
        "                 filepath_fn: Callable, \n",
        "                 save_optimizer=False):\n",
        "        assert compare_fn is not None, 'Need a compare function which gets all the losses and evaluation data of two epochs and which needs to return True if the second one is better.'\n",
        "        assert filepath_fn is not None, 'Need a function that derives a file path based on a dictionary of losses and metrics.'\n",
        "\n",
        "        restart_from_backup = False\n",
        "        super(GDriveCheckpointer, self).__init__()\n",
        "        self.saver = GDriveSync()\n",
        "        self.compare_fn = compare_fn\n",
        "        self.filepath_fn = filepath_fn\n",
        "        self.best_epoch = None\n",
        "        self.best_filename = None\n",
        "        self.save_optimizer = save_optimizer\n",
        "\n",
        "    def on_epoch_end(self, epoch: int, logs={}):\n",
        "        losses = dict(logs)\n",
        "        epoch_data = EpochData(epoch, losses)\n",
        "        if self.best_epoch is None or self.compare_fn(self.best_epoch, epoch_data):\n",
        "            self.best_epoch = copy.deepcopy(epoch_data)\n",
        "            fn = self.filepath_fn(epoch_data)\n",
        "            if fn is not None and fn:\n",
        "                if self.best_filename:\n",
        "                    os.remove(self.best_filename)\n",
        "                    all_found = self.saver.find_items(self.best_filename)\n",
        "                    old_file = all_found[0]\n",
        "                    print('Removing old cloud file %s' % old_file.name)\n",
        "                    self.saver.delete_file(old_file)\n",
        "                self.best_filename = fn\n",
        "                self._save_checkpoint()\n",
        "            else:\n",
        "                print('Skipping upload because path function returned no path.')\n",
        "        else:\n",
        "            pass\n",
        "\n",
        "    def _save_checkpoint(self):\n",
        "        print('Saving {}'.format(self.best_filename))\n",
        "        # self.model.save(self.best_filename, include_optimizer=self.save_optimizer)\n",
        "        self.model.save(self.best_filename)\n",
        "        print('Uploading to {}'.format(self.saver.default_folder))\n",
        "        self.saver.upload_file_to_folder(self.best_filename, self.saver.default_folder)\n",
        "        "
      ],
      "execution_count": 0,
      "outputs": []
    },
    {
      "metadata": {
        "id": "hfTNTdhRng3r",
        "colab_type": "code",
        "colab": {}
      },
      "cell_type": "code",
      "source": [
        "def filepath_fn_unbound(filebase: str, \n",
        "                        x: EpochData) -> Union[str, None]:\n",
        "    # return 'VGG16_%s.h5' % new.losses['val_acc']\n",
        "    # filepath = str(epoch)\n",
        "    filepath = '{}_{:04d}'.format(filebase, x.epoch)\n",
        "    return filepath\n",
        "  \n",
        "\n",
        "def compare_fn(best_epoch: EpochData, \n",
        "               current_epoch: EpochData) -> bool:\n",
        "    save_every = 10\n",
        "    save = 0 == current_epoch.epoch % save_every\n",
        "    return save\n",
        "  \n",
        "  \n",
        "# filebase = 'wide_res_net'\n",
        "filebase = 'autoaugment'\n",
        "filepath_fn = lambda x: filepath_fn_unbound(filebase, x)"
      ],
      "execution_count": 0,
      "outputs": []
    },
    {
      "metadata": {
        "id": "wLizRtbkgRVL",
        "colab_type": "code",
        "outputId": "4b04c9d8-b224-4668-db61-a76f2dd468c7",
        "colab": {
          "base_uri": "https://localhost:8080/",
          "height": 645
        }
      },
      "cell_type": "code",
      "source": [
        "# this one prompts for authorisation\n",
        "gdcp = GDriveCheckpointer(compare_fn, filepath_fn)\n",
        "# gdcp"
      ],
      "execution_count": 46,
      "outputs": [
        {
          "output_type": "stream",
          "text": [
            "2018-12-04 15:12:25,026 225 139984283502464: Making request: POST https://accounts.google.com/o/oauth2/token\n",
            "2018-12-04 15:12:25,031 225 139984283502464: Starting new HTTPS connection (1): accounts.google.com\n",
            "2018-12-04 15:12:25,078 225 139984283502464: https://accounts.google.com:443 \"POST /o/oauth2/token HTTP/1.1\" 200 None\n",
            "2018-12-04 15:12:25,087 225 139984283502464: file_cache is unavailable when using oauth2client >= 4.0.0\n",
            "Traceback (most recent call last):\n",
            "  File \"/usr/local/lib/python3.6/dist-packages/googleapiclient/discovery_cache/__init__.py\", line 36, in autodetect\n",
            "    from google.appengine.api import memcache\n",
            "ModuleNotFoundError: No module named 'google.appengine'\n",
            "\n",
            "During handling of the above exception, another exception occurred:\n",
            "\n",
            "Traceback (most recent call last):\n",
            "  File \"/usr/local/lib/python3.6/dist-packages/googleapiclient/discovery_cache/file_cache.py\", line 33, in <module>\n",
            "    from oauth2client.contrib.locked_file import LockedFile\n",
            "ModuleNotFoundError: No module named 'oauth2client.contrib.locked_file'\n",
            "\n",
            "During handling of the above exception, another exception occurred:\n",
            "\n",
            "Traceback (most recent call last):\n",
            "  File \"/usr/local/lib/python3.6/dist-packages/googleapiclient/discovery_cache/file_cache.py\", line 37, in <module>\n",
            "    from oauth2client.locked_file import LockedFile\n",
            "ModuleNotFoundError: No module named 'oauth2client.locked_file'\n",
            "\n",
            "During handling of the above exception, another exception occurred:\n",
            "\n",
            "Traceback (most recent call last):\n",
            "  File \"/usr/local/lib/python3.6/dist-packages/googleapiclient/discovery_cache/__init__.py\", line 41, in autodetect\n",
            "    from . import file_cache\n",
            "  File \"/usr/local/lib/python3.6/dist-packages/googleapiclient/discovery_cache/file_cache.py\", line 41, in <module>\n",
            "    'file_cache is unavailable when using oauth2client >= 4.0.0')\n",
            "ImportError: file_cache is unavailable when using oauth2client >= 4.0.0\n",
            "2018-12-04 15:12:25,089 225 139984283502464: URL being requested: GET https://www.googleapis.com/discovery/v1/apis/drive/v3/rest\n",
            "2018-12-04 15:12:25,111 225 139984283502464: No project ID could be determined. Consider running `gcloud config set project` or setting the GOOGLE_CLOUD_PROJECT environment variable\n",
            "2018-12-04 15:12:25,124 225 139984283502464: URL being requested: GET https://www.googleapis.com/drive/v3/files?q=name+contains+%22Colab+Notebooks%22&alt=json\n",
            "2018-12-04 15:12:25,126 225 139984283502464: Making request: POST https://accounts.google.com/o/oauth2/token\n"
          ],
          "name": "stdout"
        }
      ]
    },
    {
      "metadata": {
        "id": "NcH_ki4r-NBa",
        "colab_type": "code",
        "outputId": "0bd16bc3-840a-4929-bd4a-e02a192361f1",
        "colab": {
          "base_uri": "https://localhost:8080/",
          "height": 86
        }
      },
      "cell_type": "code",
      "source": [
        "def get_last_filename(filebase: str) -> str:\n",
        "    remote_files = gdcp.saver.find_items(filebase)\n",
        "    sorted_filenames = sorted([x.name for x in remote_files])\n",
        "    if len(sorted_filenames) > 0:\n",
        "        last_filename = sorted_filenames[-1]\n",
        "    else:\n",
        "        last_filename = None\n",
        "    return last_filename\n",
        "\n",
        "attempt_reload_from_drive = True\n",
        "reload_from = '0290'\n",
        "last_filename = get_last_filename(filebase)\n",
        "\n",
        "if attempt_reload_from_drive and (last_filename is not None):\n",
        "    remote_files = gdcp.saver.find_items(last_filename)\n",
        "    remote_file = remote_files[0]\n",
        "    local_best_model_fn = remote_file.name\n",
        "    logger.info(\"Loading from {}\".format(local_best_model_fn))\n",
        "    gdcp.saver.download_file_to_folder(remote_file, local_best_model_fn)\n",
        "    model = load_model(local_best_model_fn)\n",
        "    initial_epoch = int(remote_file.name.split('_')[-1])\n",
        "else:\n",
        "    xshape = x_train.shape[1:]\n",
        "    yshape = y_train.shape[1]\n",
        "    model = Model(*juxt(identity, computational_graph(yshape))(Input(shape=xshape)))\n",
        "    optimizer = SGD(momentum=0.9)\n",
        "    model.compile(loss='categorical_crossentropy', optimizer=optimizer, metrics=['accuracy'])  # nesterov=True\n",
        "    initial_epoch = 0"
      ],
      "execution_count": 47,
      "outputs": [
        {
          "output_type": "stream",
          "text": [
            "2018-12-04 15:12:25,541 225 139984283502464: URL being requested: GET https://www.googleapis.com/drive/v3/files?q=name+contains+%22autoaugment%22&alt=json\n",
            "2018-12-04 15:12:25,943 225 139984283502464: URL being requested: GET https://www.googleapis.com/drive/v3/files?q=name+contains+%22autoaugment_0100%22&alt=json\n",
            "2018-12-04 15:12:26,548 225 139984283502464: Loading from autoaugment_0100\n",
            "2018-12-04 15:12:26,553 225 139984283502464: URL being requested: GET https://www.googleapis.com/drive/v3/files/1TtFUV5jKcIJodG12uTPTut7XGmtVWp7p?alt=media\n"
          ],
          "name": "stdout"
        }
      ]
    },
    {
      "metadata": {
        "id": "8GaFv9bBsyc1",
        "colab_type": "code",
        "colab": {
          "base_uri": "https://localhost:8080/",
          "height": 72
        },
        "outputId": "9fd9f5b0-1be5-4134-e259-6399c3e0bc14"
      },
      "cell_type": "code",
      "source": [
        "\n",
        "remote_files = gdcp.saver.find_items(filebase)\n",
        "sorted_filenames = sorted([x.name for x in remote_files])\n",
        "if len(sorted_filenames) > 0:\n",
        "    last_filename = sorted_filenames[-1]\n",
        "else:\n",
        "    last_filename = None\n",
        "print(sorted_filenames)\n",
        "\n",
        "# to_delete = gdcp.find_items()\n",
        "# gdcp.drive_service.files().delete(fileId=file.fid)"
      ],
      "execution_count": 48,
      "outputs": [
        {
          "output_type": "stream",
          "text": [
            "2018-12-04 15:12:50,677 225 139984283502464: URL being requested: GET https://www.googleapis.com/drive/v3/files?q=name+contains+%22autoaugment%22&alt=json\n",
            "['AutoAugment_withPPO.ipynb', 'AutoAugment_withPPO.ipynb', 'AutoAugment_withPPO.ipynb', 'AutoAugment_withPPO_tpu.ipynb', 'Copy of AutoAugment_withPPO.ipynb', 'Copy of AutoAugment_withPPO.ipynb', 'Copy of autoaugment.ipynb', 'Copy of autoaugment.ipynb', 'autoaugment.ipynb', 'autoaugment_0100']\n"
          ],
          "name": "stdout"
        }
      ]
    },
    {
      "metadata": {
        "id": "dTu0zJCdCMG6",
        "colab_type": "code",
        "colab": {}
      },
      "cell_type": "code",
      "source": [
        "def create_cutout_mask(img_height, img_width, num_channels, size):\n",
        "    \"\"\"Creates a zero mask used for cutout of shape `img_height` x `img_width`.\n",
        "\n",
        "    Args:\n",
        "      img_height: Height of image cutout mask will be applied to.\n",
        "      img_width: Width of image cutout mask will be applied to.\n",
        "      num_channels: Number of channels in the image.\n",
        "      size: Size of the zeros mask.\n",
        "\n",
        "    Returns:\n",
        "      A mask of shape `img_height` x `img_width` with all ones except for a\n",
        "      square of zeros of shape `size` x `size`. This mask is meant to be\n",
        "      elementwise multiplied with the original image. Additionally returns\n",
        "      the `upper_coord` and `lower_coord` which specify where the cutout mask\n",
        "      will be applied.\n",
        "    \"\"\"\n",
        "    assert img_height == img_width\n",
        "\n",
        "    # Sample center where cutout mask will be applied\n",
        "    height_loc = np.random.randint(low=0, high=img_height)\n",
        "    width_loc = np.random.randint(low=0, high=img_width)\n",
        "\n",
        "    # Determine upper right and lower left corners of patch\n",
        "    upper_coord = (max(0, height_loc - size // 2), max(0, width_loc - size // 2))\n",
        "    lower_coord = (min(img_height, height_loc + size // 2),\n",
        "                   min(img_width, width_loc + size // 2))\n",
        "    mask_height = lower_coord[0] - upper_coord[0]\n",
        "    mask_width = lower_coord[1] - upper_coord[1]\n",
        "    assert mask_height > 0\n",
        "    assert mask_width > 0\n",
        "\n",
        "    mask = np.ones((img_height, img_width, num_channels))\n",
        "    zeros = np.zeros((mask_height, mask_width, num_channels))\n",
        "    mask[upper_coord[0]:lower_coord[0], upper_coord[1]:lower_coord[1], :] = (zeros)\n",
        "    return mask, upper_coord, lower_coord\n",
        "\n",
        "\n",
        "def cutout_numpy(img, size=16):\n",
        "    \"\"\"Apply cutout with mask of shape `size` x `size` to `img`.\n",
        "\n",
        "    The cutout operation is from the paper https://arxiv.org/abs/1708.04552.\n",
        "    This operation applies a `size`x`size` mask of zeros to a random location\n",
        "    within `img`.\n",
        "\n",
        "    Args:\n",
        "      img: Numpy image that cutout will be applied to.\n",
        "      size: Height/width of the cutout mask that will be\n",
        "\n",
        "    Returns:\n",
        "      A numpy tensor that is the result of applying the cutout mask to `img`.\n",
        "    \"\"\"\n",
        "    img_height, img_width, num_channels = (img.shape[0], img.shape[1], img.shape[2])\n",
        "    assert len(img.shape) == 3\n",
        "    mask, _, _ = create_cutout_mask(img_height, img_width, num_channels, size)\n",
        "    return img * mask\n",
        "\n",
        "  \n",
        "def random_flip(x):\n",
        "    \"\"\"Flip the input x horizontally with 50% probability.\"\"\"\n",
        "    if np.random.rand(1)[0] > 0.5:\n",
        "        return np.fliplr(x)\n",
        "    return x\n",
        "\n",
        "\n",
        "def zero_pad_and_crop(img, amount=4):\n",
        "    \"\"\"Zero pad by `amount` zero pixels on each side then take a random crop.\n",
        "    Args:\n",
        "      img: numpy image that will be zero padded and cropped.\n",
        "      amount: amount of zeros to pad `img` with horizontally and verically.\n",
        "\n",
        "    Returns:\n",
        "      The cropped zero padded img. The returned numpy array will be of the same\n",
        "      shape as `img`.\n",
        "    \"\"\"\n",
        "    padded_img = np.zeros((img.shape[0] + amount * 2, img.shape[1] + amount * 2, img.shape[2]))\n",
        "    padded_img[amount:img.shape[0] + amount, amount:img.shape[1] + amount, :] = img\n",
        "    top = np.random.randint(low=0, high=2 * amount)\n",
        "    left = np.random.randint(low=0, high=2 * amount)\n",
        "    new_img = padded_img[top:top + img.shape[0], left:left + img.shape[1], :]\n",
        "    return new_img"
      ],
      "execution_count": 0,
      "outputs": []
    },
    {
      "metadata": {
        "id": "8dXO3DmuzsPH",
        "colab_type": "code",
        "colab": {}
      },
      "cell_type": "code",
      "source": [
        "def good_policies() -> List[tuple]:\n",
        "    \"\"\"AutoAugment policies found on analysis.\"\"\"\n",
        "    exp0_0 = [\n",
        "      [('flip_lr', 0.5, 5)],\n",
        "      [('TranslateY', 0.5, 5)],\n",
        "      [('TranslateX', 0.5, 5)],\n",
        "      [('ShearY', 0.5, 5)],\n",
        "      [('Solarize', 0.5, 5)],\n",
        "      [('Rotate', 0.5, 5)]\n",
        "    ]\n",
        "    return exp0_0\n",
        "\n",
        "# gp = good_policies()\n",
        "\n",
        "# https://software.intel.com/en-us/articles/hands-on-ai-part-14-image-data-preprocessing-and-augmentation\n",
        "batch_size = 128\n",
        "checkpoint_period = 5\n",
        "\n",
        "#             epoch_policy = self.good_policies[np.random.choice(len(self.good_policies))]\n",
        "#             final_img = augmentation_transforms.apply_policy(epoch_policy, data)\n",
        "#             final_img = augmentation_transforms.random_flip(augmentation_transforms.zero_pad_and_crop(final_img, 4))\n",
        "#             final_img = augmentation_transforms.cutout_numpy(final_img)  # Apply cutout\n",
        "MEANS = [0.49139968, 0.48215841, 0.44653091]\n",
        "STDS = [0.24703223, 0.24348513, 0.26158784]\n",
        "\n",
        "\n",
        "def pil_wrap(img):\n",
        "    return Image.fromarray(np.uint8((img * STDS + MEANS) * 255.0)).convert('RGBA')\n",
        "\n",
        "\n",
        "def pil_unwrap(pil_img):\n",
        "    pic_array = (np.array(pil_img.getdata()).reshape((32, 32, 4)) / 255.0)\n",
        "    i1, i2 = np.where(pic_array[:, :, 3] == 0)\n",
        "    pic_array = (pic_array[:, :, :3] - MEANS) / STDS\n",
        "    pic_array[i1, i2] = [0, 0, 0]\n",
        "    return pic_array\n",
        "\n",
        "  \n",
        "def autoaugment(x: np.ndarray) -> np.ndarray:\n",
        "    x = pil_unwrap(pil_wrap(x).transpose(Image.FLIP_LEFT_RIGHT))  # [('flip_lr', 0.5, 5)],\n",
        "    return x\n",
        "  \n",
        "    \n",
        "if filebase == 'autoaugment':\n",
        "    def preprocessing_function(x: np.ndarray) -> np.ndarray:\n",
        "        policy = lambda x: x\n",
        "        x = autoaugment(x)\n",
        "        x = random_flip(zero_pad_and_crop(x, 4))\n",
        "        x = cutout_numpy(x)\n",
        "        return x\n",
        "\n",
        "    horizontal_flip = False\n",
        "    width_shift_range = 0.0\n",
        "    height_shift_range = 0.0\n",
        "    epochs = 300\n",
        "elif filebase == 'wide_res_net':\n",
        "    def preprocessing_function(x: np.ndarray) -> np.ndarray:\n",
        "        return x\n",
        "    epochs = 200\n",
        "    width_shift_range = 0.125\n",
        "    height_shift_range = 0.125\n",
        "    horizontal_flip = True"
      ],
      "execution_count": 0,
      "outputs": []
    },
    {
      "metadata": {
        "id": "56AvWfTKCuBG",
        "colab_type": "code",
        "colab": {
          "base_uri": "https://localhost:8080/",
          "height": 379
        },
        "outputId": "eef76311-a5ba-46ed-a488-603be1f3491f"
      },
      "cell_type": "code",
      "source": [
        "CLASS_LABELS = np.array(['plane', 'car', 'bird', 'cat', 'deer', 'dog', 'frog', 'horse', 'ship', 'truck'])\n",
        "\n",
        "train_set_size = x_train.shape[0]\n",
        "# idx = 1000\n",
        "idx = np.random.randint(train_set_size)\n",
        "# idx = 2395\n",
        "label = CLASS_LABELS[y_train[idx, :].astype(bool)]\n",
        "plt.imshow(x_train[idx, :, :, :])\n",
        "plt.title(label)\n"
      ],
      "execution_count": 51,
      "outputs": [
        {
          "output_type": "execute_result",
          "data": {
            "text/plain": [
              "Text(0.5,1,\"['ship']\")"
            ]
          },
          "metadata": {
            "tags": []
          },
          "execution_count": 51
        },
        {
          "output_type": "display_data",
          "data": {
            "image/png": "[encoded data removed]",
            "text/plain": [
              "<matplotlib.figure.Figure at 0x7f5066813ef0>"
            ]
          },
          "metadata": {
            "tags": []
          }
        }
      ]
    },
    {
      "metadata": {
        "id": "dcDHEgy6Cv_Q",
        "colab_type": "code",
        "colab": {
          "base_uri": "https://localhost:8080/",
          "height": 364
        },
        "outputId": "3addf987-c2fa-4d83-9493-27cadb58217f"
      },
      "cell_type": "code",
      "source": [
        "plt.imshow(preprocessing_function(x_train[idx, :, :, :]))"
      ],
      "execution_count": 52,
      "outputs": [
        {
          "output_type": "execute_result",
          "data": {
            "text/plain": [
              "<matplotlib.image.AxesImage at 0x7f503824aa90>"
            ]
          },
          "metadata": {
            "tags": []
          },
          "execution_count": 52
        },
        {
          "output_type": "display_data",
          "data": {
            "image/png": "[encoded data removed]",
            "text/plain": [
              "<matplotlib.figure.Figure at 0x7f50667bc630>"
            ]
          },
          "metadata": {
            "tags": []
          }
        }
      ]
    },
    {
      "metadata": {
        "id": "hUiPj-S-yHT0",
        "colab_type": "code",
        "outputId": "6df0c3c1-6667-496e-d505-a70c12c3bf0d",
        "colab": {
          "base_uri": "https://localhost:8080/",
          "height": 732
        }
      },
      "cell_type": "code",
      "source": [
        "if use_tpu:\n",
        "    TPU_WORKER = 'grpc://' + os.environ['COLAB_TPU_ADDR']\n",
        "    using_single_core = False\n",
        "    tpu_cluster_resolver = tf.contrib.cluster_resolver.TPUClusterResolver(TPU_WORKER)\n",
        "    strategy = tf.contrib.tpu.TPUDistributionStrategy(tpu_cluster_resolver, using_single_core=using_single_core)\n",
        "    model = tf.contrib.tpu.keras_to_tpu_model(model, strategy=strategy)\n",
        "\n",
        "train_data = ImageDataGenerator(featurewise_center=True, \n",
        "                                featurewise_std_normalization=True, \n",
        "                                width_shift_range=width_shift_range, \n",
        "                                height_shift_range=height_shift_range, \n",
        "                                horizontal_flip=True, \n",
        "                                preprocessing_function=preprocessing_function)\n",
        "validation_data = ImageDataGenerator(featurewise_center=True, featurewise_std_normalization=True)\n",
        "test_data = ImageDataGenerator(featurewise_center=True, featurewise_std_normalization=True)\n",
        "\n",
        "for data in (train_data, validation_data, test_data):\n",
        "    data.fit(x_train)\n",
        "\n",
        "learning_rate_callback = LearningRateScheduler(partial(getitem, tuple(take(epochs, concat(repeat(0.1, 60), repeat(0.02, 60), repeat(0.004, 40), repeat(0.0008))))))\n",
        "tensorboard_callback = tf.keras.callbacks.TensorBoard(log_dir='./Graph', histogram_freq=0, write_graph=True, write_images=True)\n",
        "callbacks = [gdcp, learning_rate_callback]"
      ],
      "execution_count": 53,
      "outputs": [
        {
          "output_type": "stream",
          "text": [
            "INFO:tensorflow:Querying Tensorflow master (b'grpc://10.55.150.146:8470') for TPU system metadata.\n",
            "2018-12-04 15:12:51,498 225 139984283502464: Querying Tensorflow master (b'grpc://10.55.150.146:8470') for TPU system metadata.\n",
            "INFO:tensorflow:Found TPU system:\n",
            "2018-12-04 15:12:51,528 225 139984283502464: Found TPU system:\n",
            "INFO:tensorflow:*** Num TPU Cores: 8\n",
            "2018-12-04 15:12:51,535 225 139984283502464: *** Num TPU Cores: 8\n",
            "INFO:tensorflow:*** Num TPU Workers: 1\n",
            "2018-12-04 15:12:51,540 225 139984283502464: *** Num TPU Workers: 1\n",
            "INFO:tensorflow:*** Num TPU Cores Per Worker: 8\n",
            "2018-12-04 15:12:51,543 225 139984283502464: *** Num TPU Cores Per Worker: 8\n",
            "INFO:tensorflow:*** Available Device: _DeviceAttributes(/job:worker/replica:0/task:0/device:CPU:0, CPU, -1, 7537137804281476980)\n",
            "2018-12-04 15:12:51,546 225 139984283502464: *** Available Device: _DeviceAttributes(/job:worker/replica:0/task:0/device:CPU:0, CPU, -1, 7537137804281476980)\n",
            "INFO:tensorflow:*** Available Device: _DeviceAttributes(/job:worker/replica:0/task:0/device:XLA_CPU:0, XLA_CPU, 17179869184, 2102801527276436453)\n",
            "2018-12-04 15:12:51,551 225 139984283502464: *** Available Device: _DeviceAttributes(/job:worker/replica:0/task:0/device:XLA_CPU:0, XLA_CPU, 17179869184, 2102801527276436453)\n",
            "INFO:tensorflow:*** Available Device: _DeviceAttributes(/job:worker/replica:0/task:0/device:XLA_GPU:0, XLA_GPU, 17179869184, 9489554544045530140)\n",
            "2018-12-04 15:12:51,556 225 139984283502464: *** Available Device: _DeviceAttributes(/job:worker/replica:0/task:0/device:XLA_GPU:0, XLA_GPU, 17179869184, 9489554544045530140)\n",
            "INFO:tensorflow:*** Available Device: _DeviceAttributes(/job:worker/replica:0/task:0/device:TPU:0, TPU, 17179869184, 14002818196095259431)\n",
            "2018-12-04 15:12:51,561 225 139984283502464: *** Available Device: _DeviceAttributes(/job:worker/replica:0/task:0/device:TPU:0, TPU, 17179869184, 14002818196095259431)\n",
            "INFO:tensorflow:*** Available Device: _DeviceAttributes(/job:worker/replica:0/task:0/device:TPU:1, TPU, 17179869184, 16135546066888631212)\n",
            "2018-12-04 15:12:51,565 225 139984283502464: *** Available Device: _DeviceAttributes(/job:worker/replica:0/task:0/device:TPU:1, TPU, 17179869184, 16135546066888631212)\n",
            "INFO:tensorflow:*** Available Device: _DeviceAttributes(/job:worker/replica:0/task:0/device:TPU:2, TPU, 17179869184, 3177285766639354561)\n",
            "2018-12-04 15:12:51,571 225 139984283502464: *** Available Device: _DeviceAttributes(/job:worker/replica:0/task:0/device:TPU:2, TPU, 17179869184, 3177285766639354561)\n",
            "INFO:tensorflow:*** Available Device: _DeviceAttributes(/job:worker/replica:0/task:0/device:TPU:3, TPU, 17179869184, 2145251374578170523)\n",
            "2018-12-04 15:12:51,576 225 139984283502464: *** Available Device: _DeviceAttributes(/job:worker/replica:0/task:0/device:TPU:3, TPU, 17179869184, 2145251374578170523)\n",
            "INFO:tensorflow:*** Available Device: _DeviceAttributes(/job:worker/replica:0/task:0/device:TPU:4, TPU, 17179869184, 13736748749503239605)\n",
            "2018-12-04 15:12:51,580 225 139984283502464: *** Available Device: _DeviceAttributes(/job:worker/replica:0/task:0/device:TPU:4, TPU, 17179869184, 13736748749503239605)\n",
            "INFO:tensorflow:*** Available Device: _DeviceAttributes(/job:worker/replica:0/task:0/device:TPU:5, TPU, 17179869184, 10406354532623300346)\n",
            "2018-12-04 15:12:51,586 225 139984283502464: *** Available Device: _DeviceAttributes(/job:worker/replica:0/task:0/device:TPU:5, TPU, 17179869184, 10406354532623300346)\n",
            "INFO:tensorflow:*** Available Device: _DeviceAttributes(/job:worker/replica:0/task:0/device:TPU:6, TPU, 17179869184, 773760077001343173)\n",
            "2018-12-04 15:12:51,590 225 139984283502464: *** Available Device: _DeviceAttributes(/job:worker/replica:0/task:0/device:TPU:6, TPU, 17179869184, 773760077001343173)\n",
            "INFO:tensorflow:*** Available Device: _DeviceAttributes(/job:worker/replica:0/task:0/device:TPU:7, TPU, 17179869184, 14976539831654971684)\n",
            "2018-12-04 15:12:51,596 225 139984283502464: *** Available Device: _DeviceAttributes(/job:worker/replica:0/task:0/device:TPU:7, TPU, 17179869184, 14976539831654971684)\n",
            "INFO:tensorflow:*** Available Device: _DeviceAttributes(/job:worker/replica:0/task:0/device:TPU_SYSTEM:0, TPU_SYSTEM, 17179869184, 4196161037990676793)\n",
            "2018-12-04 15:12:51,600 225 139984283502464: *** Available Device: _DeviceAttributes(/job:worker/replica:0/task:0/device:TPU_SYSTEM:0, TPU_SYSTEM, 17179869184, 4196161037990676793)\n",
            "WARNING:tensorflow:tpu_model (from tensorflow.contrib.tpu.python.tpu.keras_support) is experimental and may change or be removed at any time, and without warning.\n",
            "2018-12-04 15:12:51,603 225 139984283502464: tpu_model (from tensorflow.contrib.tpu.python.tpu.keras_support) is experimental and may change or be removed at any time, and without warning.\n",
            "INFO:tensorflow:Cloning SGD {'lr': 0.019999999552965164, 'momentum': 0.8999999761581421, 'decay': 0.0, 'nesterov': False}\n",
            "2018-12-04 15:13:14,528 225 139984283502464: Cloning SGD {'lr': 0.019999999552965164, 'momentum': 0.8999999761581421, 'decay': 0.0, 'nesterov': False}\n",
            "INFO:tensorflow:Cloning SGD {'lr': 0.019999999552965164, 'momentum': 0.8999999761581421, 'decay': 0.0, 'nesterov': False}\n",
            "2018-12-04 15:13:38,482 225 139984283502464: Cloning SGD {'lr': 0.019999999552965164, 'momentum': 0.8999999761581421, 'decay': 0.0, 'nesterov': False}\n"
          ],
          "name": "stdout"
        }
      ]
    },
    {
      "metadata": {
        "id": "Pa-sMNkf7lgy",
        "colab_type": "code",
        "outputId": "f11b71ab-cb59-4e73-bc05-a18fd9a66c7a",
        "colab": {
          "base_uri": "https://localhost:8080/",
          "height": 1270
        }
      },
      "cell_type": "code",
      "source": [
        "train_generator = train_data.flow(x_train, y_train, batch_size=batch_size)\n",
        "validation_generator = validation_data.flow(x_validation, y_validation, batch_size=batch_size)\n",
        "\n",
        "steps_per_epoch = x_train.shape[0] // batch_size\n",
        "validation_steps = x_validation.shape[0] // batch_size\n",
        "\n",
        "results = model.fit_generator(train_generator,\n",
        "                              steps_per_epoch=steps_per_epoch,\n",
        "                              epochs=epochs,\n",
        "                              initial_epoch=initial_epoch,\n",
        "                              callbacks=callbacks,\n",
        "                              validation_data=validation_generator,\n",
        "                              validation_steps=validation_steps)"
      ],
      "execution_count": 0,
      "outputs": [
        {
          "output_type": "stream",
          "text": [
            "Epoch 101/300\n",
            "INFO:tensorflow:New input shapes; (re-)compiling: mode=train (# of cores 8), [TensorSpec(shape=(16,), dtype=tf.int32, name='core_id_40'), TensorSpec(shape=(16, 32, 32, 3), dtype=tf.float32, name='input_1_60'), TensorSpec(shape=(16, 10), dtype=tf.float32, name='dense_target_120')]\n",
            "2018-12-04 15:14:14,899 225 139984283502464: New input shapes; (re-)compiling: mode=train (# of cores 8), [TensorSpec(shape=(16,), dtype=tf.int32, name='core_id_40'), TensorSpec(shape=(16, 32, 32, 3), dtype=tf.float32, name='input_1_60'), TensorSpec(shape=(16, 10), dtype=tf.float32, name='dense_target_120')]\n",
            "INFO:tensorflow:Overriding default placeholder.\n",
            "2018-12-04 15:14:14,951 225 139984283502464: Overriding default placeholder.\n",
            "INFO:tensorflow:Cloning SGD {'lr': 0.019999999552965164, 'momentum': 0.8999999761581421, 'decay': 0.0, 'nesterov': False}\n",
            "2018-12-04 15:14:26,537 225 139984283502464: Cloning SGD {'lr': 0.019999999552965164, 'momentum': 0.8999999761581421, 'decay': 0.0, 'nesterov': False}\n",
            "INFO:tensorflow:Remapping placeholder for input_1\n",
            "2018-12-04 15:14:26,566 225 139984283502464: Remapping placeholder for input_1\n",
            "INFO:tensorflow:KerasCrossShard: <tensorflow.python.keras.optimizers.SGD object at 0x7f5034caea20> []\n",
            "2018-12-04 15:14:36,777 225 139984283502464: KerasCrossShard: <tensorflow.python.keras.optimizers.SGD object at 0x7f5034caea20> []\n",
            "INFO:tensorflow:Started compiling\n",
            "2018-12-04 15:14:42,041 225 139984283502464: Started compiling\n",
            "INFO:tensorflow:Finished compiling. Time elapsed: 67.6706953048706 secs\n",
            "2018-12-04 15:15:49,719 225 139984283502464: Finished compiling. Time elapsed: 67.6706953048706 secs\n",
            "INFO:tensorflow:Setting weights on TPU model.\n",
            "2018-12-04 15:15:51,142 225 139984283502464: Setting weights on TPU model.\n",
            "INFO:tensorflow:CPU -> TPU lr: 0.019999999552965164 {0.02}\n",
            "2018-12-04 15:16:11,456 225 139984283502464: CPU -> TPU lr: 0.019999999552965164 {0.02}\n",
            "INFO:tensorflow:CPU -> TPU momentum: 0.8999999761581421 {0.9}\n",
            "2018-12-04 15:16:27,294 225 139984283502464: CPU -> TPU momentum: 0.8999999761581421 {0.9}\n",
            "INFO:tensorflow:CPU -> TPU decay: 0.0 {0.0}\n",
            "2018-12-04 15:16:42,381 225 139984283502464: CPU -> TPU decay: 0.0 {0.0}\n",
            "WARNING:tensorflow:Cannot update non-variable config: nesterov\n",
            "2018-12-04 15:16:56,808 225 139984283502464: Cannot update non-variable config: nesterov\n",
            " 20/390 [>.............................] - ETA: 51:22 - loss: 0.5704 - acc: 0.9359INFO:tensorflow:New input shapes; (re-)compiling: mode=train (# of cores 8), [TensorSpec(shape=(10,), dtype=tf.int32, name='core_id_40'), TensorSpec(shape=(10, 32, 32, 3), dtype=tf.float32, name='input_1_60'), TensorSpec(shape=(10, 10), dtype=tf.float32, name='dense_target_120')]\n",
            "2018-12-04 15:17:01,525 225 139984283502464: New input shapes; (re-)compiling: mode=train (# of cores 8), [TensorSpec(shape=(10,), dtype=tf.int32, name='core_id_40'), TensorSpec(shape=(10, 32, 32, 3), dtype=tf.float32, name='input_1_60'), TensorSpec(shape=(10, 10), dtype=tf.float32, name='dense_target_120')]\n",
            "INFO:tensorflow:Overriding default placeholder.\n",
            "2018-12-04 15:17:01,563 225 139984283502464: Overriding default placeholder.\n",
            "INFO:tensorflow:Remapping placeholder for input_1\n",
            "2018-12-04 15:17:01,590 225 139984283502464: Remapping placeholder for input_1\n",
            "INFO:tensorflow:KerasCrossShard: <tensorflow.python.keras.optimizers.SGD object at 0x7f5034caea20> [<tf.Variable 'tpu_139982505737576/SGD/iterations:0' shape=() dtype=int64>, <tensorflow.contrib.tpu.python.tpu.keras_tpu_variables.ReplicatedVariable object at 0x7f502e416240>, <tensorflow.contrib.tpu.python.tpu.keras_tpu_variables.ReplicatedVariable object at 0x7f502e416710>, <tensorflow.contrib.tpu.python.tpu.keras_tpu_variables.ReplicatedVariable object at 0x7f502e4168d0>, <tensorflow.contrib.tpu.python.tpu.keras_tpu_variables.ReplicatedVariable object at 0x7f502e416ef0>, <tensorflow.contrib.tpu.python.tpu.keras_tpu_variables.ReplicatedVariable object at 0x7f502e370da0>, <tensorflow.contrib.tpu.python.tpu.keras_tpu_variables.ReplicatedVariable object at 0x7f502e33cd68>, <tensorflow.contrib.tpu.python.tpu.keras_tpu_variables.ReplicatedVariable object at 0x7f502e2e4c50>, <tensorflow.contrib.tpu.python.tpu.keras_tpu_variables.ReplicatedVariable object at 0x7f502e2d5c50>, <tensorflow.contrib.tpu.python.tpu.keras_tpu_variables.ReplicatedVariable object at 0x7f502e244eb8>, <tensorflow.contrib.tpu.python.tpu.keras_tpu_variables.ReplicatedVariable object at 0x7f502e1ebd30>, <tensorflow.contrib.tpu.python.tpu.keras_tpu_variables.ReplicatedVariable object at 0x7f502e2127b8>, <tensorflow.contrib.tpu.python.tpu.keras_tpu_variables.ReplicatedVariable object at 0x7f502e17fc18>, <tensorflow.contrib.tpu.python.tpu.keras_tpu_variables.ReplicatedVariable object at 0x7f502e14cf28>, <tensorflow.contrib.tpu.python.tpu.keras_tpu_variables.ReplicatedVariable object at 0x7f502e116278>, <tensorflow.contrib.tpu.python.tpu.keras_tpu_variables.ReplicatedVariable object at 0x7f502e089748>, <tensorflow.contrib.tpu.python.tpu.keras_tpu_variables.ReplicatedVariable object at 0x7f502e02eb70>, <tensorflow.contrib.tpu.python.tpu.keras_tpu_variables.ReplicatedVariable object at 0x7f502dff9e10>, <tensorflow.contrib.tpu.python.tpu.keras_tpu_variables.ReplicatedVariable object at 0x7f502df69f60>, <tensorflow.contrib.tpu.python.tpu.keras_tpu_variables.ReplicatedVariable object at 0x7f502df8e160>, <tensorflow.contrib.tpu.python.tpu.keras_tpu_variables.ReplicatedVariable object at 0x7f502df5d470>, <tensorflow.contrib.tpu.python.tpu.keras_tpu_variables.ReplicatedVariable object at 0x7f502decaef0>, <tensorflow.contrib.tpu.python.tpu.keras_tpu_variables.ReplicatedVariable object at 0x7f502de71f28>, <tensorflow.contrib.tpu.python.tpu.keras_tpu_variables.ReplicatedVariable object at 0x7f502de3ceb8>, <tensorflow.contrib.tpu.python.tpu.keras_tpu_variables.ReplicatedVariable object at 0x7f502ddacfd0>, <tensorflow.contrib.tpu.python.tpu.keras_tpu_variables.ReplicatedVariable object at 0x7f502dd7cc88>, <tensorflow.contrib.tpu.python.tpu.keras_tpu_variables.ReplicatedVariable object at 0x7f502dd22a20>, <tensorflow.contrib.tpu.python.tpu.keras_tpu_variables.ReplicatedVariable object at 0x7f502dd0ee48>, <tensorflow.contrib.tpu.python.tpu.keras_tpu_variables.ReplicatedVariable object at 0x7f502dcd7ef0>, <tensorflow.contrib.tpu.python.tpu.keras_tpu_variables.ReplicatedVariable object at 0x7f502dc7ddd8>, <tensorflow.contrib.tpu.python.tpu.keras_tpu_variables.ReplicatedVariable object at 0x7f502dbf1c18>, <tensorflow.contrib.tpu.python.tpu.keras_tpu_variables.ReplicatedVariable object at 0x7f502dbbdeb8>, <tensorflow.contrib.tpu.python.tpu.keras_tpu_variables.ReplicatedVariable object at 0x7f502dbe0f60>, <tensorflow.contrib.tpu.python.tpu.keras_tpu_variables.ReplicatedVariable object at 0x7f502db50cc0>, <tensorflow.contrib.tpu.python.tpu.keras_tpu_variables.ReplicatedVariable object at 0x7f502dac3d30>, <tensorflow.contrib.tpu.python.tpu.keras_tpu_variables.ReplicatedVariable object at 0x7f502da67f60>, <tensorflow.contrib.tpu.python.tpu.keras_tpu_variables.ReplicatedVariable object at 0x7f502da8be10>, <tensorflow.contrib.tpu.python.tpu.keras_tpu_variables.ReplicatedVariable object at 0x7f502da00518>, <tensorflow.contrib.tpu.python.tpu.keras_tpu_variables.ReplicatedVariable object at 0x7f502d9cfcf8>, <tensorflow.contrib.tpu.python.tpu.keras_tpu_variables.ReplicatedVariable object at 0x7f502d972400>, <tensorflow.contrib.tpu.python.tpu.keras_tpu_variables.ReplicatedVariable object at 0x7f502d960c18>, <tensorflow.contrib.tpu.python.tpu.keras_tpu_variables.ReplicatedVariable object at 0x7f502d8aef28>, <tensorflow.contrib.tpu.python.tpu.keras_tpu_variables.ReplicatedVariable object at 0x7f502d878278>, <tensorflow.contrib.tpu.python.tpu.keras_tpu_variables.ReplicatedVariable object at 0x7f502d7ea748>, <tensorflow.contrib.tpu.python.tpu.keras_tpu_variables.ReplicatedVariable object at 0x7f502d80eb70>, <tensorflow.contrib.tpu.python.tpu.keras_tpu_variables.ReplicatedVariable object at 0x7f502d7d9e10>, <tensorflow.contrib.tpu.python.tpu.keras_tpu_variables.ReplicatedVariable object at 0x7f502d749f60>, <tensorflow.contrib.tpu.python.tpu.keras_tpu_variables.ReplicatedVariable object at 0x7f502d6ee160>, <tensorflow.contrib.tpu.python.tpu.keras_tpu_variables.ReplicatedVariable object at 0x7f502d6bffd0>, <tensorflow.contrib.tpu.python.tpu.keras_tpu_variables.ReplicatedVariable object at 0x7f502d62cef0>, <tensorflow.contrib.tpu.python.tpu.keras_tpu_variables.ReplicatedVariable object at 0x7f502d651f28>, <tensorflow.contrib.tpu.python.tpu.keras_tpu_variables.ReplicatedVariable object at 0x7f502d61deb8>, <tensorflow.contrib.tpu.python.tpu.keras_tpu_variables.ReplicatedVariable object at 0x7f502d58cfd0>, <tensorflow.contrib.tpu.python.tpu.keras_tpu_variables.ReplicatedVariable object at 0x7f502d55ac88>, <tensorflow.contrib.tpu.python.tpu.keras_tpu_variables.ReplicatedVariable object at 0x7f502d501a20>, <tensorflow.contrib.tpu.python.tpu.keras_tpu_variables.ReplicatedVariable object at 0x7f502d470e48>, <tensorflow.contrib.tpu.python.tpu.keras_tpu_variables.ReplicatedVariable object at 0x7f502d43bef0>, <tensorflow.contrib.tpu.python.tpu.keras_tpu_variables.ReplicatedVariable object at 0x7f502d3e2dd8>, <tensorflow.contrib.tpu.python.tpu.keras_tpu_variables.ReplicatedVariable object at 0x7f502d3d4c18>, <tensorflow.contrib.tpu.python.tpu.keras_tpu_variables.ReplicatedVariable object at 0x7f502d341780>, <tensorflow.contrib.tpu.python.tpu.keras_tpu_variables.ReplicatedVariable object at 0x7f502d2e9dd8>, <tensorflow.contrib.tpu.python.tpu.keras_tpu_variables.ReplicatedVariable object at 0x7f502d30dcf8>, <tensorflow.contrib.tpu.python.tpu.keras_tpu_variables.ReplicatedVariable object at 0x7f502d27ff28>, <tensorflow.contrib.tpu.python.tpu.keras_tpu_variables.ReplicatedVariable object at 0x7f502d24bfd0>, <tensorflow.contrib.tpu.python.tpu.keras_tpu_variables.ReplicatedVariable object at 0x7f502d1f0dd8>, <tensorflow.contrib.tpu.python.tpu.keras_tpu_variables.ReplicatedVariable object at 0x7f502d162518>, <tensorflow.contrib.tpu.python.tpu.keras_tpu_variables.ReplicatedVariable object at 0x7f502d12dcf8>, <tensorflow.contrib.tpu.python.tpu.keras_tpu_variables.ReplicatedVariable object at 0x7f502d155400>, <tensorflow.contrib.tpu.python.tpu.keras_tpu_variables.ReplicatedVariable object at 0x7f502d0c1c18>, <tensorflow.contrib.tpu.python.tpu.keras_tpu_variables.ReplicatedVariable object at 0x7f502d08bf28>, <tensorflow.contrib.tpu.python.tpu.keras_tpu_variables.ReplicatedVariable object at 0x7f502d058278>, <tensorflow.contrib.tpu.python.tpu.keras_tpu_variables.ReplicatedVariable object at 0x7f502cfca748>, <tensorflow.contrib.tpu.python.tpu.keras_tpu_variables.ReplicatedVariable object at 0x7f502cf6cb70>, <tensorflow.contrib.tpu.python.tpu.keras_tpu_variables.ReplicatedVariable object at 0x7f502cf39e10>, <tensorflow.contrib.tpu.python.tpu.keras_tpu_variables.ReplicatedVariable object at 0x7f502ceacf60>, <tensorflow.contrib.tpu.python.tpu.keras_tpu_variables.ReplicatedVariable object at 0x7f502ced1160>, <tensorflow.contrib.tpu.python.tpu.keras_tpu_variables.ReplicatedVariable object at 0x7f502cea0fd0>, <tensorflow.contrib.tpu.python.tpu.keras_tpu_variables.ReplicatedVariable object at 0x7f502ce0eef0>, <tensorflow.contrib.tpu.python.tpu.keras_tpu_variables.ReplicatedVariable object at 0x7f502cdb3f28>, <tensorflow.contrib.tpu.python.tpu.keras_tpu_variables.ReplicatedVariable object at 0x7f502cd7ceb8>, <tensorflow.contrib.tpu.python.tpu.keras_tpu_variables.ReplicatedVariable object at 0x7f502cd4c9e8>]\n",
            "2018-12-04 15:17:06,168 225 139984283502464: KerasCrossShard: <tensorflow.python.keras.optimizers.SGD object at 0x7f5034caea20> [<tf.Variable 'tpu_139982505737576/SGD/iterations:0' shape=() dtype=int64>, <tensorflow.contrib.tpu.python.tpu.keras_tpu_variables.ReplicatedVariable object at 0x7f502e416240>, <tensorflow.contrib.tpu.python.tpu.keras_tpu_variables.ReplicatedVariable object at 0x7f502e416710>, <tensorflow.contrib.tpu.python.tpu.keras_tpu_variables.ReplicatedVariable object at 0x7f502e4168d0>, <tensorflow.contrib.tpu.python.tpu.keras_tpu_variables.ReplicatedVariable object at 0x7f502e416ef0>, <tensorflow.contrib.tpu.python.tpu.keras_tpu_variables.ReplicatedVariable object at 0x7f502e370da0>, <tensorflow.contrib.tpu.python.tpu.keras_tpu_variables.ReplicatedVariable object at 0x7f502e33cd68>, <tensorflow.contrib.tpu.python.tpu.keras_tpu_variables.ReplicatedVariable object at 0x7f502e2e4c50>, <tensorflow.contrib.tpu.python.tpu.keras_tpu_variables.ReplicatedVariable object at 0x7f502e2d5c50>, <tensorflow.contrib.tpu.python.tpu.keras_tpu_variables.ReplicatedVariable object at 0x7f502e244eb8>, <tensorflow.contrib.tpu.python.tpu.keras_tpu_variables.ReplicatedVariable object at 0x7f502e1ebd30>, <tensorflow.contrib.tpu.python.tpu.keras_tpu_variables.ReplicatedVariable object at 0x7f502e2127b8>, <tensorflow.contrib.tpu.python.tpu.keras_tpu_variables.ReplicatedVariable object at 0x7f502e17fc18>, <tensorflow.contrib.tpu.python.tpu.keras_tpu_variables.ReplicatedVariable object at 0x7f502e14cf28>, <tensorflow.contrib.tpu.python.tpu.keras_tpu_variables.ReplicatedVariable object at 0x7f502e116278>, <tensorflow.contrib.tpu.python.tpu.keras_tpu_variables.ReplicatedVariable object at 0x7f502e089748>, <tensorflow.contrib.tpu.python.tpu.keras_tpu_variables.ReplicatedVariable object at 0x7f502e02eb70>, <tensorflow.contrib.tpu.python.tpu.keras_tpu_variables.ReplicatedVariable object at 0x7f502dff9e10>, <tensorflow.contrib.tpu.python.tpu.keras_tpu_variables.ReplicatedVariable object at 0x7f502df69f60>, <tensorflow.contrib.tpu.python.tpu.keras_tpu_variables.ReplicatedVariable object at 0x7f502df8e160>, <tensorflow.contrib.tpu.python.tpu.keras_tpu_variables.ReplicatedVariable object at 0x7f502df5d470>, <tensorflow.contrib.tpu.python.tpu.keras_tpu_variables.ReplicatedVariable object at 0x7f502decaef0>, <tensorflow.contrib.tpu.python.tpu.keras_tpu_variables.ReplicatedVariable object at 0x7f502de71f28>, <tensorflow.contrib.tpu.python.tpu.keras_tpu_variables.ReplicatedVariable object at 0x7f502de3ceb8>, <tensorflow.contrib.tpu.python.tpu.keras_tpu_variables.ReplicatedVariable object at 0x7f502ddacfd0>, <tensorflow.contrib.tpu.python.tpu.keras_tpu_variables.ReplicatedVariable object at 0x7f502dd7cc88>, <tensorflow.contrib.tpu.python.tpu.keras_tpu_variables.ReplicatedVariable object at 0x7f502dd22a20>, <tensorflow.contrib.tpu.python.tpu.keras_tpu_variables.ReplicatedVariable object at 0x7f502dd0ee48>, <tensorflow.contrib.tpu.python.tpu.keras_tpu_variables.ReplicatedVariable object at 0x7f502dcd7ef0>, <tensorflow.contrib.tpu.python.tpu.keras_tpu_variables.ReplicatedVariable object at 0x7f502dc7ddd8>, <tensorflow.contrib.tpu.python.tpu.keras_tpu_variables.ReplicatedVariable object at 0x7f502dbf1c18>, <tensorflow.contrib.tpu.python.tpu.keras_tpu_variables.ReplicatedVariable object at 0x7f502dbbdeb8>, <tensorflow.contrib.tpu.python.tpu.keras_tpu_variables.ReplicatedVariable object at 0x7f502dbe0f60>, <tensorflow.contrib.tpu.python.tpu.keras_tpu_variables.ReplicatedVariable object at 0x7f502db50cc0>, <tensorflow.contrib.tpu.python.tpu.keras_tpu_variables.ReplicatedVariable object at 0x7f502dac3d30>, <tensorflow.contrib.tpu.python.tpu.keras_tpu_variables.ReplicatedVariable object at 0x7f502da67f60>, <tensorflow.contrib.tpu.python.tpu.keras_tpu_variables.ReplicatedVariable object at 0x7f502da8be10>, <tensorflow.contrib.tpu.python.tpu.keras_tpu_variables.ReplicatedVariable object at 0x7f502da00518>, <tensorflow.contrib.tpu.python.tpu.keras_tpu_variables.ReplicatedVariable object at 0x7f502d9cfcf8>, <tensorflow.contrib.tpu.python.tpu.keras_tpu_variables.ReplicatedVariable object at 0x7f502d972400>, <tensorflow.contrib.tpu.python.tpu.keras_tpu_variables.ReplicatedVariable object at 0x7f502d960c18>, <tensorflow.contrib.tpu.python.tpu.keras_tpu_variables.ReplicatedVariable object at 0x7f502d8aef28>, <tensorflow.contrib.tpu.python.tpu.keras_tpu_variables.ReplicatedVariable object at 0x7f502d878278>, <tensorflow.contrib.tpu.python.tpu.keras_tpu_variables.ReplicatedVariable object at 0x7f502d7ea748>, <tensorflow.contrib.tpu.python.tpu.keras_tpu_variables.ReplicatedVariable object at 0x7f502d80eb70>, <tensorflow.contrib.tpu.python.tpu.keras_tpu_variables.ReplicatedVariable object at 0x7f502d7d9e10>, <tensorflow.contrib.tpu.python.tpu.keras_tpu_variables.ReplicatedVariable object at 0x7f502d749f60>, <tensorflow.contrib.tpu.python.tpu.keras_tpu_variables.ReplicatedVariable object at 0x7f502d6ee160>, <tensorflow.contrib.tpu.python.tpu.keras_tpu_variables.ReplicatedVariable object at 0x7f502d6bffd0>, <tensorflow.contrib.tpu.python.tpu.keras_tpu_variables.ReplicatedVariable object at 0x7f502d62cef0>, <tensorflow.contrib.tpu.python.tpu.keras_tpu_variables.ReplicatedVariable object at 0x7f502d651f28>, <tensorflow.contrib.tpu.python.tpu.keras_tpu_variables.ReplicatedVariable object at 0x7f502d61deb8>, <tensorflow.contrib.tpu.python.tpu.keras_tpu_variables.ReplicatedVariable object at 0x7f502d58cfd0>, <tensorflow.contrib.tpu.python.tpu.keras_tpu_variables.ReplicatedVariable object at 0x7f502d55ac88>, <tensorflow.contrib.tpu.python.tpu.keras_tpu_variables.ReplicatedVariable object at 0x7f502d501a20>, <tensorflow.contrib.tpu.python.tpu.keras_tpu_variables.ReplicatedVariable object at 0x7f502d470e48>, <tensorflow.contrib.tpu.python.tpu.keras_tpu_variables.ReplicatedVariable object at 0x7f502d43bef0>, <tensorflow.contrib.tpu.python.tpu.keras_tpu_variables.ReplicatedVariable object at 0x7f502d3e2dd8>, <tensorflow.contrib.tpu.python.tpu.keras_tpu_variables.ReplicatedVariable object at 0x7f502d3d4c18>, <tensorflow.contrib.tpu.python.tpu.keras_tpu_variables.ReplicatedVariable object at 0x7f502d341780>, <tensorflow.contrib.tpu.python.tpu.keras_tpu_variables.ReplicatedVariable object at 0x7f502d2e9dd8>, <tensorflow.contrib.tpu.python.tpu.keras_tpu_variables.ReplicatedVariable object at 0x7f502d30dcf8>, <tensorflow.contrib.tpu.python.tpu.keras_tpu_variables.ReplicatedVariable object at 0x7f502d27ff28>, <tensorflow.contrib.tpu.python.tpu.keras_tpu_variables.ReplicatedVariable object at 0x7f502d24bfd0>, <tensorflow.contrib.tpu.python.tpu.keras_tpu_variables.ReplicatedVariable object at 0x7f502d1f0dd8>, <tensorflow.contrib.tpu.python.tpu.keras_tpu_variables.ReplicatedVariable object at 0x7f502d162518>, <tensorflow.contrib.tpu.python.tpu.keras_tpu_variables.ReplicatedVariable object at 0x7f502d12dcf8>, <tensorflow.contrib.tpu.python.tpu.keras_tpu_variables.ReplicatedVariable object at 0x7f502d155400>, <tensorflow.contrib.tpu.python.tpu.keras_tpu_variables.ReplicatedVariable object at 0x7f502d0c1c18>, <tensorflow.contrib.tpu.python.tpu.keras_tpu_variables.ReplicatedVariable object at 0x7f502d08bf28>, <tensorflow.contrib.tpu.python.tpu.keras_tpu_variables.ReplicatedVariable object at 0x7f502d058278>, <tensorflow.contrib.tpu.python.tpu.keras_tpu_variables.ReplicatedVariable object at 0x7f502cfca748>, <tensorflow.contrib.tpu.python.tpu.keras_tpu_variables.ReplicatedVariable object at 0x7f502cf6cb70>, <tensorflow.contrib.tpu.python.tpu.keras_tpu_variables.ReplicatedVariable object at 0x7f502cf39e10>, <tensorflow.contrib.tpu.python.tpu.keras_tpu_variables.ReplicatedVariable object at 0x7f502ceacf60>, <tensorflow.contrib.tpu.python.tpu.keras_tpu_variables.ReplicatedVariable object at 0x7f502ced1160>, <tensorflow.contrib.tpu.python.tpu.keras_tpu_variables.ReplicatedVariable object at 0x7f502cea0fd0>, <tensorflow.contrib.tpu.python.tpu.keras_tpu_variables.ReplicatedVariable object at 0x7f502ce0eef0>, <tensorflow.contrib.tpu.python.tpu.keras_tpu_variables.ReplicatedVariable object at 0x7f502cdb3f28>, <tensorflow.contrib.tpu.python.tpu.keras_tpu_variables.ReplicatedVariable object at 0x7f502cd7ceb8>, <tensorflow.contrib.tpu.python.tpu.keras_tpu_variables.ReplicatedVariable object at 0x7f502cd4c9e8>]\n",
            "INFO:tensorflow:Started compiling\n",
            "2018-12-04 15:17:12,580 225 139984283502464: Started compiling\n",
            "INFO:tensorflow:Finished compiling. Time elapsed: 62.00310730934143 secs\n",
            "2018-12-04 15:18:14,588 225 139984283502464: Finished compiling. Time elapsed: 62.00310730934143 secs\n",
            "389/390 [============================>.] - ETA: 0s - loss: 0.6057 - acc: 0.9177INFO:tensorflow:New input shapes; (re-)compiling: mode=eval (# of cores 8), [TensorSpec(shape=(16,), dtype=tf.int32, name='core_id_50'), TensorSpec(shape=(16, 32, 32, 3), dtype=tf.float32, name='input_1_60'), TensorSpec(shape=(16, 10), dtype=tf.float32, name='dense_target_120')]\n",
            "2018-12-04 15:19:20,688 225 139984283502464: New input shapes; (re-)compiling: mode=eval (# of cores 8), [TensorSpec(shape=(16,), dtype=tf.int32, name='core_id_50'), TensorSpec(shape=(16, 32, 32, 3), dtype=tf.float32, name='input_1_60'), TensorSpec(shape=(16, 10), dtype=tf.float32, name='dense_target_120')]\n",
            "INFO:tensorflow:Overriding default placeholder.\n",
            "2018-12-04 15:19:20,729 225 139984283502464: Overriding default placeholder.\n",
            "INFO:tensorflow:Cloning SGD {'lr': 0.019999999552965164, 'momentum': 0.8999999761581421, 'decay': 0.0, 'nesterov': False}\n",
            "2018-12-04 15:19:36,975 225 139984283502464: Cloning SGD {'lr': 0.019999999552965164, 'momentum': 0.8999999761581421, 'decay': 0.0, 'nesterov': False}\n",
            "INFO:tensorflow:Remapping placeholder for input_1\n",
            "2018-12-04 15:19:37,003 225 139984283502464: Remapping placeholder for input_1\n",
            "INFO:tensorflow:KerasCrossShard: <tensorflow.python.keras.optimizers.SGD object at 0x7f5025eec080> []\n",
            "2018-12-04 15:19:38,381 225 139984283502464: KerasCrossShard: <tensorflow.python.keras.optimizers.SGD object at 0x7f5025eec080> []\n",
            "INFO:tensorflow:Started compiling\n",
            "2018-12-04 15:19:38,704 225 139984283502464: Started compiling\n",
            "INFO:tensorflow:Finished compiling. Time elapsed: 45.67814612388611 secs\n",
            "2018-12-04 15:20:24,387 225 139984283502464: Finished compiling. Time elapsed: 45.67814612388611 secs\n",
            "Saving autoaugment_0100\n",
            "INFO:tensorflow:Copying TPU weights to the CPU\n",
            "2018-12-04 15:20:30,670 225 139984283502464: Copying TPU weights to the CPU\n",
            "INFO:tensorflow:TPU -> CPU lr: 0.019999999552965164\n",
            "2018-12-04 15:20:49,314 225 139984283502464: TPU -> CPU lr: 0.019999999552965164\n",
            "INFO:tensorflow:TPU -> CPU momentum: 0.8999999761581421\n",
            "2018-12-04 15:21:07,162 225 139984283502464: TPU -> CPU momentum: 0.8999999761581421\n",
            "INFO:tensorflow:TPU -> CPU decay: 0.0\n",
            "2018-12-04 15:21:24,549 225 139984283502464: TPU -> CPU decay: 0.0\n",
            "INFO:tensorflow:TPU -> CPU nesterov: False\n",
            "2018-12-04 15:21:43,087 225 139984283502464: TPU -> CPU nesterov: False\n",
            "WARNING:tensorflow:Cannot update non-variable config: nesterov\n",
            "2018-12-04 15:21:43,092 225 139984283502464: Cannot update non-variable config: nesterov\n",
            "Uploading to GDriveItem(name='Colab Notebooks', fid='1j8jxRjh63biSP-w9NSgp3pinbnviuhR7')\n",
            "2018-12-04 15:22:36,331 225 139984283502464: URL being requested: POST https://www.googleapis.com/upload/drive/v3/files?fields=id&alt=json&uploadType=resumable\n",
            "390/390 [==============================] - 506s 1s/step - loss: 0.6058 - acc: 0.9177 - val_loss: 0.7166 - val_acc: 0.9001\n",
            "Epoch 102/300\n",
            "390/390 [==============================] - 71s 183ms/step - loss: 0.6070 - acc: 0.9196 - val_loss: 0.7015 - val_acc: 0.8995\n",
            "Epoch 103/300\n",
            " 92/390 [======>.......................] - ETA: 53s - loss: 0.6039 - acc: 0.9206"
          ],
          "name": "stdout"
        }
      ]
    },
    {
      "metadata": {
        "id": "hCxz3qkRv8Qk",
        "colab_type": "code",
        "colab": {}
      },
      "cell_type": "code",
      "source": [
        "plt.plot(results.history['val_acc'])\n",
        "plt.title('model accuracy')\n",
        "plt.ylabel('accuracy')\n",
        "plt.xlabel('epoch')\n",
        "plt.legend(['train', 'test'], loc='upper left')\n",
        "plt.show()\n",
        "\n",
        "plt.plot(results.history['loss'])\n",
        "plt.plot(results.history['val_loss'])\n",
        "plt.title('model loss')\n",
        "plt.ylabel('loss')\n",
        "plt.xlabel('epoch')\n",
        "plt.legend(['train', 'test'], loc='upper left')\n",
        "plt.show()"
      ],
      "execution_count": 0,
      "outputs": []
    },
    {
      "metadata": {
        "id": "emNQQUH7USVm",
        "colab_type": "code",
        "colab": {}
      },
      "cell_type": "code",
      "source": [
        "# \"{:03d}\".format(1)"
      ],
      "execution_count": 0,
      "outputs": []
    },
    {
      "metadata": {
        "id": "eSrIbTe1x9jF",
        "colab_type": "code",
        "colab": {}
      },
      "cell_type": "code",
      "source": [
        "!git clone https://github.com/modestyachts/CIFAR-10.1.git  # Recht 2018 data\n",
        "\n",
        "cifar101_data = np.load('CIFAR-10.1/datasets/cifar10.1_v6_data.npy')\n",
        "cifar101_labels = np.load('CIFAR-10.1/datasets/cifar10.1_v6_labels.npy')\n",
        "cifar101_set_size = len(cifar101_labels)\n",
        "  \n",
        "y_test = tf.keras.utils.to_categorical(cifar101_labels)\n",
        "x_test = cifar101_data / 255\n",
        "\n",
        "# print(x_test.shape)\n",
        "# print(y_test.shape)"
      ],
      "execution_count": 0,
      "outputs": []
    },
    {
      "metadata": {
        "id": "_Kylh1aKuWtb",
        "colab_type": "code",
        "colab": {}
      },
      "cell_type": "code",
      "source": [
        "train_generator = train_data.flow(x_train, y_train, batch_size=batch_size)\n",
        "validation_generator = validation_data.flow(x_validation, y_validation, batch_size=batch_size)\n",
        "test_generator = test_data.flow(x_test, y_test, batch_size=batch_size)\n",
        "\n",
        "loss, acc = model.evaluate_generator(train_generator)\n",
        "logger.info(\"Train: Loss={}, acc={}\".format(loss, acc))\n",
        "\n",
        "loss, acc = model.evaluate_generator(validation_generator)\n",
        "logger.info(\"Validation: Loss={}, acc={}\".format(loss, acc))\n",
        "\n",
        "loss, acc = model.evaluate_generator(test_generator)\n",
        "logger.info(\"Test: Loss={}, acc={}\".format(loss, acc))"
      ],
      "execution_count": 0,
      "outputs": []
    },
    {
      "metadata": {
        "id": "QcZOvhvpwQLj",
        "colab_type": "code",
        "colab": {}
      },
      "cell_type": "code",
      "source": [
        "test_set_size = x_test.shape[0]\n",
        "idx = np.random.randint(test_set_size)\n",
        "# idx = 1113\n",
        "label = CLASS_LABELS[y_test[idx, :].astype(bool)]\n",
        "tit = \"{}: {}\".format(idx, label)\n",
        "plt.figure(figsize=(3,4))\n",
        "plt.imshow(x_test[idx, :, :, :])\n",
        "plt.title(tit)"
      ],
      "execution_count": 0,
      "outputs": []
    },
    {
      "metadata": {
        "id": "nyS6TwZniZSa",
        "colab_type": "code",
        "colab": {}
      },
      "cell_type": "code",
      "source": [
        "loss, acc = model.evaluate(x=x_test, y=y_test)\n",
        "logger.info(\"Loss={}, acc={}\".format(loss, acc))"
      ],
      "execution_count": 0,
      "outputs": []
    },
    {
      "metadata": {
        "id": "4VBIZMUaMzpU",
        "colab_type": "code",
        "colab": {}
      },
      "cell_type": "code",
      "source": [
        "predictions = model.predict(x=x_test)"
      ],
      "execution_count": 0,
      "outputs": []
    },
    {
      "metadata": {
        "id": "-jk07ETIOW3X",
        "colab_type": "code",
        "colab": {}
      },
      "cell_type": "code",
      "source": [
        "from collections import Counter\n",
        "_ = np.argmax(predictions, axis=1)\n",
        "Counter(_)\n",
        "Counter(cifar101_labels)"
      ],
      "execution_count": 0,
      "outputs": []
    },
    {
      "metadata": {
        "id": "We2C1GXUWeVP",
        "colab_type": "code",
        "colab": {}
      },
      "cell_type": "code",
      "source": [
        "checkpoint_dir \n",
        "latest = tf.train.latest_checkpoint(checkpoint_dir)\n",
        "print(latest)\n",
        "!ls -ltra $checkpoint_dir"
      ],
      "execution_count": 0,
      "outputs": []
    },
    {
      "metadata": {
        "id": "r5vBJMBC5HUR",
        "colab_type": "code",
        "colab": {}
      },
      "cell_type": "code",
      "source": [
        "# with open('./results/history.pickle', 'wb') as f:\n",
        "#     pickle.dump(results.history, f)\n",
        "\n",
        "# save_model(model, './results/model.h5')\n",
        "# del model"
      ],
      "execution_count": 0,
      "outputs": []
    }
  ]
}